{
  "cells": [
    {
      "cell_type": "markdown",
      "metadata": {
        "id": "view-in-github",
        "colab_type": "text"
      },
      "source": [
        "<a href=\"https://colab.research.google.com/github/sgcbayli024/Assignments/blob/main/Conor_Bayliss_Assignment_4.ipynb\" target=\"_parent\"><img src=\"https://colab.research.google.com/assets/colab-badge.svg\" alt=\"Open In Colab\"/></a>"
      ]
    },
    {
      "cell_type": "markdown",
      "metadata": {
        "id": "Giagxs6SxOX0"
      },
      "source": [
        "Firstly, let us import the code from the provided file dp_algos.py"
      ]
    },
    {
      "cell_type": "code",
      "execution_count": 1,
      "metadata": {
        "colab": {
          "base_uri": "https://localhost:8080/"
        },
        "id": "h_MoBqe370qa",
        "outputId": "a2fab65d-85e7-42bf-ee61-a4ea13dc494d"
      },
      "outputs": [
        {
          "output_type": "stream",
          "name": "stdout",
          "text": [
            "Collecting quantecon\n",
            "  Downloading quantecon-0.7.1-py3-none-any.whl (214 kB)\n",
            "\u001b[2K     \u001b[90m━━━━━━━━━━━━━━━━━━━━━━━━━━━━━━━━━━━━━━━\u001b[0m \u001b[32m214.8/214.8 kB\u001b[0m \u001b[31m3.1 MB/s\u001b[0m eta \u001b[36m0:00:00\u001b[0m\n",
            "\u001b[?25hRequirement already satisfied: numba>=0.49.0 in /usr/local/lib/python3.10/dist-packages (from quantecon) (0.56.4)\n",
            "Requirement already satisfied: numpy>=1.17.0 in /usr/local/lib/python3.10/dist-packages (from quantecon) (1.23.5)\n",
            "Requirement already satisfied: requests in /usr/local/lib/python3.10/dist-packages (from quantecon) (2.31.0)\n",
            "Requirement already satisfied: scipy>=1.5.0 in /usr/local/lib/python3.10/dist-packages (from quantecon) (1.11.3)\n",
            "Requirement already satisfied: sympy in /usr/local/lib/python3.10/dist-packages (from quantecon) (1.12)\n",
            "Requirement already satisfied: llvmlite<0.40,>=0.39.0dev0 in /usr/local/lib/python3.10/dist-packages (from numba>=0.49.0->quantecon) (0.39.1)\n",
            "Requirement already satisfied: setuptools in /usr/local/lib/python3.10/dist-packages (from numba>=0.49.0->quantecon) (67.7.2)\n",
            "Requirement already satisfied: charset-normalizer<4,>=2 in /usr/local/lib/python3.10/dist-packages (from requests->quantecon) (3.3.0)\n",
            "Requirement already satisfied: idna<4,>=2.5 in /usr/local/lib/python3.10/dist-packages (from requests->quantecon) (3.4)\n",
            "Requirement already satisfied: urllib3<3,>=1.21.1 in /usr/local/lib/python3.10/dist-packages (from requests->quantecon) (2.0.6)\n",
            "Requirement already satisfied: certifi>=2017.4.17 in /usr/local/lib/python3.10/dist-packages (from requests->quantecon) (2023.7.22)\n",
            "Requirement already satisfied: mpmath>=0.19 in /usr/local/lib/python3.10/dist-packages (from sympy->quantecon) (1.3.0)\n",
            "Installing collected packages: quantecon\n",
            "Successfully installed quantecon-0.7.1\n"
          ]
        }
      ],
      "source": [
        "!pip install quantecon"
      ]
    },
    {
      "cell_type": "code",
      "execution_count": 2,
      "metadata": {
        "id": "jnSYfYfnxKE_"
      },
      "outputs": [],
      "source": [
        "import jax"
      ]
    },
    {
      "cell_type": "code",
      "execution_count": 3,
      "metadata": {
        "id": "TPdTiR4M44bl"
      },
      "outputs": [],
      "source": [
        "import numpy as np\n",
        "import jax.numpy as jnp"
      ]
    },
    {
      "cell_type": "code",
      "execution_count": 4,
      "metadata": {
        "id": "izjXJGEt7xhP"
      },
      "outputs": [],
      "source": [
        "import matplotlib.pyplot as plt"
      ]
    },
    {
      "cell_type": "code",
      "execution_count": 5,
      "metadata": {
        "id": "0o_kW14y7znJ"
      },
      "outputs": [],
      "source": [
        "import quantecon as qe\n",
        "import numpy as np\n",
        "from collections import namedtuple\n",
        "from numba import njit, prange, int32"
      ]
    },
    {
      "cell_type": "markdown",
      "metadata": {
        "id": "_FdVgt7R4_Op"
      },
      "source": [
        "Value Function Iteration"
      ]
    },
    {
      "cell_type": "code",
      "execution_count": 285,
      "metadata": {
        "id": "enQLCPMP445D"
      },
      "outputs": [],
      "source": [
        "def value_function_iteration(v_init,\n",
        "                             T,\n",
        "                            get_greedy,\n",
        "                             tolerance=1e-6,        # Error tolerance\n",
        "                             max_iter=10_000,       # Max iteration bound\n",
        "                             print_step=25,         # Print at multiples\n",
        "                             verbose=True,\n",
        "                             usejax=False):\n",
        "    \"\"\"\n",
        "        Compute v_star via VFI and then compute greedy.\n",
        "    \"\"\"\n",
        "    array_lib = jnp if usejax else np\n",
        "\n",
        "    v = v_init\n",
        "    error = tolerance + 1\n",
        "    k = 1\n",
        "    while error > tolerance and k <= max_iter:\n",
        "        v_new = T(v)\n",
        "        error = array_lib.max(array_lib.abs(v_new - v))\n",
        "        if verbose and (k % print_step) == 0:\n",
        "            print(f\"Completed iteration {k} with error {error}.\")\n",
        "        v = v_new\n",
        "        k += 1\n",
        "    if error > tolerance:\n",
        "        print(f\"Warning: Iteration hit upper bound {max_iter}.\")\n",
        "    elif verbose:\n",
        "        print(f\"Terminated successfully in {k} iterations.\")\n",
        "    v_star = v\n",
        "    σ_star = get_greedy(v_star)\n",
        "    return v_star, σ_star"
      ]
    },
    {
      "cell_type": "markdown",
      "metadata": {
        "id": "EaDxslLW5Cbz"
      },
      "source": [
        "Optimistic Policy Iteration"
      ]
    },
    {
      "cell_type": "code",
      "execution_count": 247,
      "metadata": {
        "id": "pnlx-6Se48Ss"
      },
      "outputs": [],
      "source": [
        "def optimistic_policy_iteration(v_init,\n",
        "                                T_σ,\n",
        "                                #model,\n",
        "                                get_greedy,\n",
        "                                tolerance=1e-6,\n",
        "                                max_iter=1_000,\n",
        "                                print_step=10,\n",
        "                                m=60,\n",
        "                                usejax=False):\n",
        "    \"Optimistic policy iteration routine.\"\n",
        "\n",
        "    array_lib = jnp if usejax else np\n",
        "    v = v_init\n",
        "    error = tolerance + 1\n",
        "    k = 1\n",
        "    while error > tolerance and k < max_iter:\n",
        "        last_v = v\n",
        "        σ = get_greedy(v)\n",
        "        for i in range(m):\n",
        "            #v = T_σ(v, σ)\n",
        "            v = T_σ(v, σ)\n",
        "        error = array_lib.max(array_lib.abs(v - last_v))\n",
        "        if k % print_step == 0:\n",
        "            print(f\"Completed iteration {k} with error {error}.\")\n",
        "        k += 1\n",
        "    return v, get_greedy(v)"
      ]
    },
    {
      "cell_type": "markdown",
      "metadata": {
        "id": "z876VpeL5E-Z"
      },
      "source": [
        "Howard Policy Iteration"
      ]
    },
    {
      "cell_type": "code",
      "execution_count": 249,
      "metadata": {
        "id": "oTvRDMlt49DN"
      },
      "outputs": [],
      "source": [
        "def howard_policy_iteration(v_init,\n",
        "                            #model,\n",
        "                            get_value,\n",
        "                            get_greedy,\n",
        "                            usejax=False):\n",
        "    \"Howard policy iteration routine.\"\n",
        "    array_lib = jnp if usejax else np\n",
        "\n",
        "    σ = get_greedy(v_init)\n",
        "    i, error = 0, 1.0\n",
        "    while error > 0:\n",
        "        v_σ = get_value(σ)\n",
        "        σ_new = get_greedy(v_σ)\n",
        "        error = array_lib.max(array_lib.abs(σ_new - σ))\n",
        "        σ = σ_new\n",
        "        i = i + 1\n",
        "        print(f\"Concluded loop {i} with error {error}.\")\n",
        "    return v_σ, σ"
      ]
    },
    {
      "cell_type": "markdown",
      "metadata": {
        "id": "k6v7ut595JPu"
      },
      "source": [
        "Next, let us import the code from the provided file model.py. Note that I have added @jax.jit to all function definitions."
      ]
    },
    {
      "cell_type": "code",
      "execution_count": 250,
      "metadata": {
        "id": "VG_Vmx685Q8_"
      },
      "outputs": [],
      "source": [
        "\n",
        "def f(y, a, d):\n",
        "    \" Inventory update rule. \"\n",
        "    return jnp.maximum(y - d, 0) + a"
      ]
    },
    {
      "cell_type": "code",
      "execution_count": 251,
      "metadata": {
        "id": "6aMXaRNp5SX1"
      },
      "outputs": [],
      "source": [
        "# NamedTuple to hold model parameters\n",
        "Params = namedtuple(\n",
        "         \"Params\", (\"K\", \"c\", \"κ\", \"p\"))"
      ]
    },
    {
      "cell_type": "code",
      "execution_count": 252,
      "metadata": {
        "id": "gMkIq_PX5TW_"
      },
      "outputs": [],
      "source": [
        "\n",
        "def build_R(params, y_vals, d_vals, ϕ_vals):\n",
        "    \" Build the R array using loops. \"\n",
        "    K, c, κ, p = params\n",
        "    n_y = K + 1\n",
        "    R = jnp.zeros((n_y, n_y, n_y))\n",
        "    for y in y_vals:\n",
        "        for yp in y_vals:\n",
        "            for a in range(n_y - y):\n",
        "                hits = f(y, a, d_vals) == yp\n",
        "                R[y, a, yp] = jnp.sum(hits * ϕ_vals)\n",
        "    return R"
      ]
    },
    {
      "cell_type": "code",
      "execution_count": 253,
      "metadata": {
        "id": "q8xKtwm25WSd"
      },
      "outputs": [],
      "source": [
        "\n",
        "def build_R_vectorized(params, y_vals, d_vals, ϕ_vals):\n",
        "    K, c, κ, p = params\n",
        "    n_y = K + 1\n",
        "    n_d = len(d_vals)\n",
        "    # Create R[y, a, yp, d] and then sum out last dimension\n",
        "    y  = jnp.reshape(y_vals, (n_y, 1, 1, 1))\n",
        "    a  = jnp.reshape(y_vals, (1, n_y, 1, 1))\n",
        "    yp = jnp.reshape(y_vals, (1, 1, n_y, 1))\n",
        "    d  = jnp.reshape(d_vals, (1, 1, 1, n_d))\n",
        "    ϕ  = jnp.reshape(ϕ_vals, (1, 1, 1, n_d))\n",
        "    feasible = a <= K - y\n",
        "    temp = (f(y, a, d_vals) == yp) * feasible\n",
        "    R = np.sum(temp * ϕ_vals, axis=3)\n",
        "    return R"
      ]
    },
    {
      "cell_type": "code",
      "execution_count": 254,
      "metadata": {
        "id": "zBK3wBQQ5Y1F"
      },
      "outputs": [],
      "source": [
        "\n",
        "def build_r(params, y_vals, d_vals, ϕ_vals):\n",
        "    K, c, κ, p = params\n",
        "    n_y = K + 1\n",
        "    r = jnp.full((n_y, n_y), -jnp.inf)\n",
        "    for y in y_vals:\n",
        "        revenue = jnp.sum(jnp.minimum(y, d_vals) * ϕ_vals)\n",
        "        for a in range(n_y - y):\n",
        "            cost = c * a + κ * (a > 0)\n",
        "            r[y, a] = revenue - cost\n",
        "    return r"
      ]
    },
    {
      "cell_type": "code",
      "execution_count": 255,
      "metadata": {
        "id": "T5Ojg0mA5kxW"
      },
      "outputs": [],
      "source": [
        "\n",
        "def build_r_vectorized(params, y_vals, d_vals, ϕ_vals):\n",
        "    K, c, κ, p = params\n",
        "    n_y = K + 1\n",
        "    n_d = len(d_vals)\n",
        "    y = jnp.reshape(y_vals, (n_y, 1))\n",
        "    d = jnp.reshape(d_vals, (1, n_d))\n",
        "    ϕ = jnp.reshape(ϕ_vals, (1, n_d))\n",
        "    revenue = jnp.minimum(y, d) * ϕ\n",
        "    exp_revenue = jnp.sum(revenue, axis=1)\n",
        "    exp_revenue = jnp.reshape(exp_revenue, (n_y, 1))\n",
        "    a = jnp.reshape(y_vals, (1, n_y))\n",
        "    cost = c * a + κ * (a > 0)\n",
        "    exp_profit = exp_revenue - cost\n",
        "    feasible = a <= K - y\n",
        "    r = jnp.where(feasible, exp_profit, -jnp.inf)\n",
        "    return r"
      ]
    },
    {
      "cell_type": "code",
      "execution_count": 256,
      "metadata": {
        "id": "fvZFUhsh5vI2"
      },
      "outputs": [],
      "source": [
        "# NamedTuple to hold arrays used to solve model\n",
        "Arrays = namedtuple(\n",
        "         \"Arrays\", (\"r\", \"R\", \"y_vals\", \"z_vals\", \"Q\"))"
      ]
    },
    {
      "cell_type": "code",
      "execution_count": 257,
      "metadata": {
        "id": "bdto7O355vlo"
      },
      "outputs": [],
      "source": [
        "# NamedTuple to store parameters, array sizes, and arrays\n",
        "Model = namedtuple(\"Model\", (\"params\", \"sizes\", \"arrays\"))"
      ]
    },
    {
      "cell_type": "code",
      "execution_count": 258,
      "metadata": {
        "id": "zuJUVPss5xpQ"
      },
      "outputs": [],
      "source": [
        "\n",
        "def create_sdd_inventory_model(ρ=0.98,        # Z persistence\n",
        "                               ν=0.002,       # Z volatility\n",
        "                               n_z=25,        # size of Z grid\n",
        "                               b=0.97,        # Z mean\n",
        "                               K=100,         # max inventory\n",
        "                               d_max=100,     # max value of d\n",
        "                               c=0.2,         # unit cost\n",
        "                               κ=0.8,         # fixed cost\n",
        "                               p=0.6):        # demand parameter\n",
        "\n",
        "    n_y = K + 1               # size of state space\n",
        "    y_vals = jnp.arange(n_y)   # inventory levels 0,...,K\n",
        "\n",
        "    # Construct r and R arrays\n",
        "    def ϕ(d):\n",
        "        return (1 - p)**d * p\n",
        "    d_vals = jnp.arange(d_max)\n",
        "    ϕ_vals = ϕ(d_vals)\n",
        "\n",
        "    # Build the exogenous discount process\n",
        "    mc = qe.tauchen(n_z, ρ, ν)\n",
        "    z_vals, Q = mc.state_values + b, mc.P\n",
        "    ρL = jnp.max(jnp.abs(jnp.linalg.eigvals(z_vals * Q)))\n",
        "    if ρL >= 1:\n",
        "        raise NotImplementedError(\"Error: ρ(L) ≥ 1.\")\n",
        "    else:\n",
        "        print(f\"Building model with ρ(L) = {ρL}\")\n",
        "\n",
        "    # Build namedtuples and return them\n",
        "    params = Params(K=K, c=c, κ=κ, p=p)\n",
        "    r = build_r_vectorized(params, y_vals, d_vals, ϕ_vals)\n",
        "    R = build_R_vectorized(params, y_vals, d_vals, ϕ_vals)\n",
        "\n",
        "    arrays = Arrays(r=r, R=R, y_vals=y_vals, z_vals=z_vals, Q=Q)\n",
        "    sizes = n_y, n_z\n",
        "    return Model(params=params, sizes=sizes, arrays=arrays)"
      ]
    },
    {
      "cell_type": "markdown",
      "metadata": {
        "id": "XfuwVcLR55er"
      },
      "source": [
        "Next, import the code from the file plot_code.py"
      ]
    },
    {
      "cell_type": "code",
      "execution_count": 315,
      "metadata": {
        "id": "-yKrEjaz5_i0"
      },
      "outputs": [],
      "source": [
        "\n",
        "def sim_inventories(model, σ_star, ts_length, Y_init=0, seed=500):\n",
        "    \"\"\"\n",
        "        Simulate inventory dynamics and interest rates given an\n",
        "        optimal policy σ_star.\n",
        "    \"\"\"\n",
        "    # Set up\n",
        "    np.random.seed(seed)\n",
        "    K, c, κ, p = model.params\n",
        "    r, R, y_vals, z_vals, Q = model.arrays\n",
        "\n",
        "    # Generate Markov chain for discount factor\n",
        "    z_mc = qe.MarkovChain(Q, z_vals)\n",
        "    i_z = z_mc.simulate_indices(ts_length, init=1, random_state=seed)\n",
        "\n",
        "    # Generate corresponding inventory series\n",
        "    Y = np.zeros(ts_length, dtype=int)\n",
        "    Y[0] = Y_init\n",
        "    for t in range(ts_length - 1):\n",
        "        D = np.random.geometric(p) - 1\n",
        "        a = σ_star[Y[t], i_z[t]]\n",
        "        Y[t+1] = f(Y[t],  a,  D)\n",
        "\n",
        "    # Return both series\n",
        "    return Y, z_vals[i_z]"
      ]
    },
    {
      "cell_type": "code",
      "execution_count": 316,
      "metadata": {
        "id": "eVzKsS515_dB"
      },
      "outputs": [],
      "source": [
        "\n",
        "def plot_ts(model,\n",
        "            σ_star,\n",
        "            ts_length=400,\n",
        "            fontsize=12,\n",
        "            figname=\"ts.pdf\",\n",
        "            savefig=False):\n",
        "    \"\"\"\n",
        "        Solve model, plot a time series of inventory and interest rates.\n",
        "\n",
        "    \"\"\"\n",
        "\n",
        "    # Obtain inventory and discount factor series\n",
        "    Y, Z = sim_inventories(model, σ_star, ts_length)\n",
        "    r = (1 / Z) - 1 # calculate interest rate from discount factors\n",
        "\n",
        "    # Plot\n",
        "    fig, axes = plt.subplots(2, 1, figsize=(9, 5.5))\n",
        "    ax = axes[0]\n",
        "    ax.plot(Y, label=\"inventory\", alpha=0.7)\n",
        "    ax.set_xlabel(\"time\", fontsize=fontsize)\n",
        "    ax.legend(fontsize=fontsize, frameon=False)\n",
        "    ax.set_ylim(0, jnp.max(Y)+3)\n",
        "    ax = axes[1]\n",
        "    ax.plot(r, label=\"$r_t$\", alpha=0.7)\n",
        "    ax.set_xlabel(\"$t$\", fontsize=fontsize)\n",
        "    ax.legend(fontsize=fontsize, frameon=False)\n",
        "    plt.tight_layout()\n",
        "    plt.show()\n",
        "    if savefig:\n",
        "        fig.savefig(figname)"
      ]
    },
    {
      "cell_type": "code",
      "execution_count": 318,
      "metadata": {
        "id": "6jM8jtgo6Hd3"
      },
      "outputs": [],
      "source": [
        "\n",
        "def plot_timing(hpi_time,\n",
        "                vfi_time,\n",
        "                opi_times,\n",
        "                m_vals,\n",
        "                figname=\"timing.pdf\",\n",
        "                fontsize=12,\n",
        "                savefig=False):\n",
        "    \"\"\"\n",
        "    Plot relative timing of different algorithms.\n",
        "\n",
        "    \"\"\"\n",
        "    fig, ax = plt.subplots(figsize=(9, 5.2))\n",
        "\n",
        "    y_values = (np.full(len(m_vals), vfi_time),\n",
        "                np.full(len(m_vals), hpi_time),\n",
        "                opi_times)\n",
        "    labels = \"VFI\", \"HPI\", \"OPI\"\n",
        "\n",
        "    for y_vals, label in zip(y_values, labels):\n",
        "        ax.plot(m_vals, y_vals, lw=2, label=label)\n",
        "\n",
        "    ax.legend(fontsize=fontsize, frameon=False)\n",
        "    ax.set_xlabel(\"$m$\", fontsize=fontsize)\n",
        "    ax.set_ylabel(\"time\", fontsize=fontsize)\n",
        "    plt.show()\n",
        "\n",
        "    if savefig:\n",
        "        fig.savefig(figname)"
      ]
    },
    {
      "cell_type": "code",
      "execution_count": 262,
      "metadata": {
        "id": "yr5kQCex6O9L"
      },
      "outputs": [],
      "source": [
        "f = jax.jit(f)"
      ]
    },
    {
      "cell_type": "code",
      "execution_count": 312,
      "metadata": {
        "id": "fatNSw1D6Pac"
      },
      "outputs": [],
      "source": [
        "\n",
        "def B(v, params, sizes, arrays):\n",
        "    \"\"\"\n",
        "    B(y, a, v) = r(y, a) + β(z) Σ_{y′, z′} v(y′, z′) R(y, a, y′) Q(z, z′)\n",
        "\n",
        "    Jax implementation\n",
        "    \"\"\"\n",
        "    # Set up\n",
        "    K, c, κ, p = model.params\n",
        "    r, R, y_vals, z_vals, Q = model.arrays\n",
        "    n_y, n_z = model.sizes\n",
        "    #I, J =len(y_vals) , len(z_vals)\n",
        "    #Reshape and broadcast over (i, j, i, i', j')\n",
        "    #Reshape and broadcast over (y, z, a, y', z')\n",
        "    Q  = jnp.reshape(Q,         (1, n_z, 1, 1, n_z))\n",
        "    R  = jnp.reshape(R,         (n_y, 1, n_y, n_y, 1))\n",
        "    v  = jnp.reshape(v,         (1, 1, 1, n_y, n_z))\n",
        "\n",
        "    EV = jnp.sum(v*R*Q, axis=(3, 4))\n",
        "    #Now, reshape and broadcast over  (y, z, a)\n",
        "    β  = jnp.reshape(z_vals, (1, n_z, 1))\n",
        "    r  = jnp.reshape(r,      (n_y, 1, n_y))\n",
        "    return r + β * EV"
      ]
    },
    {
      "cell_type": "code",
      "execution_count": 264,
      "metadata": {
        "id": "wL75XE876lkC"
      },
      "outputs": [],
      "source": [
        "\n",
        "def T(v, params, sizes, arrays):\n",
        "    \"\"\"The Bellman operator.\"\"\"\n",
        "    return jnp.max(B(v, params, sizes, arrays), axis=2)"
      ]
    },
    {
      "cell_type": "code",
      "execution_count": 265,
      "metadata": {
        "colab": {
          "base_uri": "https://localhost:8080/"
        },
        "id": "0LcGT9fyYEZA",
        "outputId": "6cd43c9b-53c3-43bf-ae12-2197257ef2d3"
      },
      "outputs": [
        {
          "output_type": "stream",
          "name": "stdout",
          "text": [
            "Building model with ρ(L) = 0.9751706719398499\n"
          ]
        }
      ],
      "source": [
        "model = create_sdd_inventory_model()\n",
        "\n",
        "n_y, n_z = model.sizes\n",
        "v = jnp.zeros((n_y, n_z))\n",
        "vp = T(v, model.params, model.sizes, model.arrays)"
      ]
    },
    {
      "cell_type": "code",
      "execution_count": 266,
      "metadata": {
        "colab": {
          "base_uri": "https://localhost:8080/"
        },
        "id": "Ug2Drp6lYEZB",
        "outputId": "735ebde6-34b3-4d3b-e8c3-d1986fc96e02"
      },
      "outputs": [
        {
          "output_type": "execute_result",
          "data": {
            "text/plain": [
              "(101, 25)"
            ]
          },
          "metadata": {},
          "execution_count": 266
        }
      ],
      "source": [
        "vp.shape"
      ]
    },
    {
      "cell_type": "code",
      "execution_count": 291,
      "metadata": {
        "id": "aO9Wg_LZ6eSx"
      },
      "outputs": [],
      "source": [
        "\n",
        "def compute_r_σ(σ, params, sizes, arrays):\n",
        "    \"\"\"\n",
        "    Compute the array r_σ[i, j] = r[i, j, σ[i, j]], which gives current\n",
        "    rewards given policy σ.\n",
        "    \"\"\"\n",
        "\n",
        "    # Unpack model\n",
        "    K, c, κ, p = model.params\n",
        "    r, R, y_vals, z_vals, Q = model.arrays\n",
        "    n_y, n_z = model.sizes\n",
        "    z_idx=jnp.arange(n_z)\n",
        "    #z_idx=jnp.arange(z_vals)\n",
        "    #I, J =len(y_vals) , len(z_vals)\n",
        "    #N = I * J\n",
        "    # Compute r_σ[i, j]\n",
        "    y = jnp.reshape(y_vals, (n_y, 1))\n",
        "    z = jnp.reshape(z_idx, (1, n_z))\n",
        "    r_σ = r[y, σ[y,z]]\n",
        "\n",
        "    return r_σ"
      ]
    },
    {
      "cell_type": "code",
      "execution_count": 292,
      "metadata": {
        "id": "xM_TwrYi6gMv"
      },
      "outputs": [],
      "source": [
        "\n",
        "def compute_R_σ(σ, params, sizes, arrays):\n",
        "    \"\"\"\n",
        "    Compute the array r_σ[i, j] = r[i, j, σ[i, j]], which gives current\n",
        "    rewards given policy σ.\n",
        "    \"\"\"\n",
        "\n",
        "    # Unpack model\n",
        "    K, c, κ, p = model.params\n",
        "    r, R, y_vals, z_vals, Q = model.arrays\n",
        "    n_y, n_z = model.sizes\n",
        "    z_idx=jnp.arange(n_z)\n",
        "    #z_idx=jnp.arange(z_vals)\n",
        "    #I, J =len(y_vals), len(z_vals)\n",
        "    #N = I * J\n",
        "    # Compute r_σ[i, j]\n",
        "    y = jnp.reshape(y_vals, (n_y, 1, 1))\n",
        "    z = jnp.reshape(z_idx, (1, n_z, 1))\n",
        "    yp = jnp.reshape(y_vals, (1, 1, n_y))\n",
        "    R_σ = R[y, σ[y,z], yp]\n",
        "\n",
        "    return R_σ"
      ]
    },
    {
      "cell_type": "code",
      "execution_count": 304,
      "metadata": {
        "id": "rQwN09Fn3ZpC"
      },
      "outputs": [],
      "source": [
        "def compute_L_σ(σ, params, sizes, arrays):\n",
        "    #load in the necessary parameters\n",
        "    K, c, κ, p = model.params\n",
        "    r, R, y_vals, z_vals, Q = model.arrays\n",
        "    n_y, n_z = model.sizes\n",
        "    R_σ=compute_R_σ(σ, params, sizes, arrays)\n",
        "    #I, J =len(y_vals) , len(z_vals)\n",
        "    #N = I * J\n",
        "    #z_idx=jnp.arange(n_z)\n",
        "    # broadcast over (y,   z,   y',  z')\n",
        "    β = jnp.reshape(z_vals, (1, n_z, 1, 1))\n",
        "    R_σ=jnp.reshape(R_σ, (n_y, n_z, n_y, 1))\n",
        "    Q=jnp.reshape(Q, (1, n_z, 1, n_z))\n",
        "    #compute L_σ\n",
        "    L_σ=β*R_σ*Q\n",
        "    return L_σ"
      ]
    },
    {
      "cell_type": "code",
      "execution_count": 224,
      "metadata": {
        "id": "QwmsISLv6nhM"
      },
      "outputs": [],
      "source": [
        "\n",
        "def get_greedy(v, params, sizes, arrays):\n",
        "    \"Computes a v-greedy policy, returned as a set of indices.\"\n",
        "    return jnp.argmax(B(v, params, sizes, arrays), axis=2)"
      ]
    },
    {
      "cell_type": "code",
      "execution_count": 306,
      "metadata": {
        "id": "0OjmmpYL6igs"
      },
      "outputs": [],
      "source": [
        "\n",
        "def T_σ(v, σ, params, sizes, arrays):\n",
        "    \"The policy operator.\"\n",
        "    K, c, κ, p = model.params\n",
        "    r, R, y_vals, z_vals, Q = model.arrays\n",
        "    n_y, n_z = len(y_vals) , len(z_vals)\n",
        "    #I, J =len(y_vals) , len(z_vals)\n",
        "   # N = I * J\n",
        "\n",
        "    r_σ = compute_r_σ(σ, params, sizes, arrays)\n",
        "    L_σ = compute_L_σ(σ, params, sizes, arrays)\n",
        "    v = jnp.reshape(v, (1, 1, n_y, n_z))\n",
        "    return r_σ + jnp.sum(v * L_σ, axis=(2, 3))"
      ]
    },
    {
      "cell_type": "code",
      "execution_count": 243,
      "metadata": {
        "id": "uMJuexUm3aJ_"
      },
      "outputs": [],
      "source": [
        "\n",
        "def get_value(σ, params, sizes, arrays):\n",
        "    # Unpack\n",
        "    K, c, κ, p = model.params\n",
        "    r, R, y_vals, z_vals, Q = model.arrays\n",
        "    #n_y, n_z = model.sizes\n",
        "    n_y, n_z =len(y_vals) , len(z_vals)\n",
        "    N = n_y * n_z\n",
        "    #Load in r_sigma and L_sigma\n",
        "    r_σ = compute_r_σ(σ, params, sizes, arrays)\n",
        "    L_σ = compute_L_σ(σ, params, sizes, arrays)\n",
        "    #Reshape and broadcast over (N,N)\n",
        "    L_σ=jnp.reshape(L_σ, (N,N))\n",
        "    r_σ=jnp.reshape(r_σ, N)\n",
        "    #Create an identity matrix, Id of size N\n",
        "    Id = jnp.identity(N)\n",
        "    #Solve for v_sigma\n",
        "    v_σ=jnp.linalg.solve(Id - L_σ, r_σ)\n",
        "    #Reshape back into (y,z)\n",
        "    return jnp.reshape(v_σ, (n_y,n_z))"
      ]
    },
    {
      "cell_type": "code",
      "execution_count": 268,
      "metadata": {
        "id": "QTryFh_W6u0u"
      },
      "outputs": [],
      "source": [
        "## Custom solvers\n",
        "\n",
        "def solve_model_jax(model, algorithm=\"OPI\", **kwargs):\n",
        "    \"\"\"\n",
        "    General purpose solver.\n",
        "\n",
        "    algorithm : OPI, VFI or HPI\n",
        "\n",
        "    \"\"\"\n",
        "\n",
        "    # Set up\n",
        "    params, sizes, arrays = model\n",
        "    n_y, n_z = model.sizes\n",
        "    v_init = jnp.zeros((n_y, n_z))\n",
        "\n",
        "    # Solve\n",
        "    print(f\"Solving model using {algorithm}.\")\n",
        "    match algorithm:\n",
        "        case \"OPI\":\n",
        "            solver = optimistic_policy_iteration\n",
        "            args = (v_init,\n",
        "                #lambda v, σ: T_σ(v, σ, model),\n",
        "                lambda v, σ: T_σ(v, σ, params, sizes, arrays),\n",
        "                #lambda v: get_greedy(v, model)\n",
        "                lambda σ: get_greedy(σ, params, sizes, arrays))\n",
        "        case \"HPI\":\n",
        "            solver = howard_policy_iteration\n",
        "            args = (v_init,\n",
        "                #lambda σ: get_value(σ, model)\n",
        "                lambda σ: get_value(σ, params, sizes, arrays),\n",
        "                #lambda v: get_greedy(v, model)\n",
        "                lambda v: get_greedy(v, params, sizes, arrays))\n",
        "        case \"VFI\":\n",
        "            solver = value_function_iteration\n",
        "            args = (v_init,\n",
        "                #lambda v: T(v, model)\n",
        "                lambda v: T(v, params, sizes, arrays),\n",
        "                #lambda v: get_greedy(v, model)\n",
        "                lambda v: get_greedy(v, params, sizes, arrays))\n",
        "        case _:\n",
        "            raise ValueError(\"Algorithm must be in {OPI, VFI, HPI}\")\n",
        "\n",
        "    qe.tic()\n",
        "    kwargs['usejax'] = True\n",
        "    v_star, σ_star = solver(*args, **kwargs)\n",
        "    run_time = qe.toc()\n",
        "    print(f\"Solved model using {algorithm} in {run_time:.5f} seconds.\")\n",
        "\n",
        "    return v_star, σ_star"
      ]
    },
    {
      "cell_type": "code",
      "execution_count": 269,
      "metadata": {
        "id": "Lw-RBBXd7K0O"
      },
      "outputs": [],
      "source": [
        "\n",
        "def test_timing_jax(model,\n",
        "                      m_vals=range(1, 100, 20),\n",
        "                      figname=\"numba_timing.pdf\",\n",
        "                      savefig=False):\n",
        "    \"\"\"\n",
        "    Plot relative timing of different algorithms.\n",
        "\n",
        "    \"\"\"\n",
        "\n",
        "    qe.tic()\n",
        "    _, σ_pi = solve_model_jax(model, algorithm=\"HPI\")\n",
        "    hpi_time = qe.toc()\n",
        "\n",
        "    qe.tic()\n",
        "    _, σ_vfi = solve_model_jax(model, algorithm=\"VFI\")\n",
        "    vfi_time = qe.toc()\n",
        "\n",
        "    error = jnp.max(jnp.abs(σ_vfi - σ_pi))\n",
        "    if error:\n",
        "        print(\"Warning: VFI policy deviated with max error {error}.\")\n",
        "\n",
        "    opi_times = []\n",
        "    for m in m_vals:\n",
        "        qe.tic()\n",
        "        _, σ_opi = solve_model_jax(model, algorithm=\"OPI\", m=m)\n",
        "        opi_times.append(qe.toc())\n",
        "\n",
        "        error = jnp.max(jnp.abs(σ_opi - σ_pi))\n",
        "        if error:\n",
        "            print(\"Warning: OPI policy deviated with max error {error}.\")\n",
        "\n",
        "    plot_timing(hpi_time,\n",
        "                vfi_time,\n",
        "                opi_times,\n",
        "                m_vals,\n",
        "                figname=figname,\n",
        "                savefig=False)\n",
        "\n",
        "    return hpi_time, vfi_time, opi_times"
      ]
    },
    {
      "cell_type": "markdown",
      "metadata": {
        "id": "s_ecRJnF7STT"
      },
      "source": [
        "Now, let's solve."
      ]
    },
    {
      "cell_type": "code",
      "execution_count": 293,
      "metadata": {
        "id": "k7Mn0nfwGzmx"
      },
      "outputs": [],
      "source": [
        "B = jax.jit(B, static_argnums=(2,))"
      ]
    },
    {
      "cell_type": "code",
      "execution_count": 294,
      "metadata": {
        "id": "KT1oeJt9HEIv"
      },
      "outputs": [],
      "source": [
        "compute_r_σ = jax.jit(compute_r_σ, static_argnums=(2,))"
      ]
    },
    {
      "cell_type": "code",
      "execution_count": 295,
      "metadata": {
        "id": "E5kfmwUNHFT6"
      },
      "outputs": [],
      "source": [
        "compute_R_σ = jax.jit(compute_R_σ, static_argnums=(2,))"
      ]
    },
    {
      "cell_type": "code",
      "execution_count": 296,
      "metadata": {
        "id": "ZRfYB0y3HGcr"
      },
      "outputs": [],
      "source": [
        "compute_L_σ = jax.jit(compute_L_σ, static_argnums=(2,))"
      ]
    },
    {
      "cell_type": "code",
      "execution_count": 297,
      "metadata": {
        "id": "NlcmA_mpHHmQ"
      },
      "outputs": [],
      "source": [
        "T = jax.jit(T, static_argnums=(2,))"
      ]
    },
    {
      "cell_type": "code",
      "execution_count": 298,
      "metadata": {
        "id": "b32PzlcmHIuf"
      },
      "outputs": [],
      "source": [
        "T_σ = jax.jit(T_σ, static_argnums=(3,))"
      ]
    },
    {
      "cell_type": "code",
      "execution_count": 299,
      "metadata": {
        "id": "Ycuzi8BXHJ1W"
      },
      "outputs": [],
      "source": [
        "get_greedy = jax.jit(get_greedy, static_argnums=(2,))"
      ]
    },
    {
      "cell_type": "code",
      "execution_count": 300,
      "metadata": {
        "id": "Vols8jFCHK2w"
      },
      "outputs": [],
      "source": [
        "get_value = jax.jit(get_value, static_argnums=(2,))"
      ]
    },
    {
      "cell_type": "code",
      "execution_count": 301,
      "metadata": {
        "colab": {
          "base_uri": "https://localhost:8080/"
        },
        "id": "aooD5uw77VHs",
        "outputId": "ea96baad-19c4-4acf-88e5-16732aea08a7"
      },
      "outputs": [
        {
          "output_type": "stream",
          "name": "stdout",
          "text": [
            "Building model with ρ(L) = 0.9751706719398499\n"
          ]
        }
      ],
      "source": [
        "model = create_sdd_inventory_model()"
      ]
    },
    {
      "cell_type": "code",
      "execution_count": 286,
      "metadata": {
        "colab": {
          "base_uri": "https://localhost:8080/"
        },
        "id": "EoKgBL3Q7XP1",
        "outputId": "f5e1381a-46fd-4c72-a030-fa8e1242ca98"
      },
      "outputs": [
        {
          "output_type": "stream",
          "name": "stdout",
          "text": [
            "Solving model using VFI.\n",
            "Completed iteration 25 with error 0.5612945556640625.\n",
            "Completed iteration 50 with error 0.3776073455810547.\n",
            "Completed iteration 75 with error 0.227813720703125.\n",
            "Completed iteration 100 with error 0.12967300415039062.\n",
            "Completed iteration 125 with error 0.06840896606445312.\n",
            "Completed iteration 150 with error 0.03108978271484375.\n",
            "Completed iteration 175 with error 0.014713287353515625.\n",
            "Completed iteration 200 with error 0.00772857666015625.\n",
            "Completed iteration 225 with error 0.004138946533203125.\n",
            "Completed iteration 250 with error 0.0022125244140625.\n",
            "Completed iteration 275 with error 0.001186370849609375.\n",
            "Completed iteration 300 with error 0.00063323974609375.\n",
            "Completed iteration 325 with error 0.00034332275390625.\n",
            "Completed iteration 350 with error 0.00018310546875.\n",
            "Completed iteration 375 with error 9.918212890625e-05.\n",
            "Completed iteration 400 with error 5.7220458984375e-05.\n",
            "Completed iteration 425 with error 3.4332275390625e-05.\n",
            "Completed iteration 450 with error 1.9073486328125e-05.\n",
            "Completed iteration 475 with error 1.1444091796875e-05.\n",
            "Completed iteration 500 with error 1.1444091796875e-05.\n",
            "Completed iteration 525 with error 1.1444091796875e-05.\n",
            "Completed iteration 550 with error 7.62939453125e-06.\n",
            "Completed iteration 575 with error 7.62939453125e-06.\n",
            "Completed iteration 600 with error 7.62939453125e-06.\n",
            "Completed iteration 625 with error 3.814697265625e-06.\n",
            "Terminated successfully in 639 iterations.\n",
            "TOC: Elapsed: 0:19:5.84\n",
            "Solved model using VFI in 1145.84378 seconds.\n"
          ]
        }
      ],
      "source": [
        "### Solve by VFI\n",
        "\n",
        "v_star, σ_star = solve_model_jax(model, algorithm=\"VFI\")"
      ]
    },
    {
      "cell_type": "code",
      "execution_count": 308,
      "metadata": {
        "id": "4rTtkUJp7aeR",
        "colab": {
          "base_uri": "https://localhost:8080/"
        },
        "outputId": "92e57c49-6a65-4a4d-e08b-f619f578f46a"
      },
      "outputs": [
        {
          "output_type": "stream",
          "name": "stdout",
          "text": [
            "Solving model using HPI.\n",
            "Concluded loop 1 with error 66.\n",
            "Concluded loop 2 with error 60.\n",
            "Concluded loop 3 with error 32.\n",
            "Concluded loop 4 with error 32.\n",
            "Concluded loop 5 with error 24.\n",
            "Concluded loop 6 with error 24.\n",
            "Concluded loop 7 with error 24.\n",
            "Concluded loop 8 with error 0.\n",
            "TOC: Elapsed: 0:00:19.33\n",
            "Solved model using HPI in 19.33383 seconds.\n"
          ]
        }
      ],
      "source": [
        "### Solve by HPI\n",
        "\n",
        "v_star, σ_star = solve_model_jax(model, algorithm=\"HPI\")"
      ]
    },
    {
      "cell_type": "code",
      "execution_count": 307,
      "metadata": {
        "id": "L1E-RkyE7f0I",
        "colab": {
          "base_uri": "https://localhost:8080/"
        },
        "outputId": "e37be3c2-1e37-4663-bf52-3c04b2233040"
      },
      "outputs": [
        {
          "output_type": "stream",
          "name": "stdout",
          "text": [
            "Solving model using OPI.\n",
            "Completed iteration 10 with error 0.003993988037109375.\n",
            "TOC: Elapsed: 0:00:56.62\n",
            "Solved model using OPI in 56.62271 seconds.\n"
          ]
        }
      ],
      "source": [
        "### Solve by OPI\n",
        "\n",
        "v_star, σ_star = solve_model_jax(model, algorithm=\"OPI\")"
      ]
    },
    {
      "cell_type": "code",
      "execution_count": 319,
      "metadata": {
        "id": "v8pvgxop7iKh",
        "colab": {
          "base_uri": "https://localhost:8080/",
          "height": 557
        },
        "outputId": "0e66b934-a6b9-44e6-83ae-14be5a693039"
      },
      "outputs": [
        {
          "output_type": "display_data",
          "data": {
            "text/plain": [
              "<Figure size 900x550 with 2 Axes>"
            ],
            "image/png": "[encoded data removed]"
          },
          "metadata": {}
        }
      ],
      "source": [
        "plot_ts(model, σ_star, figname=\"jax_ts.pdf\", savefig=False)"
      ]
    },
    {
      "cell_type": "code",
      "execution_count": 310,
      "metadata": {
        "id": "UbzIp2-b7ku6",
        "colab": {
          "base_uri": "https://localhost:8080/",
          "height": 876
        },
        "outputId": "904aa32e-32e5-4bfa-d516-cd85d668ac3f"
      },
      "outputs": [
        {
          "output_type": "stream",
          "name": "stdout",
          "text": [
            "Solving model using HPI.\n",
            "Concluded loop 1 with error 66.\n",
            "Concluded loop 2 with error 60.\n",
            "Concluded loop 3 with error 32.\n",
            "Concluded loop 4 with error 32.\n",
            "Concluded loop 5 with error 24.\n",
            "Concluded loop 6 with error 24.\n",
            "Concluded loop 7 with error 24.\n",
            "Concluded loop 8 with error 0.\n",
            "TOC: Elapsed: 0:00:18.64\n",
            "Solved model using HPI in 18.64748 seconds.\n",
            "TOC: Elapsed: 0:00:18.64\n",
            "Solving model using VFI.\n",
            "Completed iteration 25 with error 0.5612945556640625.\n",
            "Completed iteration 50 with error 0.3776073455810547.\n",
            "Completed iteration 75 with error 0.227813720703125.\n",
            "Completed iteration 100 with error 0.12967300415039062.\n",
            "Completed iteration 125 with error 0.06840896606445312.\n",
            "Completed iteration 150 with error 0.03108978271484375.\n",
            "Completed iteration 175 with error 0.014713287353515625.\n",
            "Completed iteration 200 with error 0.00772857666015625.\n",
            "Completed iteration 225 with error 0.004138946533203125.\n",
            "Completed iteration 250 with error 0.0022125244140625.\n",
            "Completed iteration 275 with error 0.001186370849609375.\n",
            "Completed iteration 300 with error 0.00063323974609375.\n",
            "Completed iteration 325 with error 0.00034332275390625.\n",
            "Completed iteration 350 with error 0.00018310546875.\n",
            "Completed iteration 375 with error 9.918212890625e-05.\n",
            "Completed iteration 400 with error 5.7220458984375e-05.\n",
            "Completed iteration 425 with error 3.4332275390625e-05.\n"
          ]
        },
        {
          "output_type": "error",
          "ename": "KeyboardInterrupt",
          "evalue": "ignored",
          "traceback": [
            "\u001b[0;31m---------------------------------------------------------------------------\u001b[0m",
            "\u001b[0;31mKeyboardInterrupt\u001b[0m                         Traceback (most recent call last)",
            "\u001b[0;32m<ipython-input-310-7be91a33d4e9>\u001b[0m in \u001b[0;36m<cell line: 3>\u001b[0;34m()\u001b[0m\n\u001b[1;32m      1\u001b[0m \u001b[0;31m### Test timing\u001b[0m\u001b[0;34m\u001b[0m\u001b[0;34m\u001b[0m\u001b[0m\n\u001b[1;32m      2\u001b[0m \u001b[0;34m\u001b[0m\u001b[0m\n\u001b[0;32m----> 3\u001b[0;31m \u001b[0mhpi_time\u001b[0m\u001b[0;34m,\u001b[0m \u001b[0mvfi_time\u001b[0m\u001b[0;34m,\u001b[0m \u001b[0mopi_times\u001b[0m \u001b[0;34m=\u001b[0m \u001b[0mtest_timing_jax\u001b[0m\u001b[0;34m(\u001b[0m\u001b[0mmodel\u001b[0m\u001b[0;34m)\u001b[0m\u001b[0;34m\u001b[0m\u001b[0;34m\u001b[0m\u001b[0m\n\u001b[0m",
            "\u001b[0;32m<ipython-input-269-3fb084fea689>\u001b[0m in \u001b[0;36mtest_timing_jax\u001b[0;34m(model, m_vals, figname, savefig)\u001b[0m\n\u001b[1;32m     13\u001b[0m \u001b[0;34m\u001b[0m\u001b[0m\n\u001b[1;32m     14\u001b[0m     \u001b[0mqe\u001b[0m\u001b[0;34m.\u001b[0m\u001b[0mtic\u001b[0m\u001b[0;34m(\u001b[0m\u001b[0;34m)\u001b[0m\u001b[0;34m\u001b[0m\u001b[0;34m\u001b[0m\u001b[0m\n\u001b[0;32m---> 15\u001b[0;31m     \u001b[0m_\u001b[0m\u001b[0;34m,\u001b[0m \u001b[0mσ_vfi\u001b[0m \u001b[0;34m=\u001b[0m \u001b[0msolve_model_jax\u001b[0m\u001b[0;34m(\u001b[0m\u001b[0mmodel\u001b[0m\u001b[0;34m,\u001b[0m \u001b[0malgorithm\u001b[0m\u001b[0;34m=\u001b[0m\u001b[0;34m\"VFI\"\u001b[0m\u001b[0;34m)\u001b[0m\u001b[0;34m\u001b[0m\u001b[0;34m\u001b[0m\u001b[0m\n\u001b[0m\u001b[1;32m     16\u001b[0m     \u001b[0mvfi_time\u001b[0m \u001b[0;34m=\u001b[0m \u001b[0mqe\u001b[0m\u001b[0;34m.\u001b[0m\u001b[0mtoc\u001b[0m\u001b[0;34m(\u001b[0m\u001b[0;34m)\u001b[0m\u001b[0;34m\u001b[0m\u001b[0;34m\u001b[0m\u001b[0m\n\u001b[1;32m     17\u001b[0m \u001b[0;34m\u001b[0m\u001b[0m\n",
            "\u001b[0;32m<ipython-input-268-b9672b877c73>\u001b[0m in \u001b[0;36msolve_model_jax\u001b[0;34m(model, algorithm, **kwargs)\u001b[0m\n\u001b[1;32m     43\u001b[0m     \u001b[0mqe\u001b[0m\u001b[0;34m.\u001b[0m\u001b[0mtic\u001b[0m\u001b[0;34m(\u001b[0m\u001b[0;34m)\u001b[0m\u001b[0;34m\u001b[0m\u001b[0;34m\u001b[0m\u001b[0m\n\u001b[1;32m     44\u001b[0m     \u001b[0mkwargs\u001b[0m\u001b[0;34m[\u001b[0m\u001b[0;34m'usejax'\u001b[0m\u001b[0;34m]\u001b[0m \u001b[0;34m=\u001b[0m \u001b[0;32mTrue\u001b[0m\u001b[0;34m\u001b[0m\u001b[0;34m\u001b[0m\u001b[0m\n\u001b[0;32m---> 45\u001b[0;31m     \u001b[0mv_star\u001b[0m\u001b[0;34m,\u001b[0m \u001b[0mσ_star\u001b[0m \u001b[0;34m=\u001b[0m \u001b[0msolver\u001b[0m\u001b[0;34m(\u001b[0m\u001b[0;34m*\u001b[0m\u001b[0margs\u001b[0m\u001b[0;34m,\u001b[0m \u001b[0;34m**\u001b[0m\u001b[0mkwargs\u001b[0m\u001b[0;34m)\u001b[0m\u001b[0;34m\u001b[0m\u001b[0;34m\u001b[0m\u001b[0m\n\u001b[0m\u001b[1;32m     46\u001b[0m     \u001b[0mrun_time\u001b[0m \u001b[0;34m=\u001b[0m \u001b[0mqe\u001b[0m\u001b[0;34m.\u001b[0m\u001b[0mtoc\u001b[0m\u001b[0;34m(\u001b[0m\u001b[0;34m)\u001b[0m\u001b[0;34m\u001b[0m\u001b[0;34m\u001b[0m\u001b[0m\n\u001b[1;32m     47\u001b[0m     \u001b[0mprint\u001b[0m\u001b[0;34m(\u001b[0m\u001b[0;34mf\"Solved model using {algorithm} in {run_time:.5f} seconds.\"\u001b[0m\u001b[0;34m)\u001b[0m\u001b[0;34m\u001b[0m\u001b[0;34m\u001b[0m\u001b[0m\n",
            "\u001b[0;32m<ipython-input-285-c1369e58f3c9>\u001b[0m in \u001b[0;36mvalue_function_iteration\u001b[0;34m(v_init, T, get_greedy, tolerance, max_iter, print_step, verbose, usejax)\u001b[0m\n\u001b[1;32m     16\u001b[0m     \u001b[0mk\u001b[0m \u001b[0;34m=\u001b[0m \u001b[0;36m1\u001b[0m\u001b[0;34m\u001b[0m\u001b[0;34m\u001b[0m\u001b[0m\n\u001b[1;32m     17\u001b[0m     \u001b[0;32mwhile\u001b[0m \u001b[0merror\u001b[0m \u001b[0;34m>\u001b[0m \u001b[0mtolerance\u001b[0m \u001b[0;32mand\u001b[0m \u001b[0mk\u001b[0m \u001b[0;34m<=\u001b[0m \u001b[0mmax_iter\u001b[0m\u001b[0;34m:\u001b[0m\u001b[0;34m\u001b[0m\u001b[0;34m\u001b[0m\u001b[0m\n\u001b[0;32m---> 18\u001b[0;31m         \u001b[0mv_new\u001b[0m \u001b[0;34m=\u001b[0m \u001b[0mT\u001b[0m\u001b[0;34m(\u001b[0m\u001b[0mv\u001b[0m\u001b[0;34m)\u001b[0m\u001b[0;34m\u001b[0m\u001b[0;34m\u001b[0m\u001b[0m\n\u001b[0m\u001b[1;32m     19\u001b[0m         \u001b[0merror\u001b[0m \u001b[0;34m=\u001b[0m \u001b[0marray_lib\u001b[0m\u001b[0;34m.\u001b[0m\u001b[0mmax\u001b[0m\u001b[0;34m(\u001b[0m\u001b[0marray_lib\u001b[0m\u001b[0;34m.\u001b[0m\u001b[0mabs\u001b[0m\u001b[0;34m(\u001b[0m\u001b[0mv_new\u001b[0m \u001b[0;34m-\u001b[0m \u001b[0mv\u001b[0m\u001b[0;34m)\u001b[0m\u001b[0;34m)\u001b[0m\u001b[0;34m\u001b[0m\u001b[0;34m\u001b[0m\u001b[0m\n\u001b[1;32m     20\u001b[0m         \u001b[0;32mif\u001b[0m \u001b[0mverbose\u001b[0m \u001b[0;32mand\u001b[0m \u001b[0;34m(\u001b[0m\u001b[0mk\u001b[0m \u001b[0;34m%\u001b[0m \u001b[0mprint_step\u001b[0m\u001b[0;34m)\u001b[0m \u001b[0;34m==\u001b[0m \u001b[0;36m0\u001b[0m\u001b[0;34m:\u001b[0m\u001b[0;34m\u001b[0m\u001b[0;34m\u001b[0m\u001b[0m\n",
            "\u001b[0;32m<ipython-input-268-b9672b877c73>\u001b[0m in \u001b[0;36m<lambda>\u001b[0;34m(v)\u001b[0m\n\u001b[1;32m     35\u001b[0m             args = (v_init,\n\u001b[1;32m     36\u001b[0m                 \u001b[0;31m#lambda v: T(v, model)\u001b[0m\u001b[0;34m\u001b[0m\u001b[0;34m\u001b[0m\u001b[0m\n\u001b[0;32m---> 37\u001b[0;31m                 \u001b[0;32mlambda\u001b[0m \u001b[0mv\u001b[0m\u001b[0;34m:\u001b[0m \u001b[0mT\u001b[0m\u001b[0;34m(\u001b[0m\u001b[0mv\u001b[0m\u001b[0;34m,\u001b[0m \u001b[0mparams\u001b[0m\u001b[0;34m,\u001b[0m \u001b[0msizes\u001b[0m\u001b[0;34m,\u001b[0m \u001b[0marrays\u001b[0m\u001b[0;34m)\u001b[0m\u001b[0;34m,\u001b[0m\u001b[0;34m\u001b[0m\u001b[0;34m\u001b[0m\u001b[0m\n\u001b[0m\u001b[1;32m     38\u001b[0m                 \u001b[0;31m#lambda v: get_greedy(v, model)\u001b[0m\u001b[0;34m\u001b[0m\u001b[0;34m\u001b[0m\u001b[0m\n\u001b[1;32m     39\u001b[0m                 lambda v: get_greedy(v, params, sizes, arrays))\n",
            "\u001b[0;31mKeyboardInterrupt\u001b[0m: "
          ]
        }
      ],
      "source": [
        "### Test timing\n",
        "\n",
        "hpi_time, vfi_time, opi_times = test_timing_jax(model)"
      ]
    },
    {
      "cell_type": "code",
      "execution_count": null,
      "metadata": {
        "id": "DK9SS3iMYEZK"
      },
      "outputs": [],
      "source": []
    }
  ],
  "metadata": {
    "colab": {
      "provenance": [],
      "include_colab_link": true
    },
    "kernelspec": {
      "display_name": "Python 3 (ipykernel)",
      "language": "python",
      "name": "python3"
    },
    "language_info": {
      "codemirror_mode": {
        "name": "ipython",
        "version": 3
      },
      "file_extension": ".py",
      "mimetype": "text/x-python",
      "name": "python",
      "nbconvert_exporter": "python",
      "pygments_lexer": "ipython3",
      "version": "3.11.4"
    }
  },
  "nbformat": 4,
  "nbformat_minor": 0
}