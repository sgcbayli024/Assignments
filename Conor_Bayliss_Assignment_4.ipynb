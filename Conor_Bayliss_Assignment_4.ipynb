{
  "cells": [
    {
      "cell_type": "markdown",
      "metadata": {
        "id": "view-in-github",
        "colab_type": "text"
      },
      "source": [
        "<a href=\"https://colab.research.google.com/github/sgcbayli024/Assignments/blob/main/Conor_Bayliss_Assignment_4.ipynb\" target=\"_parent\"><img src=\"https://colab.research.google.com/assets/colab-badge.svg\" alt=\"Open In Colab\"/></a>"
      ]
    },
    {
      "cell_type": "markdown",
      "metadata": {
        "id": "Giagxs6SxOX0"
      },
      "source": [
        "Firstly, let us import the code from the provided file dp_algos.py"
      ]
    },
    {
      "cell_type": "code",
      "execution_count": 1,
      "metadata": {
        "colab": {
          "base_uri": "https://localhost:8080/"
        },
        "id": "h_MoBqe370qa",
        "outputId": "6080ddba-6106-4f72-c476-ab734101be68"
      },
      "outputs": [
        {
          "output_type": "stream",
          "name": "stdout",
          "text": [
            "Collecting quantecon\n",
            "  Downloading quantecon-0.7.1-py3-none-any.whl (214 kB)\n",
            "\u001b[2K     \u001b[90m━━━━━━━━━━━━━━━━━━━━━━━━━━━━━━━━━━━━━━━\u001b[0m \u001b[32m214.8/214.8 kB\u001b[0m \u001b[31m3.5 MB/s\u001b[0m eta \u001b[36m0:00:00\u001b[0m\n",
            "\u001b[?25hRequirement already satisfied: numba>=0.49.0 in /usr/local/lib/python3.10/dist-packages (from quantecon) (0.56.4)\n",
            "Requirement already satisfied: numpy>=1.17.0 in /usr/local/lib/python3.10/dist-packages (from quantecon) (1.23.5)\n",
            "Requirement already satisfied: requests in /usr/local/lib/python3.10/dist-packages (from quantecon) (2.31.0)\n",
            "Requirement already satisfied: scipy>=1.5.0 in /usr/local/lib/python3.10/dist-packages (from quantecon) (1.11.3)\n",
            "Requirement already satisfied: sympy in /usr/local/lib/python3.10/dist-packages (from quantecon) (1.12)\n",
            "Requirement already satisfied: llvmlite<0.40,>=0.39.0dev0 in /usr/local/lib/python3.10/dist-packages (from numba>=0.49.0->quantecon) (0.39.1)\n",
            "Requirement already satisfied: setuptools in /usr/local/lib/python3.10/dist-packages (from numba>=0.49.0->quantecon) (67.7.2)\n",
            "Requirement already satisfied: charset-normalizer<4,>=2 in /usr/local/lib/python3.10/dist-packages (from requests->quantecon) (3.3.0)\n",
            "Requirement already satisfied: idna<4,>=2.5 in /usr/local/lib/python3.10/dist-packages (from requests->quantecon) (3.4)\n",
            "Requirement already satisfied: urllib3<3,>=1.21.1 in /usr/local/lib/python3.10/dist-packages (from requests->quantecon) (2.0.6)\n",
            "Requirement already satisfied: certifi>=2017.4.17 in /usr/local/lib/python3.10/dist-packages (from requests->quantecon) (2023.7.22)\n",
            "Requirement already satisfied: mpmath>=0.19 in /usr/local/lib/python3.10/dist-packages (from sympy->quantecon) (1.3.0)\n",
            "Installing collected packages: quantecon\n",
            "Successfully installed quantecon-0.7.1\n"
          ]
        }
      ],
      "source": [
        "!pip install quantecon"
      ]
    },
    {
      "cell_type": "code",
      "execution_count": 2,
      "metadata": {
        "id": "jnSYfYfnxKE_"
      },
      "outputs": [],
      "source": [
        "import jax"
      ]
    },
    {
      "cell_type": "code",
      "execution_count": 4,
      "metadata": {
        "id": "TPdTiR4M44bl"
      },
      "outputs": [],
      "source": [
        "import numpy as np\n",
        "import jax.numpy as jnp"
      ]
    },
    {
      "cell_type": "code",
      "execution_count": 5,
      "metadata": {
        "id": "izjXJGEt7xhP"
      },
      "outputs": [],
      "source": [
        "import matplotlib.pyplot as plt"
      ]
    },
    {
      "cell_type": "code",
      "execution_count": 6,
      "metadata": {
        "id": "0o_kW14y7znJ"
      },
      "outputs": [],
      "source": [
        "import quantecon as qe\n",
        "import numpy as np\n",
        "from collections import namedtuple\n",
        "from numba import njit, prange, int32"
      ]
    },
    {
      "cell_type": "markdown",
      "metadata": {
        "id": "_FdVgt7R4_Op"
      },
      "source": [
        "Value Function Iteration"
      ]
    },
    {
      "cell_type": "code",
      "execution_count": 7,
      "metadata": {
        "id": "enQLCPMP445D"
      },
      "outputs": [],
      "source": [
        "def value_function_iteration(v_init,\n",
        "                             T,\n",
        "                             get_greedy,\n",
        "                             tolerance=1e-6,        # Error tolerance\n",
        "                             max_iter=10_000,       # Max iteration bound\n",
        "                             print_step=25,         # Print at multiples\n",
        "                             verbose=True,\n",
        "                             usejax=False):\n",
        "    \"\"\"\n",
        "        Compute v_star via VFI and then compute greedy.\n",
        "    \"\"\"\n",
        "    array_lib = jnp if usejax else np\n",
        "\n",
        "    v = v_init\n",
        "    error = tolerance + 1\n",
        "    k = 1\n",
        "    while error > tolerance and k <= max_iter:\n",
        "        v_new = T(v)\n",
        "        error = array_lib.max(array_lib.abs(v_new - v))\n",
        "        if verbose and (k % print_step) == 0:\n",
        "            print(f\"Completed iteration {k} with error {error}.\")\n",
        "        v = v_new\n",
        "        k += 1\n",
        "    if error > tolerance:\n",
        "        print(f\"Warning: Iteration hit upper bound {max_iter}.\")\n",
        "    elif verbose:\n",
        "        print(f\"Terminated successfully in {k} iterations.\")\n",
        "    v_star = v\n",
        "    σ_star = get_greedy(v_star)\n",
        "    return v_star, σ_star"
      ]
    },
    {
      "cell_type": "markdown",
      "metadata": {
        "id": "EaDxslLW5Cbz"
      },
      "source": [
        "Optimistic Policy Iteration"
      ]
    },
    {
      "cell_type": "code",
      "execution_count": 8,
      "metadata": {
        "id": "pnlx-6Se48Ss"
      },
      "outputs": [],
      "source": [
        "def optimistic_policy_iteration(v_init,\n",
        "                                T_σ,\n",
        "                                get_greedy,\n",
        "                                tolerance=1e-6,\n",
        "                                max_iter=1_000,\n",
        "                                print_step=10,\n",
        "                                m=60,\n",
        "                                usejax=False):\n",
        "    \"Optimistic policy iteration routine.\"\n",
        "\n",
        "    array_lib = jnp if usejax else np\n",
        "    v = v_init\n",
        "    error = tolerance + 1\n",
        "    k = 1\n",
        "    while error > tolerance and k < max_iter:\n",
        "        last_v = v\n",
        "        σ = get_greedy(v)\n",
        "        for i in range(m):\n",
        "            v = T_σ(v, σ)\n",
        "        error = array_lib.max(array_lib.abs(v - last_v))\n",
        "        if k % print_step == 0:\n",
        "            print(f\"Completed iteration {k} with error {error}.\")\n",
        "        k += 1\n",
        "    return v, get_greedy(v)"
      ]
    },
    {
      "cell_type": "markdown",
      "metadata": {
        "id": "z876VpeL5E-Z"
      },
      "source": [
        "Howard Policy Iteration"
      ]
    },
    {
      "cell_type": "code",
      "execution_count": 9,
      "metadata": {
        "id": "oTvRDMlt49DN"
      },
      "outputs": [],
      "source": [
        "def howard_policy_iteration(v_init,\n",
        "                            get_value,\n",
        "                            get_greedy,\n",
        "                            usejax=False):\n",
        "    \"Howard policy iteration routine.\"\n",
        "    array_lib = jnp if usejax else np\n",
        "\n",
        "    σ = get_greedy(v_init)\n",
        "    i, error = 0, 1.0\n",
        "    while error > 0:\n",
        "        v_σ = get_value(σ)\n",
        "        σ_new = get_greedy(v_σ)\n",
        "        error = array_lib.max(array_lib.abs(σ_new - σ))\n",
        "        σ = σ_new\n",
        "        i = i + 1\n",
        "        print(f\"Concluded loop {i} with error {error}.\")\n",
        "    return v_σ, σ"
      ]
    },
    {
      "cell_type": "markdown",
      "metadata": {
        "id": "k6v7ut595JPu"
      },
      "source": [
        "Next, let us import the code from the provided file model.py. Note that I have added @jax.jit to all function definitions."
      ]
    },
    {
      "cell_type": "code",
      "execution_count": 10,
      "metadata": {
        "id": "VG_Vmx685Q8_"
      },
      "outputs": [],
      "source": [
        "\n",
        "def f(y, a, d):\n",
        "    \" Inventory update rule. \"\n",
        "    return jnp.maximum(y - d, 0) + a"
      ]
    },
    {
      "cell_type": "code",
      "execution_count": 11,
      "metadata": {
        "id": "6aMXaRNp5SX1"
      },
      "outputs": [],
      "source": [
        "# NamedTuple to hold model parameters\n",
        "Params = namedtuple(\n",
        "         \"Params\", (\"K\", \"c\", \"κ\", \"p\"))"
      ]
    },
    {
      "cell_type": "code",
      "execution_count": 12,
      "metadata": {
        "id": "gMkIq_PX5TW_"
      },
      "outputs": [],
      "source": [
        "\n",
        "def build_R(params, y_vals, d_vals, ϕ_vals):\n",
        "    \" Build the R array using loops. \"\n",
        "    K, c, κ, p = params\n",
        "    n_y = K + 1\n",
        "    R = jnp.zeros((n_y, n_y, n_y))\n",
        "    for y in y_vals:\n",
        "        for yp in y_vals:\n",
        "            for a in range(n_y - y):\n",
        "                hits = f(y, a, d_vals) == yp\n",
        "                R[y, a, yp] = jnp.sum(hits * ϕ_vals)\n",
        "    return R"
      ]
    },
    {
      "cell_type": "code",
      "execution_count": 13,
      "metadata": {
        "id": "q8xKtwm25WSd"
      },
      "outputs": [],
      "source": [
        "\n",
        "def build_R_vectorized(params, y_vals, d_vals, ϕ_vals):\n",
        "    K, c, κ, p = params\n",
        "    n_y = K + 1\n",
        "    n_d = len(d_vals)\n",
        "    # Create R[y, a, yp, d] and then sum out last dimension\n",
        "    y  = jnp.reshape(y_vals, (n_y, 1, 1, 1))\n",
        "    a  = jnp.reshape(y_vals, (1, n_y, 1, 1))\n",
        "    yp = jnp.reshape(y_vals, (1, 1, n_y, 1))\n",
        "    d  = jnp.reshape(d_vals, (1, 1, 1, n_d))\n",
        "    ϕ  = jnp.reshape(ϕ_vals, (1, 1, 1, n_d))\n",
        "    feasible = a <= K - y\n",
        "    temp = (f(y, a, d_vals) == yp) * feasible\n",
        "    R = np.sum(temp * ϕ_vals, axis=3)\n",
        "    return R"
      ]
    },
    {
      "cell_type": "code",
      "execution_count": 14,
      "metadata": {
        "id": "zBK3wBQQ5Y1F"
      },
      "outputs": [],
      "source": [
        "\n",
        "def build_r(params, y_vals, d_vals, ϕ_vals):\n",
        "    K, c, κ, p = params\n",
        "    n_y = K + 1\n",
        "    r = jnp.full((n_y, n_y), -jnp.inf)\n",
        "    for y in y_vals:\n",
        "        revenue = jnp.sum(jnp.minimum(y, d_vals) * ϕ_vals)\n",
        "        for a in range(n_y - y):\n",
        "            cost = c * a + κ * (a > 0)\n",
        "            r[y, a] = revenue - cost\n",
        "    return r"
      ]
    },
    {
      "cell_type": "code",
      "execution_count": 15,
      "metadata": {
        "id": "T5Ojg0mA5kxW"
      },
      "outputs": [],
      "source": [
        "\n",
        "def build_r_vectorized(params, y_vals, d_vals, ϕ_vals):\n",
        "    K, c, κ, p = params\n",
        "    n_y = K + 1\n",
        "    n_d = len(d_vals)\n",
        "    y = jnp.reshape(y_vals, (n_y, 1))\n",
        "    d = jnp.reshape(d_vals, (1, n_d))\n",
        "    ϕ = jnp.reshape(ϕ_vals, (1, n_d))\n",
        "    revenue = jnp.minimum(y, d) * ϕ\n",
        "    exp_revenue = jnp.sum(revenue, axis=1)\n",
        "    exp_revenue = jnp.reshape(exp_revenue, (n_y, 1))\n",
        "    a = jnp.reshape(y_vals, (1, n_y))\n",
        "    cost = c * a + κ * (a > 0)\n",
        "    exp_profit = exp_revenue - cost\n",
        "    feasible = a <= K - y\n",
        "    r = jnp.where(feasible, exp_profit, -jnp.inf)\n",
        "    return r"
      ]
    },
    {
      "cell_type": "code",
      "execution_count": 16,
      "metadata": {
        "id": "fvZFUhsh5vI2"
      },
      "outputs": [],
      "source": [
        "# NamedTuple to hold arrays used to solve model\n",
        "Arrays = namedtuple(\n",
        "         \"Arrays\", (\"r\", \"R\", \"y_vals\", \"z_vals\", \"Q\"))"
      ]
    },
    {
      "cell_type": "code",
      "execution_count": 17,
      "metadata": {
        "id": "bdto7O355vlo"
      },
      "outputs": [],
      "source": [
        "# NamedTuple to store parameters, array sizes, and arrays\n",
        "Model = namedtuple(\"Model\", (\"params\", \"sizes\", \"arrays\"))"
      ]
    },
    {
      "cell_type": "code",
      "execution_count": 18,
      "metadata": {
        "id": "zuJUVPss5xpQ"
      },
      "outputs": [],
      "source": [
        "\n",
        "def create_sdd_inventory_model(ρ=0.98,        # Z persistence\n",
        "                               ν=0.002,       # Z volatility\n",
        "                               n_z=25,        # size of Z grid\n",
        "                               b=0.97,        # Z mean\n",
        "                               K=100,         # max inventory\n",
        "                               d_max=100,     # max value of d\n",
        "                               c=0.2,         # unit cost\n",
        "                               κ=0.8,         # fixed cost\n",
        "                               p=0.6):        # demand parameter\n",
        "\n",
        "    n_y = K + 1               # size of state space\n",
        "    y_vals = jnp.arange(n_y)   # inventory levels 0,...,K\n",
        "\n",
        "    # Construct r and R arrays\n",
        "    def ϕ(d):\n",
        "        return (1 - p)**d * p\n",
        "    d_vals = jnp.arange(d_max)\n",
        "    ϕ_vals = ϕ(d_vals)\n",
        "\n",
        "    # Build the exogenous discount process\n",
        "    mc = qe.tauchen(n_z, ρ, ν)\n",
        "    z_vals, Q = mc.state_values + b, mc.P\n",
        "    ρL = jnp.max(jnp.abs(jnp.linalg.eigvals(z_vals * Q)))\n",
        "    if ρL >= 1:\n",
        "        raise NotImplementedError(\"Error: ρ(L) ≥ 1.\")\n",
        "    else:\n",
        "        print(f\"Building model with ρ(L) = {ρL}\")\n",
        "\n",
        "    # Build namedtuples and return them\n",
        "    params = Params(K=K, c=c, κ=κ, p=p)\n",
        "    r = build_r_vectorized(params, y_vals, d_vals, ϕ_vals)\n",
        "    R = build_R_vectorized(params, y_vals, d_vals, ϕ_vals)\n",
        "\n",
        "    arrays = Arrays(r=r, R=R, y_vals=y_vals, z_vals=z_vals, Q=Q)\n",
        "    sizes = n_y, n_z\n",
        "    return Model(params=params, sizes=sizes, arrays=arrays)"
      ]
    },
    {
      "cell_type": "markdown",
      "metadata": {
        "id": "XfuwVcLR55er"
      },
      "source": [
        "Next, import the code from the file plot_code.py"
      ]
    },
    {
      "cell_type": "code",
      "execution_count": 19,
      "metadata": {
        "id": "-yKrEjaz5_i0"
      },
      "outputs": [],
      "source": [
        "\n",
        "def sim_inventories(model, σ_star, ts_length, Y_init=0, seed=500):\n",
        "    \"\"\"\n",
        "        Simulate inventory dynamics and interest rates given an\n",
        "        optimal policy σ_star.\n",
        "    \"\"\"\n",
        "    # Set up\n",
        "    jnp.random.seed(seed)\n",
        "    K, c, κ, p = model.params\n",
        "    r, R, y_vals, z_vals, Q = model.arrays\n",
        "\n",
        "    # Generate Markov chain for discount factor\n",
        "    z_mc = qe.MarkovChain(Q, z_vals)\n",
        "    i_z = z_mc.simulate_indices(ts_length, init=1, random_state=seed)\n",
        "\n",
        "    # Generate corresponding inventory series\n",
        "    Y = jnp.zeros(ts_length, dtype=int)\n",
        "    Y[0] = Y_init\n",
        "    for t in range(ts_length - 1):\n",
        "        D = jnp.random.geometric(p) - 1\n",
        "        a = σ_star[Y[t], i_z[t]]\n",
        "        Y[t+1] = f(Y[t],  a,  D)\n",
        "\n",
        "    # Return both series\n",
        "    return Y, z_vals[i_z]"
      ]
    },
    {
      "cell_type": "code",
      "execution_count": 20,
      "metadata": {
        "id": "eVzKsS515_dB"
      },
      "outputs": [],
      "source": [
        "\n",
        "def plot_ts(model,\n",
        "            σ_star,\n",
        "            ts_length=400,\n",
        "            fontsize=12,\n",
        "            figname=\"ts.pdf\",\n",
        "            savefig=False):\n",
        "    \"\"\"\n",
        "        Solve model, plot a time series of inventory and interest rates.\n",
        "\n",
        "    \"\"\"\n",
        "\n",
        "    # Obtain inventory and discount factor series\n",
        "    Y, Z = sim_inventories(model, σ_star, ts_length)\n",
        "    r = (1 / Z) - 1 # calculate interest rate from discount factors\n",
        "\n",
        "    # Plot\n",
        "    fig, axes = plt.subplots(2, 1, figsize=(9, 5.5))\n",
        "    ax = axes[0]\n",
        "    ax.plot(Y, label=\"inventory\", alpha=0.7)\n",
        "    ax.set_xlabel(\"time\", fontsize=fontsize)\n",
        "    ax.legend(fontsize=fontsize, frameon=False)\n",
        "    ax.set_ylim(0, jnp.max(Y)+3)\n",
        "    ax = axes[1]\n",
        "    ax.plot(r, label=\"$r_t$\", alpha=0.7)\n",
        "    ax.set_xlabel(\"$t$\", fontsize=fontsize)\n",
        "    ax.legend(fontsize=fontsize, frameon=False)\n",
        "    plt.tight_layout()\n",
        "    plt.show()\n",
        "    if savefig:\n",
        "        fig.savefig(figname)"
      ]
    },
    {
      "cell_type": "code",
      "execution_count": 21,
      "metadata": {
        "id": "6jM8jtgo6Hd3"
      },
      "outputs": [],
      "source": [
        "\n",
        "def plot_timing(hpi_time,\n",
        "                vfi_time,\n",
        "                opi_times,\n",
        "                m_vals,\n",
        "                figname=\"timing.pdf\",\n",
        "                fontsize=12,\n",
        "                savefig=False):\n",
        "    \"\"\"\n",
        "    Plot relative timing of different algorithms.\n",
        "\n",
        "    \"\"\"\n",
        "    fig, ax = plt.subplots(figsize=(9, 5.2))\n",
        "\n",
        "    y_values = (jnp.full(len(m_vals), vfi_time),\n",
        "                jnp.full(len(m_vals), hpi_time),\n",
        "                opi_times)\n",
        "    labels = \"VFI\", \"HPI\", \"OPI\"\n",
        "\n",
        "    for y_vals, label in zip(y_values, labels):\n",
        "        ax.plot(m_vals, y_vals, lw=2, label=label)\n",
        "\n",
        "    ax.legend(fontsize=fontsize, frameon=False)\n",
        "    ax.set_xlabel(\"$m$\", fontsize=fontsize)\n",
        "    ax.set_ylabel(\"time\", fontsize=fontsize)\n",
        "    plt.show()\n",
        "\n",
        "    if savefig:\n",
        "        fig.savefig(figname)"
      ]
    },
    {
      "cell_type": "code",
      "execution_count": 22,
      "metadata": {
        "id": "yr5kQCex6O9L"
      },
      "outputs": [],
      "source": [
        "f = jax.jit(f)"
      ]
    },
    {
      "cell_type": "code",
      "execution_count": 23,
      "metadata": {
        "id": "fatNSw1D6Pac"
      },
      "outputs": [],
      "source": [
        "\n",
        "def B(v, params, sizes, arrays):\n",
        "    \"\"\"\n",
        "    B(y, a, v) = r(y, a) + β(z) Σ_{y′, z′} v(y′, z′) R(y, a, y′) Q(z, z′)\n",
        "\n",
        "    Jax implementation\n",
        "    \"\"\"\n",
        "    # Set up\n",
        "    K, c, κ, p = model.params\n",
        "    r, R, y_vals, z_vals, Q = model.arrays\n",
        "    I, J =len(y_vals) , len(z_vals)\n",
        "    #Reshape and broadcast over (i, j, i, i', j')\n",
        "    #Reshape and broadcast over (y, z, a, y', z')\n",
        "    Q  = jnp.reshape(Q,         (1, J, 1, 1, J))\n",
        "    R  = jnp.reshape(R,         (I, 1, I, I, 1))\n",
        "    v  = jnp.reshape(v,         (1, 1, 1, I, J))\n",
        "\n",
        "    EV = jnp.sum(v*R*Q, axis=(3, 4))\n",
        "    #Now, reshape and broadcast over  (y, z, a)\n",
        "    β  = jnp.reshape(z_vals, (1, J, 1))\n",
        "    r  = jnp.reshape(r,      (I, 1, I))\n",
        "    return r + β * EV"
      ]
    },
    {
      "cell_type": "code",
      "execution_count": 24,
      "metadata": {
        "id": "wL75XE876lkC"
      },
      "outputs": [],
      "source": [
        "\n",
        "def T(v, params, sizes, arrays):\n",
        "    \"\"\"The Bellman operator.\"\"\"\n",
        "    return jnp.max(B(v, params, sizes, arrays), axis=2)"
      ]
    },
    {
      "cell_type": "code",
      "execution_count": 25,
      "metadata": {
        "colab": {
          "base_uri": "https://localhost:8080/"
        },
        "id": "0LcGT9fyYEZA",
        "outputId": "52133529-8173-434a-8705-88a36beed67b"
      },
      "outputs": [
        {
          "output_type": "stream",
          "name": "stderr",
          "text": [
            "WARNING:jax._src.xla_bridge:No GPU/TPU found, falling back to CPU. (Set TF_CPP_MIN_LOG_LEVEL=0 and rerun for more info.)\n"
          ]
        },
        {
          "output_type": "stream",
          "name": "stdout",
          "text": [
            "Building model with ρ(L) = 0.9751706719398499\n"
          ]
        }
      ],
      "source": [
        "model = create_sdd_inventory_model()\n",
        "\n",
        "I, J = model.sizes\n",
        "v = jnp.zeros((I, J))\n",
        "vp = T(v, model.params, model.sizes, model.arrays)"
      ]
    },
    {
      "cell_type": "code",
      "execution_count": 26,
      "metadata": {
        "colab": {
          "base_uri": "https://localhost:8080/"
        },
        "id": "Ug2Drp6lYEZB",
        "outputId": "382c2b7a-48f3-4261-d8a9-1c97361f4719"
      },
      "outputs": [
        {
          "output_type": "execute_result",
          "data": {
            "text/plain": [
              "(101, 25)"
            ]
          },
          "metadata": {},
          "execution_count": 26
        }
      ],
      "source": [
        "vp.shape"
      ]
    },
    {
      "cell_type": "code",
      "execution_count": 26,
      "metadata": {
        "id": "F2Xq-TISYEZC"
      },
      "outputs": [],
      "source": []
    },
    {
      "cell_type": "code",
      "execution_count": 27,
      "metadata": {
        "id": "aO9Wg_LZ6eSx"
      },
      "outputs": [],
      "source": [
        "\n",
        "def compute_r_σ(σ, params, sizes, arrays):\n",
        "    \"\"\"\n",
        "    Compute the array r_σ[i, j] = r[i, j, σ[i, j]], which gives current\n",
        "    rewards given policy σ.\n",
        "    \"\"\"\n",
        "\n",
        "    # Unpack model\n",
        "    K, c, κ, p = model.params\n",
        "    r, R, y_vals, z_vals, Q = model.arrays\n",
        "    z_idx=jnp.arange(z_vals)\n",
        "    I, J =len(y_vals) , len(z_vals)\n",
        "    N = I * J\n",
        "    # Compute r_σ[i, j]\n",
        "    y = jnp.reshape(y_vals, (I, 1))\n",
        "    z = jnp.reshape(z_idx, (1, J))\n",
        "    r_σ = r[y, σ[y,z]]\n",
        "\n",
        "    return r_σ"
      ]
    },
    {
      "cell_type": "code",
      "execution_count": 28,
      "metadata": {
        "id": "xM_TwrYi6gMv"
      },
      "outputs": [],
      "source": [
        "\n",
        "def compute_R_σ(σ, params, sizes, arrays):\n",
        "    \"\"\"\n",
        "    Compute the array r_σ[i, j] = r[i, j, σ[i, j]], which gives current\n",
        "    rewards given policy σ.\n",
        "    \"\"\"\n",
        "\n",
        "    # Unpack model\n",
        "    K, c, κ, p = model.params\n",
        "    r, R, y_vals, z_vals, Q = model.arrays\n",
        "    z_idx=jnp.arange(z_vals)\n",
        "    I, J =len(y_vals) , len(z_vals)\n",
        "    N = I * J\n",
        "    # Compute r_σ[i, j]\n",
        "    y = jnp.reshape(y_vals, (I, 1, 1))\n",
        "    z = jnp.reshape(z_idx, (1, J, 1))\n",
        "    yp = jnp.reshape(y_vals, (1, 1, I))\n",
        "    R_σ = R[y, σ[y,z], yp]\n",
        "\n",
        "    return R_σ"
      ]
    },
    {
      "cell_type": "code",
      "execution_count": 29,
      "metadata": {
        "id": "rQwN09Fn3ZpC"
      },
      "outputs": [],
      "source": [
        "def compute_L_σ(σ, params, sizes, arrays):\n",
        "    #load in the necessary parameters\n",
        "    K, c, κ, p = model.params\n",
        "    r, R, y_vals, z_vals, Q = model.arrays\n",
        "    R_σ=compute_R_σ(σ, params, sizes, arrays)\n",
        "    I, J =len(y_vals) , len(z_vals)\n",
        "    N = I * J\n",
        "    z_idx=jnp.arange(z_vals)\n",
        "    # broadcast over (y,   z,   y',  z')\n",
        "    β = jnp.reshape(β, (1,J,1,1))\n",
        "    R_σ=jnp.reshape(R_σ, (I,J,I,1))\n",
        "    Q=jnp.reshape(Q, (1,J,1,J))\n",
        "    #compute L_σ\n",
        "    L_σ=β*R_σ*Q\n",
        "    return L_σ"
      ]
    },
    {
      "cell_type": "code",
      "execution_count": 30,
      "metadata": {
        "id": "QwmsISLv6nhM"
      },
      "outputs": [],
      "source": [
        "\n",
        "def get_greedy(v, params, sizes, arrays):\n",
        "    \"Computes a v-greedy policy, returned as a set of indices.\"\n",
        "    return jnp.argmax(B(v, params, sizes, arrays), axis=2)"
      ]
    },
    {
      "cell_type": "code",
      "execution_count": 31,
      "metadata": {
        "id": "0OjmmpYL6igs"
      },
      "outputs": [],
      "source": [
        "\n",
        "def T_σ(v, σ, params, sizes, arrays):\n",
        "    \"The policy operator.\"\n",
        "    K, c, κ, p = model.params\n",
        "    r, R, y_vals, z_vals, Q = model.arrays\n",
        "    n_y, n_z = model.sizes\n",
        "    I, J =len(y_vals) , len(z_vals)\n",
        "    N = I * J\n",
        "\n",
        "    r_σ=compute_r_σ(σ, params, sizes, arrays)\n",
        "\n",
        "    #Compute the array v_σ\n",
        "    yp_idx = jnp.arange(y_vals)\n",
        "    yp_idx = jnp.reshape(yp_idx, (1, 1, I))\n",
        "    σ = jnp.reshape(σ, (I, J, 1))\n",
        "    V = v[σ, yp_idx]\n",
        "    #Broadcast over (y,a,y',z,z')\n",
        "    Q  = jnp.reshape(Q, (1, 1, 1, J, J))\n",
        "    R  = jnp.reshape(R, (I, I, I, 1, 1))\n",
        "    v  = jnp.reshape(v, (1, 1, I, 1, J))\n",
        "    Ev = jnp.sum(R*Q, axis=(2, 4))\n",
        "    EV = V * Ev\n",
        "    β  = jnp.reshape(β, (1, 1, J))\n",
        "    r_σ + β * EV\n",
        "    return r_σ + β * EV"
      ]
    },
    {
      "cell_type": "code",
      "execution_count": 32,
      "metadata": {
        "id": "uMJuexUm3aJ_"
      },
      "outputs": [],
      "source": [
        "\n",
        "def get_value(σ, params, sizes, arrays):\n",
        "    # Unpack\n",
        "    K, c, κ, p = model.params\n",
        "    r, R, y_vals, z_vals, Q = model.arrays\n",
        "    n_y, n_z = model.sizes\n",
        "    I, J =len(y_vals) , len(z_vals)\n",
        "    N = I * J\n",
        "    #Load in r_sigma and L_sigma\n",
        "    r_σ = compute_r_σ(σ, params, sizes, arrays)\n",
        "    L_σ = compute_L_σ(σ, params, sizes, arrays)\n",
        "    #Reshape and broadcast over (N,N)\n",
        "    L_σ=jnp.reshape(L_σ, (N,N))\n",
        "    r_σ=jnp.reshape(r_σ, N)\n",
        "    #Create an identity matrix, Id of size N\n",
        "    Id = jnp.identity(N)\n",
        "    #Solve for v_sigma\n",
        "    v_σ=jnp.linalg.solve(Id - L_σ, r_σ)\n",
        "    #Reshape back into (y,z)\n",
        "    return jnp.reshape(v_σ, (I,J))"
      ]
    },
    {
      "cell_type": "code",
      "execution_count": 49,
      "metadata": {
        "id": "QTryFh_W6u0u"
      },
      "outputs": [],
      "source": [
        "## Custom solvers\n",
        "\n",
        "def solve_model_jax(model, algorithm=\"OPI\", **kwargs):\n",
        "    \"\"\"\n",
        "    General purpose solver.\n",
        "\n",
        "    algorithm : OPI, VFI or HPI\n",
        "\n",
        "    \"\"\"\n",
        "\n",
        "    # Set up\n",
        "    params, sizes, arrays = model\n",
        "    n_y, n_z = model.sizes\n",
        "    v_init = jnp.zeros((n_y, n_z))\n",
        "\n",
        "    # Solve\n",
        "    print(f\"Solving model using {algorithm}.\")\n",
        "    match algorithm:\n",
        "        case \"OPI\":\n",
        "            solver = optimistic_policy_iteration\n",
        "            args = (v_init,\n",
        "                #lambda v, σ: T_σ(v, σ, model),\n",
        "                lambda v: T_σ(v, σ, params, sizes, arrays),\n",
        "                #lambda v: get_greedy(v, model)\n",
        "                lambda v: get_greedy(σ, params, sizes, arrays))\n",
        "        case \"HPI\":\n",
        "            solver = howard_policy_iteration\n",
        "            args = (v_init,\n",
        "                #lambda σ: get_value(σ, model)\n",
        "                lambda σ  : get_value(σ, params, sizes, arrays),\n",
        "                #lambda v: get_greedy(v, model)\n",
        "                lambda v: get_greedy(v, params, sizes, arrays))\n",
        "        case \"VFI\":\n",
        "            solver = value_function_iteration\n",
        "            args = (v_init,\n",
        "                #lambda v: T(v, model)\n",
        "                lambda v: T(v, params, sizes, arrays),\n",
        "                #lambda v: get_greedy(v, model)\n",
        "                lambda v: get_greedy(v, params, sizes, arrays))\n",
        "        case _:\n",
        "            raise ValueError(\"Algorithm must be in {OPI, VFI, HPI}\")\n",
        "\n",
        "    qe.tic()\n",
        "    kwargs['usejax'] = True\n",
        "    v_star, σ_star = solver(*args, **kwargs)\n",
        "    run_time = qe.toc()\n",
        "    print(f\"Solved model using {algorithm} in {run_time:.5f} seconds.\")\n",
        "\n",
        "    return v_star, σ_star"
      ]
    },
    {
      "cell_type": "code",
      "execution_count": 34,
      "metadata": {
        "id": "Lw-RBBXd7K0O"
      },
      "outputs": [],
      "source": [
        "\n",
        "def test_timing_jax(model,\n",
        "                      m_vals=range(1, 100, 20),\n",
        "                      figname=\"numba_timing.pdf\",\n",
        "                      savefig=False):\n",
        "    \"\"\"\n",
        "    Plot relative timing of different algorithms.\n",
        "\n",
        "    \"\"\"\n",
        "\n",
        "    qe.tic()\n",
        "    _, σ_pi = solve_model_jax(model, algorithm=\"HPI\")\n",
        "    hpi_time = qe.toc()\n",
        "\n",
        "    qe.tic()\n",
        "    _, σ_vfi = solve_model_jax(model, algorithm=\"VFI\")\n",
        "    vfi_time = qe.toc()\n",
        "\n",
        "    error = jnp.max(jnp.abs(σ_vfi - σ_pi))\n",
        "    if error:\n",
        "        print(\"Warning: VFI policy deviated with max error {error}.\")\n",
        "\n",
        "    opi_times = []\n",
        "    for m in m_vals:\n",
        "        qe.tic()\n",
        "        _, σ_opi = solve_model_jax(model, algorithm=\"OPI\", m=m)\n",
        "        opi_times.append(qe.toc())\n",
        "\n",
        "        error = jnp.max(jnp.abs(σ_opi - σ_pi))\n",
        "        if error:\n",
        "            print(\"Warning: OPI policy deviated with max error {error}.\")\n",
        "\n",
        "    plot_timing(hpi_time,\n",
        "                vfi_time,\n",
        "                opi_times,\n",
        "                m_vals,\n",
        "                figname=figname,\n",
        "                savefig=False)\n",
        "\n",
        "    return hpi_time, vfi_time, opi_times"
      ]
    },
    {
      "cell_type": "markdown",
      "metadata": {
        "id": "s_ecRJnF7STT"
      },
      "source": [
        "Now, let's solve."
      ]
    },
    {
      "cell_type": "code",
      "execution_count": 35,
      "metadata": {
        "id": "k7Mn0nfwGzmx"
      },
      "outputs": [],
      "source": [
        "B = jax.jit(B, static_argnums=(2,))"
      ]
    },
    {
      "cell_type": "code",
      "execution_count": 36,
      "metadata": {
        "id": "KT1oeJt9HEIv"
      },
      "outputs": [],
      "source": [
        "compute_r_σ = jax.jit(compute_r_σ, static_argnums=(2,))"
      ]
    },
    {
      "cell_type": "code",
      "execution_count": 37,
      "metadata": {
        "id": "E5kfmwUNHFT6"
      },
      "outputs": [],
      "source": [
        "compute_R_σ = jax.jit(compute_R_σ, static_argnums=(2,))"
      ]
    },
    {
      "cell_type": "code",
      "execution_count": 38,
      "metadata": {
        "id": "ZRfYB0y3HGcr"
      },
      "outputs": [],
      "source": [
        "compute_L_σ = jax.jit(compute_L_σ, static_argnums=(2,))"
      ]
    },
    {
      "cell_type": "code",
      "execution_count": 39,
      "metadata": {
        "id": "NlcmA_mpHHmQ"
      },
      "outputs": [],
      "source": [
        "T = jax.jit(T, static_argnums=(2,))"
      ]
    },
    {
      "cell_type": "code",
      "execution_count": 40,
      "metadata": {
        "id": "b32PzlcmHIuf"
      },
      "outputs": [],
      "source": [
        "T_σ = jax.jit(T_σ, static_argnums=(3,))"
      ]
    },
    {
      "cell_type": "code",
      "execution_count": 41,
      "metadata": {
        "id": "Ycuzi8BXHJ1W"
      },
      "outputs": [],
      "source": [
        "get_greedy = jax.jit(get_greedy, static_argnums=(2,))"
      ]
    },
    {
      "cell_type": "code",
      "execution_count": 42,
      "metadata": {
        "id": "Vols8jFCHK2w"
      },
      "outputs": [],
      "source": [
        "get_value = jax.jit(get_value, static_argnums=(2,))"
      ]
    },
    {
      "cell_type": "code",
      "execution_count": 43,
      "metadata": {
        "colab": {
          "base_uri": "https://localhost:8080/"
        },
        "id": "aooD5uw77VHs",
        "outputId": "a003ef18-3001-432c-daaa-8a61ccb34541"
      },
      "outputs": [
        {
          "output_type": "stream",
          "name": "stdout",
          "text": [
            "Building model with ρ(L) = 0.9751706719398499\n"
          ]
        }
      ],
      "source": [
        "model = create_sdd_inventory_model()"
      ]
    },
    {
      "cell_type": "code",
      "execution_count": 44,
      "metadata": {
        "colab": {
          "base_uri": "https://localhost:8080/"
        },
        "id": "EoKgBL3Q7XP1",
        "outputId": "fc88dbf8-d86a-4b37-ffbe-16387d02411f"
      },
      "outputs": [
        {
          "output_type": "stream",
          "name": "stdout",
          "text": [
            "Solving model using VFI.\n",
            "Completed iteration 25 with error 0.5612945556640625.\n",
            "Completed iteration 50 with error 0.3776073455810547.\n",
            "Completed iteration 75 with error 0.227813720703125.\n",
            "Completed iteration 100 with error 0.12967300415039062.\n",
            "Completed iteration 125 with error 0.06840896606445312.\n",
            "Completed iteration 150 with error 0.03108978271484375.\n",
            "Completed iteration 175 with error 0.014713287353515625.\n",
            "Completed iteration 200 with error 0.00772857666015625.\n",
            "Completed iteration 225 with error 0.004138946533203125.\n",
            "Completed iteration 250 with error 0.0022125244140625.\n",
            "Completed iteration 275 with error 0.001186370849609375.\n",
            "Completed iteration 300 with error 0.00063323974609375.\n",
            "Completed iteration 325 with error 0.00034332275390625.\n",
            "Completed iteration 350 with error 0.00018310546875.\n",
            "Completed iteration 375 with error 9.918212890625e-05.\n",
            "Completed iteration 400 with error 5.7220458984375e-05.\n",
            "Completed iteration 425 with error 3.4332275390625e-05.\n",
            "Completed iteration 450 with error 1.9073486328125e-05.\n",
            "Completed iteration 475 with error 1.1444091796875e-05.\n",
            "Completed iteration 500 with error 1.1444091796875e-05.\n",
            "Completed iteration 525 with error 1.1444091796875e-05.\n",
            "Completed iteration 550 with error 7.62939453125e-06.\n",
            "Completed iteration 575 with error 7.62939453125e-06.\n",
            "Completed iteration 600 with error 7.62939453125e-06.\n",
            "Completed iteration 625 with error 3.814697265625e-06.\n",
            "Terminated successfully in 639 iterations.\n",
            "TOC: Elapsed: 0:16:51.30\n",
            "Solved model using VFI in 1011.30535 seconds.\n"
          ]
        }
      ],
      "source": [
        "### Solve by VFI\n",
        "\n",
        "v_star, σ_star = solve_model_jax(model, algorithm=\"VFI\")"
      ]
    },
    {
      "cell_type": "code",
      "execution_count": 51,
      "metadata": {
        "id": "4rTtkUJp7aeR",
        "colab": {
          "base_uri": "https://localhost:8080/",
          "height": 511
        },
        "outputId": "12e9faf6-d1de-4132-ac38-91051b51b013"
      },
      "outputs": [
        {
          "output_type": "stream",
          "name": "stdout",
          "text": [
            "Solving model using HPI.\n"
          ]
        },
        {
          "output_type": "error",
          "ename": "ValueError",
          "evalue": "ignored",
          "traceback": [
            "\u001b[0;31m---------------------------------------------------------------------------\u001b[0m",
            "\u001b[0;31mValueError\u001b[0m                                Traceback (most recent call last)",
            "\u001b[0;32m<ipython-input-51-3437ef5138e9>\u001b[0m in \u001b[0;36m<cell line: 3>\u001b[0;34m()\u001b[0m\n\u001b[1;32m      1\u001b[0m \u001b[0;31m### Solve by HPI\u001b[0m\u001b[0;34m\u001b[0m\u001b[0;34m\u001b[0m\u001b[0m\n\u001b[1;32m      2\u001b[0m \u001b[0;34m\u001b[0m\u001b[0m\n\u001b[0;32m----> 3\u001b[0;31m \u001b[0mv_star\u001b[0m\u001b[0;34m,\u001b[0m \u001b[0mσ_star\u001b[0m \u001b[0;34m=\u001b[0m \u001b[0msolve_model_jax\u001b[0m\u001b[0;34m(\u001b[0m\u001b[0mmodel\u001b[0m\u001b[0;34m,\u001b[0m \u001b[0malgorithm\u001b[0m\u001b[0;34m=\u001b[0m\u001b[0;34m\"HPI\"\u001b[0m\u001b[0;34m)\u001b[0m\u001b[0;34m\u001b[0m\u001b[0;34m\u001b[0m\u001b[0m\n\u001b[0m",
            "\u001b[0;32m<ipython-input-49-bc803a08d866>\u001b[0m in \u001b[0;36msolve_model_jax\u001b[0;34m(model, algorithm, **kwargs)\u001b[0m\n\u001b[1;32m     43\u001b[0m     \u001b[0mqe\u001b[0m\u001b[0;34m.\u001b[0m\u001b[0mtic\u001b[0m\u001b[0;34m(\u001b[0m\u001b[0;34m)\u001b[0m\u001b[0;34m\u001b[0m\u001b[0;34m\u001b[0m\u001b[0m\n\u001b[1;32m     44\u001b[0m     \u001b[0mkwargs\u001b[0m\u001b[0;34m[\u001b[0m\u001b[0;34m'usejax'\u001b[0m\u001b[0;34m]\u001b[0m \u001b[0;34m=\u001b[0m \u001b[0;32mTrue\u001b[0m\u001b[0;34m\u001b[0m\u001b[0;34m\u001b[0m\u001b[0m\n\u001b[0;32m---> 45\u001b[0;31m     \u001b[0mv_star\u001b[0m\u001b[0;34m,\u001b[0m \u001b[0mσ_star\u001b[0m \u001b[0;34m=\u001b[0m \u001b[0msolver\u001b[0m\u001b[0;34m(\u001b[0m\u001b[0;34m*\u001b[0m\u001b[0margs\u001b[0m\u001b[0;34m,\u001b[0m \u001b[0;34m**\u001b[0m\u001b[0mkwargs\u001b[0m\u001b[0;34m)\u001b[0m\u001b[0;34m\u001b[0m\u001b[0;34m\u001b[0m\u001b[0m\n\u001b[0m\u001b[1;32m     46\u001b[0m     \u001b[0mrun_time\u001b[0m \u001b[0;34m=\u001b[0m \u001b[0mqe\u001b[0m\u001b[0;34m.\u001b[0m\u001b[0mtoc\u001b[0m\u001b[0;34m(\u001b[0m\u001b[0;34m)\u001b[0m\u001b[0;34m\u001b[0m\u001b[0;34m\u001b[0m\u001b[0m\n\u001b[1;32m     47\u001b[0m     \u001b[0mprint\u001b[0m\u001b[0;34m(\u001b[0m\u001b[0;34mf\"Solved model using {algorithm} in {run_time:.5f} seconds.\"\u001b[0m\u001b[0;34m)\u001b[0m\u001b[0;34m\u001b[0m\u001b[0;34m\u001b[0m\u001b[0m\n",
            "\u001b[0;32m<ipython-input-9-421e5cfa2f05>\u001b[0m in \u001b[0;36mhoward_policy_iteration\u001b[0;34m(v_init, get_value, get_greedy, usejax)\u001b[0m\n\u001b[1;32m      9\u001b[0m     \u001b[0mi\u001b[0m\u001b[0;34m,\u001b[0m \u001b[0merror\u001b[0m \u001b[0;34m=\u001b[0m \u001b[0;36m0\u001b[0m\u001b[0;34m,\u001b[0m \u001b[0;36m1.0\u001b[0m\u001b[0;34m\u001b[0m\u001b[0;34m\u001b[0m\u001b[0m\n\u001b[1;32m     10\u001b[0m     \u001b[0;32mwhile\u001b[0m \u001b[0merror\u001b[0m \u001b[0;34m>\u001b[0m \u001b[0;36m0\u001b[0m\u001b[0;34m:\u001b[0m\u001b[0;34m\u001b[0m\u001b[0;34m\u001b[0m\u001b[0m\n\u001b[0;32m---> 11\u001b[0;31m         \u001b[0mv_σ\u001b[0m \u001b[0;34m=\u001b[0m \u001b[0mget_value\u001b[0m\u001b[0;34m(\u001b[0m\u001b[0mσ\u001b[0m\u001b[0;34m)\u001b[0m\u001b[0;34m\u001b[0m\u001b[0;34m\u001b[0m\u001b[0m\n\u001b[0m\u001b[1;32m     12\u001b[0m         \u001b[0mσ_new\u001b[0m \u001b[0;34m=\u001b[0m \u001b[0mget_greedy\u001b[0m\u001b[0;34m(\u001b[0m\u001b[0mv_σ\u001b[0m\u001b[0;34m)\u001b[0m\u001b[0;34m\u001b[0m\u001b[0;34m\u001b[0m\u001b[0m\n\u001b[1;32m     13\u001b[0m         \u001b[0merror\u001b[0m \u001b[0;34m=\u001b[0m \u001b[0marray_lib\u001b[0m\u001b[0;34m.\u001b[0m\u001b[0mmax\u001b[0m\u001b[0;34m(\u001b[0m\u001b[0marray_lib\u001b[0m\u001b[0;34m.\u001b[0m\u001b[0mabs\u001b[0m\u001b[0;34m(\u001b[0m\u001b[0mσ_new\u001b[0m \u001b[0;34m-\u001b[0m \u001b[0mσ\u001b[0m\u001b[0;34m)\u001b[0m\u001b[0;34m)\u001b[0m\u001b[0;34m\u001b[0m\u001b[0;34m\u001b[0m\u001b[0m\n",
            "\u001b[0;32m<ipython-input-49-bc803a08d866>\u001b[0m in \u001b[0;36m<lambda>\u001b[0;34m(σ)\u001b[0m\n\u001b[1;32m     28\u001b[0m             args = (v_init,\n\u001b[1;32m     29\u001b[0m                 \u001b[0;31m#lambda σ: get_value(σ, model)\u001b[0m\u001b[0;34m\u001b[0m\u001b[0;34m\u001b[0m\u001b[0m\n\u001b[0;32m---> 30\u001b[0;31m                 \u001b[0;32mlambda\u001b[0m \u001b[0mσ\u001b[0m  \u001b[0;34m:\u001b[0m \u001b[0mget_value\u001b[0m\u001b[0;34m(\u001b[0m\u001b[0mσ\u001b[0m\u001b[0;34m,\u001b[0m \u001b[0mparams\u001b[0m\u001b[0;34m,\u001b[0m \u001b[0msizes\u001b[0m\u001b[0;34m,\u001b[0m \u001b[0marrays\u001b[0m\u001b[0;34m)\u001b[0m\u001b[0;34m,\u001b[0m\u001b[0;34m\u001b[0m\u001b[0;34m\u001b[0m\u001b[0m\n\u001b[0m\u001b[1;32m     31\u001b[0m                 \u001b[0;31m#lambda v: get_greedy(v, model)\u001b[0m\u001b[0;34m\u001b[0m\u001b[0;34m\u001b[0m\u001b[0m\n\u001b[1;32m     32\u001b[0m                 lambda v: get_greedy(v, params, sizes, arrays))\n",
            "    \u001b[0;31m[... skipping hidden 12 frame]\u001b[0m\n",
            "\u001b[0;32m<ipython-input-32-1566b8e86e99>\u001b[0m in \u001b[0;36mget_value\u001b[0;34m(σ, params, sizes, arrays)\u001b[0m\n\u001b[1;32m      7\u001b[0m     \u001b[0mN\u001b[0m \u001b[0;34m=\u001b[0m \u001b[0mI\u001b[0m \u001b[0;34m*\u001b[0m \u001b[0mJ\u001b[0m\u001b[0;34m\u001b[0m\u001b[0;34m\u001b[0m\u001b[0m\n\u001b[1;32m      8\u001b[0m     \u001b[0;31m#Load in r_sigma and L_sigma\u001b[0m\u001b[0;34m\u001b[0m\u001b[0;34m\u001b[0m\u001b[0m\n\u001b[0;32m----> 9\u001b[0;31m     \u001b[0mr_σ\u001b[0m \u001b[0;34m=\u001b[0m \u001b[0mcompute_r_σ\u001b[0m\u001b[0;34m(\u001b[0m\u001b[0mσ\u001b[0m\u001b[0;34m,\u001b[0m \u001b[0mparams\u001b[0m\u001b[0;34m,\u001b[0m \u001b[0msizes\u001b[0m\u001b[0;34m,\u001b[0m \u001b[0marrays\u001b[0m\u001b[0;34m)\u001b[0m\u001b[0;34m\u001b[0m\u001b[0;34m\u001b[0m\u001b[0m\n\u001b[0m\u001b[1;32m     10\u001b[0m     \u001b[0mL_σ\u001b[0m \u001b[0;34m=\u001b[0m \u001b[0mcompute_L_σ\u001b[0m\u001b[0;34m(\u001b[0m\u001b[0mσ\u001b[0m\u001b[0;34m,\u001b[0m \u001b[0mparams\u001b[0m\u001b[0;34m,\u001b[0m \u001b[0msizes\u001b[0m\u001b[0;34m,\u001b[0m \u001b[0marrays\u001b[0m\u001b[0;34m)\u001b[0m\u001b[0;34m\u001b[0m\u001b[0;34m\u001b[0m\u001b[0m\n\u001b[1;32m     11\u001b[0m     \u001b[0;31m#Reshape and broadcast over (N,N)\u001b[0m\u001b[0;34m\u001b[0m\u001b[0;34m\u001b[0m\u001b[0m\n",
            "    \u001b[0;31m[... skipping hidden 12 frame]\u001b[0m\n",
            "\u001b[0;32m<ipython-input-27-8a6d3206a883>\u001b[0m in \u001b[0;36mcompute_r_σ\u001b[0;34m(σ, params, sizes, arrays)\u001b[0m\n\u001b[1;32m      8\u001b[0m     \u001b[0mK\u001b[0m\u001b[0;34m,\u001b[0m \u001b[0mc\u001b[0m\u001b[0;34m,\u001b[0m \u001b[0mκ\u001b[0m\u001b[0;34m,\u001b[0m \u001b[0mp\u001b[0m \u001b[0;34m=\u001b[0m \u001b[0mmodel\u001b[0m\u001b[0;34m.\u001b[0m\u001b[0mparams\u001b[0m\u001b[0;34m\u001b[0m\u001b[0;34m\u001b[0m\u001b[0m\n\u001b[1;32m      9\u001b[0m     \u001b[0mr\u001b[0m\u001b[0;34m,\u001b[0m \u001b[0mR\u001b[0m\u001b[0;34m,\u001b[0m \u001b[0my_vals\u001b[0m\u001b[0;34m,\u001b[0m \u001b[0mz_vals\u001b[0m\u001b[0;34m,\u001b[0m \u001b[0mQ\u001b[0m \u001b[0;34m=\u001b[0m \u001b[0mmodel\u001b[0m\u001b[0;34m.\u001b[0m\u001b[0marrays\u001b[0m\u001b[0;34m\u001b[0m\u001b[0;34m\u001b[0m\u001b[0m\n\u001b[0;32m---> 10\u001b[0;31m     \u001b[0mz_idx\u001b[0m\u001b[0;34m=\u001b[0m\u001b[0mjnp\u001b[0m\u001b[0;34m.\u001b[0m\u001b[0marange\u001b[0m\u001b[0;34m(\u001b[0m\u001b[0mz_vals\u001b[0m\u001b[0;34m)\u001b[0m\u001b[0;34m\u001b[0m\u001b[0;34m\u001b[0m\u001b[0m\n\u001b[0m\u001b[1;32m     11\u001b[0m     \u001b[0mI\u001b[0m\u001b[0;34m,\u001b[0m \u001b[0mJ\u001b[0m \u001b[0;34m=\u001b[0m\u001b[0mlen\u001b[0m\u001b[0;34m(\u001b[0m\u001b[0my_vals\u001b[0m\u001b[0;34m)\u001b[0m \u001b[0;34m,\u001b[0m \u001b[0mlen\u001b[0m\u001b[0;34m(\u001b[0m\u001b[0mz_vals\u001b[0m\u001b[0;34m)\u001b[0m\u001b[0;34m\u001b[0m\u001b[0;34m\u001b[0m\u001b[0m\n\u001b[1;32m     12\u001b[0m     \u001b[0mN\u001b[0m \u001b[0;34m=\u001b[0m \u001b[0mI\u001b[0m \u001b[0;34m*\u001b[0m \u001b[0mJ\u001b[0m\u001b[0;34m\u001b[0m\u001b[0;34m\u001b[0m\u001b[0m\n",
            "\u001b[0;32m/usr/local/lib/python3.10/dist-packages/jax/_src/numpy/lax_numpy.py\u001b[0m in \u001b[0;36marange\u001b[0;34m(start, stop, step, dtype)\u001b[0m\n\u001b[1;32m   2317\u001b[0m   \u001b[0;32mfor\u001b[0m \u001b[0mname\u001b[0m\u001b[0;34m,\u001b[0m \u001b[0mval\u001b[0m \u001b[0;32min\u001b[0m \u001b[0;34m[\u001b[0m\u001b[0;34m(\u001b[0m\u001b[0mstart_name\u001b[0m\u001b[0;34m,\u001b[0m \u001b[0mstart\u001b[0m\u001b[0;34m)\u001b[0m\u001b[0;34m,\u001b[0m \u001b[0;34m(\u001b[0m\u001b[0;34m\"stop\"\u001b[0m\u001b[0;34m,\u001b[0m \u001b[0mstop\u001b[0m\u001b[0;34m)\u001b[0m\u001b[0;34m,\u001b[0m \u001b[0;34m(\u001b[0m\u001b[0;34m\"step\"\u001b[0m\u001b[0;34m,\u001b[0m \u001b[0mstep\u001b[0m\u001b[0;34m)\u001b[0m\u001b[0;34m]\u001b[0m\u001b[0;34m:\u001b[0m\u001b[0;34m\u001b[0m\u001b[0;34m\u001b[0m\u001b[0m\n\u001b[1;32m   2318\u001b[0m     \u001b[0;32mif\u001b[0m \u001b[0mval\u001b[0m \u001b[0;32mis\u001b[0m \u001b[0;32mnot\u001b[0m \u001b[0;32mNone\u001b[0m \u001b[0;32mand\u001b[0m \u001b[0mnp\u001b[0m\u001b[0;34m.\u001b[0m\u001b[0mndim\u001b[0m\u001b[0;34m(\u001b[0m\u001b[0mval\u001b[0m\u001b[0;34m)\u001b[0m \u001b[0;34m!=\u001b[0m \u001b[0;36m0\u001b[0m\u001b[0;34m:\u001b[0m\u001b[0;34m\u001b[0m\u001b[0;34m\u001b[0m\u001b[0m\n\u001b[0;32m-> 2319\u001b[0;31m       \u001b[0;32mraise\u001b[0m \u001b[0mValueError\u001b[0m\u001b[0;34m(\u001b[0m\u001b[0;34mf\"jax.numpy.arange: arguments must be scalars; got {name}={val}\"\u001b[0m\u001b[0;34m)\u001b[0m\u001b[0;34m\u001b[0m\u001b[0;34m\u001b[0m\u001b[0m\n\u001b[0m\u001b[1;32m   2320\u001b[0m   \u001b[0;32mif\u001b[0m \u001b[0many\u001b[0m\u001b[0;34m(\u001b[0m\u001b[0mcore\u001b[0m\u001b[0;34m.\u001b[0m\u001b[0mis_symbolic_dim\u001b[0m\u001b[0;34m(\u001b[0m\u001b[0mv\u001b[0m\u001b[0;34m)\u001b[0m \u001b[0;32mfor\u001b[0m \u001b[0mv\u001b[0m \u001b[0;32min\u001b[0m \u001b[0;34m(\u001b[0m\u001b[0mstart\u001b[0m\u001b[0;34m,\u001b[0m \u001b[0mstop\u001b[0m\u001b[0;34m,\u001b[0m \u001b[0mstep\u001b[0m\u001b[0;34m)\u001b[0m\u001b[0;34m)\u001b[0m\u001b[0;34m:\u001b[0m\u001b[0;34m\u001b[0m\u001b[0;34m\u001b[0m\u001b[0m\n\u001b[1;32m   2321\u001b[0m     \u001b[0;31m# Some dynamic shapes\u001b[0m\u001b[0;34m\u001b[0m\u001b[0;34m\u001b[0m\u001b[0m\n",
            "\u001b[0;31mValueError\u001b[0m: jax.numpy.arange: arguments must be scalars; got stop=[0.93984887 0.94236146 0.94487405 0.94738665 0.94989924 0.95241184\n 0.95492443 0.95743703 0.95994962 0.96246222 0.96497481 0.96748741\n 0.97       0.97251259 0.97502519 0.97753778 0.98005038 0.98256297\n 0.98507557 0.98758816 0.99010076 0.99261335 0.99512595 0.99763854\n 1.00015113]"
          ]
        }
      ],
      "source": [
        "### Solve by HPI\n",
        "\n",
        "v_star, σ_star = solve_model_jax(model, algorithm=\"HPI\")"
      ]
    },
    {
      "cell_type": "code",
      "execution_count": 48,
      "metadata": {
        "id": "L1E-RkyE7f0I",
        "colab": {
          "base_uri": "https://localhost:8080/",
          "height": 373
        },
        "outputId": "d35ee7e6-55e3-4314-b8a0-09576c57927d"
      },
      "outputs": [
        {
          "output_type": "stream",
          "name": "stdout",
          "text": [
            "Solving model using OPI.\n"
          ]
        },
        {
          "output_type": "error",
          "ename": "NameError",
          "evalue": "ignored",
          "traceback": [
            "\u001b[0;31m---------------------------------------------------------------------------\u001b[0m",
            "\u001b[0;31mNameError\u001b[0m                                 Traceback (most recent call last)",
            "\u001b[0;32m<ipython-input-48-2d5ee09862a2>\u001b[0m in \u001b[0;36m<cell line: 3>\u001b[0;34m()\u001b[0m\n\u001b[1;32m      1\u001b[0m \u001b[0;31m### Solve by OPI\u001b[0m\u001b[0;34m\u001b[0m\u001b[0;34m\u001b[0m\u001b[0m\n\u001b[1;32m      2\u001b[0m \u001b[0;34m\u001b[0m\u001b[0m\n\u001b[0;32m----> 3\u001b[0;31m \u001b[0mv_star\u001b[0m\u001b[0;34m,\u001b[0m \u001b[0mσ_star\u001b[0m \u001b[0;34m=\u001b[0m \u001b[0msolve_model_jax\u001b[0m\u001b[0;34m(\u001b[0m\u001b[0mmodel\u001b[0m\u001b[0;34m,\u001b[0m \u001b[0malgorithm\u001b[0m\u001b[0;34m=\u001b[0m\u001b[0;34m\"OPI\"\u001b[0m\u001b[0;34m)\u001b[0m\u001b[0;34m\u001b[0m\u001b[0;34m\u001b[0m\u001b[0m\n\u001b[0m",
            "\u001b[0;32m<ipython-input-46-d4ed75a3c3f1>\u001b[0m in \u001b[0;36msolve_model_jax\u001b[0;34m(model, algorithm, **kwargs)\u001b[0m\n\u001b[1;32m     43\u001b[0m     \u001b[0mqe\u001b[0m\u001b[0;34m.\u001b[0m\u001b[0mtic\u001b[0m\u001b[0;34m(\u001b[0m\u001b[0;34m)\u001b[0m\u001b[0;34m\u001b[0m\u001b[0;34m\u001b[0m\u001b[0m\n\u001b[1;32m     44\u001b[0m     \u001b[0mkwargs\u001b[0m\u001b[0;34m[\u001b[0m\u001b[0;34m'usejax'\u001b[0m\u001b[0;34m]\u001b[0m \u001b[0;34m=\u001b[0m \u001b[0;32mTrue\u001b[0m\u001b[0;34m\u001b[0m\u001b[0;34m\u001b[0m\u001b[0m\n\u001b[0;32m---> 45\u001b[0;31m     \u001b[0mv_star\u001b[0m\u001b[0;34m,\u001b[0m \u001b[0mσ_star\u001b[0m \u001b[0;34m=\u001b[0m \u001b[0msolver\u001b[0m\u001b[0;34m(\u001b[0m\u001b[0;34m*\u001b[0m\u001b[0margs\u001b[0m\u001b[0;34m,\u001b[0m \u001b[0;34m**\u001b[0m\u001b[0mkwargs\u001b[0m\u001b[0;34m)\u001b[0m\u001b[0;34m\u001b[0m\u001b[0;34m\u001b[0m\u001b[0m\n\u001b[0m\u001b[1;32m     46\u001b[0m     \u001b[0mrun_time\u001b[0m \u001b[0;34m=\u001b[0m \u001b[0mqe\u001b[0m\u001b[0;34m.\u001b[0m\u001b[0mtoc\u001b[0m\u001b[0;34m(\u001b[0m\u001b[0;34m)\u001b[0m\u001b[0;34m\u001b[0m\u001b[0;34m\u001b[0m\u001b[0m\n\u001b[1;32m     47\u001b[0m     \u001b[0mprint\u001b[0m\u001b[0;34m(\u001b[0m\u001b[0;34mf\"Solved model using {algorithm} in {run_time:.5f} seconds.\"\u001b[0m\u001b[0;34m)\u001b[0m\u001b[0;34m\u001b[0m\u001b[0;34m\u001b[0m\u001b[0m\n",
            "\u001b[0;32m<ipython-input-8-c0fd55dd1ce5>\u001b[0m in \u001b[0;36moptimistic_policy_iteration\u001b[0;34m(v_init, T_σ, get_greedy, tolerance, max_iter, print_step, m, usejax)\u001b[0m\n\u001b[1;32m     15\u001b[0m     \u001b[0;32mwhile\u001b[0m \u001b[0merror\u001b[0m \u001b[0;34m>\u001b[0m \u001b[0mtolerance\u001b[0m \u001b[0;32mand\u001b[0m \u001b[0mk\u001b[0m \u001b[0;34m<\u001b[0m \u001b[0mmax_iter\u001b[0m\u001b[0;34m:\u001b[0m\u001b[0;34m\u001b[0m\u001b[0;34m\u001b[0m\u001b[0m\n\u001b[1;32m     16\u001b[0m         \u001b[0mlast_v\u001b[0m \u001b[0;34m=\u001b[0m \u001b[0mv\u001b[0m\u001b[0;34m\u001b[0m\u001b[0;34m\u001b[0m\u001b[0m\n\u001b[0;32m---> 17\u001b[0;31m         \u001b[0mσ\u001b[0m \u001b[0;34m=\u001b[0m \u001b[0mget_greedy\u001b[0m\u001b[0;34m(\u001b[0m\u001b[0mv\u001b[0m\u001b[0;34m)\u001b[0m\u001b[0;34m\u001b[0m\u001b[0;34m\u001b[0m\u001b[0m\n\u001b[0m\u001b[1;32m     18\u001b[0m         \u001b[0;32mfor\u001b[0m \u001b[0mi\u001b[0m \u001b[0;32min\u001b[0m \u001b[0mrange\u001b[0m\u001b[0;34m(\u001b[0m\u001b[0mm\u001b[0m\u001b[0;34m)\u001b[0m\u001b[0;34m:\u001b[0m\u001b[0;34m\u001b[0m\u001b[0;34m\u001b[0m\u001b[0m\n\u001b[1;32m     19\u001b[0m             \u001b[0mv\u001b[0m \u001b[0;34m=\u001b[0m \u001b[0mT_σ\u001b[0m\u001b[0;34m(\u001b[0m\u001b[0mv\u001b[0m\u001b[0;34m,\u001b[0m \u001b[0mσ\u001b[0m\u001b[0;34m)\u001b[0m\u001b[0;34m\u001b[0m\u001b[0;34m\u001b[0m\u001b[0m\n",
            "\u001b[0;32m<ipython-input-46-d4ed75a3c3f1>\u001b[0m in \u001b[0;36m<lambda>\u001b[0;34m(v)\u001b[0m\n\u001b[1;32m     23\u001b[0m                 \u001b[0;32mlambda\u001b[0m \u001b[0mv\u001b[0m\u001b[0;34m:\u001b[0m \u001b[0mT_σ\u001b[0m\u001b[0;34m(\u001b[0m\u001b[0mv\u001b[0m\u001b[0;34m,\u001b[0m \u001b[0mσ\u001b[0m\u001b[0;34m,\u001b[0m \u001b[0mparams\u001b[0m\u001b[0;34m,\u001b[0m \u001b[0msizes\u001b[0m\u001b[0;34m,\u001b[0m \u001b[0marrays\u001b[0m\u001b[0;34m)\u001b[0m\u001b[0;34m,\u001b[0m\u001b[0;34m\u001b[0m\u001b[0;34m\u001b[0m\u001b[0m\n\u001b[1;32m     24\u001b[0m                 \u001b[0;31m#lambda v: get_greedy(v, model)\u001b[0m\u001b[0;34m\u001b[0m\u001b[0;34m\u001b[0m\u001b[0m\n\u001b[0;32m---> 25\u001b[0;31m                 lambda v: get_greedy(σ, params, sizes, arrays))\n\u001b[0m\u001b[1;32m     26\u001b[0m         \u001b[0mcase\u001b[0m \u001b[0;34m\"HPI\"\u001b[0m\u001b[0;34m:\u001b[0m\u001b[0;34m\u001b[0m\u001b[0;34m\u001b[0m\u001b[0m\n\u001b[1;32m     27\u001b[0m             \u001b[0msolver\u001b[0m \u001b[0;34m=\u001b[0m \u001b[0mhoward_policy_iteration\u001b[0m\u001b[0;34m\u001b[0m\u001b[0;34m\u001b[0m\u001b[0m\n",
            "\u001b[0;31mNameError\u001b[0m: name 'σ' is not defined"
          ]
        }
      ],
      "source": [
        "### Solve by OPI\n",
        "\n",
        "v_star, σ_star = solve_model_jax(model, algorithm=\"OPI\")"
      ]
    },
    {
      "cell_type": "code",
      "execution_count": null,
      "metadata": {
        "id": "v8pvgxop7iKh"
      },
      "outputs": [],
      "source": [
        "plot_ts(model, σ_star, figname=\"jax_ts.pdf\", savefig=False)"
      ]
    },
    {
      "cell_type": "code",
      "execution_count": null,
      "metadata": {
        "id": "UbzIp2-b7ku6"
      },
      "outputs": [],
      "source": [
        "### Test timing\n",
        "\n",
        "hpi_time, vfi_time, opi_times = test_timing_jax(model)"
      ]
    },
    {
      "cell_type": "code",
      "execution_count": null,
      "metadata": {
        "id": "DK9SS3iMYEZK"
      },
      "outputs": [],
      "source": []
    }
  ],
  "metadata": {
    "colab": {
      "provenance": [],
      "include_colab_link": true
    },
    "kernelspec": {
      "display_name": "Python 3 (ipykernel)",
      "language": "python",
      "name": "python3"
    },
    "language_info": {
      "codemirror_mode": {
        "name": "ipython",
        "version": 3
      },
      "file_extension": ".py",
      "mimetype": "text/x-python",
      "name": "python",
      "nbconvert_exporter": "python",
      "pygments_lexer": "ipython3",
      "version": "3.11.4"
    }
  },
  "nbformat": 4,
  "nbformat_minor": 0
}