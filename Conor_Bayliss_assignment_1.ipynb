{
 "cells": [
  {
   "cell_type": "code",
   "execution_count": 1,
   "metadata": {},
   "outputs": [
    {
     "name": "stderr",
     "output_type": "stream",
     "text": [
      "\u001b[32m\u001b[1m    Updating\u001b[22m\u001b[39m registry at `C:\\Users\\bayle\\.julia\\registries\\General.toml`\n"
     ]
    },
    {
     "name": "stderr",
     "output_type": "stream",
     "text": [
      "\u001b[32m\u001b[1m   Resolving\u001b[22m\u001b[39m package versions..."
     ]
    },
    {
     "name": "stderr",
     "output_type": "stream",
     "text": [
      "\n"
     ]
    },
    {
     "name": "stderr",
     "output_type": "stream",
     "text": [
      "\u001b[32m\u001b[1m   Installed\u001b[22m\u001b[39m StaticArraysCore ─ v1.4.2\n",
      "\u001b[32m\u001b[1m   Installed\u001b[22m\u001b[39m Ratios ─────────── v0.4.5\n"
     ]
    },
    {
     "name": "stderr",
     "output_type": "stream",
     "text": [
      "\u001b[32m\u001b[1m   Installed\u001b[22m\u001b[39m OffsetArrays ───── v1.12.10\n",
      "\u001b[32m\u001b[1m   Installed\u001b[22m\u001b[39m StaticArrays ───── v1.6.3\n",
      "\u001b[32m\u001b[1m   Installed\u001b[22m\u001b[39m ChainRulesCore ─── v1.16.0\n"
     ]
    },
    {
     "name": "stderr",
     "output_type": "stream",
     "text": [
      "\u001b[32m\u001b[1m   Installed\u001b[22m\u001b[39m Interpolations ─── v0.14.7\n"
     ]
    },
    {
     "name": "stderr",
     "output_type": "stream",
     "text": [
      "\u001b[32m\u001b[1m   Installed\u001b[22m\u001b[39m Adapt ──────────── v3.6.2\n"
     ]
    },
    {
     "name": "stderr",
     "output_type": "stream",
     "text": [
      "\u001b[32m\u001b[1m    Updating\u001b[22m\u001b[39m `C:\\Users\\bayle\\.julia\\environments\\v1.9\\Project.toml`\n",
      "  \u001b[90m[a98d9a8b] \u001b[39m\u001b[92m+ Interpolations v0.14.7\u001b[39m\n",
      "\u001b[32m\u001b[1m    Updating\u001b[22m\u001b[39m `C:\\Users\\bayle\\.julia\\environments\\v1.9\\Manifest.toml`\n"
     ]
    },
    {
     "name": "stderr",
     "output_type": "stream",
     "text": [
      "  \u001b[90m[79e6a3ab] \u001b[39m\u001b[92m+ Adapt v3.6.2\u001b[39m\n",
      "  \u001b[90m[13072b0f] \u001b[39m\u001b[92m+ AxisAlgorithms v1.0.1\u001b[39m\n",
      "  \u001b[90m[d360d2e6] \u001b[39m\u001b[92m+ ChainRulesCore v1.16.0\u001b[39m\n",
      "  \u001b[90m[a98d9a8b] \u001b[39m\u001b[92m+ Interpolations v0.14.7\u001b[39m\n",
      "  \u001b[90m[6fe1bfb0] \u001b[39m\u001b[92m+ OffsetArrays v1.12.10\u001b[39m\n",
      "  \u001b[90m[c84ed2f1] \u001b[39m\u001b[92m+ Ratios v0.4.5\u001b[39m\n",
      "  \u001b[90m[90137ffa] \u001b[39m\u001b[92m+ StaticArrays v1.6.3\u001b[39m\n",
      "  \u001b[90m[1e83bf80] \u001b[39m\u001b[92m+ StaticArraysCore v1.4.2\u001b[39m\n",
      "  \u001b[90m[efce3f68] \u001b[39m\u001b[92m+ WoodburyMatrices v0.5.5\u001b[39m\n",
      "  \u001b[90m[8ba89e20] \u001b[39m\u001b[92m+ Distributed\u001b[39m\n",
      "  \u001b[90m[1a1011a3] \u001b[39m\u001b[92m+ SharedArrays\u001b[39m"
     ]
    },
    {
     "name": "stderr",
     "output_type": "stream",
     "text": [
      "\n",
      "\u001b[32m\u001b[1mPrecompiling\u001b[22m\u001b[39m "
     ]
    },
    {
     "name": "stderr",
     "output_type": "stream",
     "text": [
      "project..."
     ]
    },
    {
     "name": "stderr",
     "output_type": "stream",
     "text": [
      "\n"
     ]
    },
    {
     "name": "stderr",
     "output_type": "stream",
     "text": [
      "\u001b[32m  ✓ \u001b[39m\u001b[90mWoodburyMatrices\u001b[39m\n",
      "\u001b[32m  ✓ \u001b[39m\u001b[90mRatios\u001b[39m\n",
      "\u001b[32m  ✓ \u001b[39m\u001b[90mAdapt\u001b[39m\n",
      "\u001b[32m  ✓ \u001b[39m\u001b[90mStaticArraysCore\u001b[39m\n"
     ]
    },
    {
     "name": "stderr",
     "output_type": "stream",
     "text": [
      "\u001b[32m  ✓ \u001b[39m\u001b[90mAxisAlgorithms\u001b[39m\n",
      "\u001b[32m  ✓ \u001b[39m\u001b[90mChainRulesCore\u001b[39m\n"
     ]
    },
    {
     "name": "stderr",
     "output_type": "stream",
     "text": [
      "\u001b[32m  ✓ \u001b[39m\u001b[90mRatios → RatiosFixedPointNumbersExt\u001b[39m\n"
     ]
    },
    {
     "name": "stderr",
     "output_type": "stream",
     "text": [
      "\u001b[32m  ✓ \u001b[39m\u001b[90mOffsetArrays\u001b[39m\n"
     ]
    },
    {
     "name": "stderr",
     "output_type": "stream",
     "text": [
      "\u001b[32m  ✓ \u001b[39m\u001b[90mLogExpFunctions → LogExpFunctionsChainRulesCoreExt\u001b[39m\n"
     ]
    },
    {
     "name": "stderr",
     "output_type": "stream",
     "text": [
      "\u001b[32m  ✓ \u001b[39m\u001b[90mSpecialFunctions → SpecialFunctionsChainRulesCoreExt\u001b[39m\n"
     ]
    },
    {
     "name": "stderr",
     "output_type": "stream",
     "text": [
      "\u001b[32m  ✓ \u001b[39m\u001b[90mStaticArrays\u001b[39m\n"
     ]
    },
    {
     "name": "stderr",
     "output_type": "stream",
     "text": [
      "\u001b[32m  ✓ \u001b[39m\u001b[90mAdapt → AdaptStaticArraysExt\u001b[39m\n",
      "\u001b[32m  ✓ \u001b[39m\u001b[90mConstructionBase → ConstructionBaseStaticArraysExt\u001b[39m\n",
      "\u001b[32m  ✓ \u001b[39m\u001b[90mStaticArrays → StaticArraysStatisticsExt\u001b[39m\n"
     ]
    },
    {
     "name": "stderr",
     "output_type": "stream",
     "text": [
      "\u001b[32m  ✓ \u001b[39mInterpolations\n",
      "  15 dependencies successfully precompiled in 19 seconds. 144 already precompiled.\n",
      "\u001b[32m\u001b[1m   Resolving\u001b[22m\u001b[39m package versions...\n"
     ]
    },
    {
     "name": "stderr",
     "output_type": "stream",
     "text": [
      "\u001b[32m\u001b[1m   Installed\u001b[22m\u001b[39m DiffRules ────── v1.15.1\n"
     ]
    },
    {
     "name": "stderr",
     "output_type": "stream",
     "text": [
      "\u001b[32m\u001b[1m   Installed\u001b[22m\u001b[39m ArrayInterface ─ v7.4.11\n",
      "\u001b[32m\u001b[1m   Installed\u001b[22m\u001b[39m FillArrays ───── v1.6.1\n",
      "\u001b[32m\u001b[1m   Installed\u001b[22m\u001b[39m FiniteDiff ───── v2.21.1\n"
     ]
    },
    {
     "name": "stderr",
     "output_type": "stream",
     "text": [
      "\u001b[32m\u001b[1m   Installed\u001b[22m\u001b[39m ForwardDiff ──── v0.10.36\n"
     ]
    },
    {
     "name": "stderr",
     "output_type": "stream",
     "text": [
      "\u001b[32m\u001b[1m   Installed\u001b[22m\u001b[39m Optim ────────── v1.7.7\n"
     ]
    },
    {
     "name": "stderr",
     "output_type": "stream",
     "text": [
      "\u001b[32m\u001b[1m    Updating\u001b[22m\u001b[39m `C:\\Users\\bayle\\.julia\\environments\\v1.9\\Project.toml`\n",
      "  \u001b[90m[429524aa] \u001b[39m\u001b[92m+ Optim v1.7.7\u001b[39m\n",
      "\u001b[32m\u001b[1m    Updating\u001b[22m\u001b[39m `C:\\Users\\bayle\\.julia\\environments\\v1.9\\Manifest.toml`"
     ]
    },
    {
     "name": "stderr",
     "output_type": "stream",
     "text": [
      "\n",
      "  \u001b[90m[4fba245c] \u001b[39m\u001b[92m+ ArrayInterface v7.4.11\u001b[39m\n",
      "  \u001b[90m[bbf7d656] \u001b[39m\u001b[92m+ CommonSubexpressions v0.3.0\u001b[39m\n",
      "  \u001b[90m[163ba53b] \u001b[39m\u001b[92m+ DiffResults v1.1.0\u001b[39m\n",
      "  \u001b[90m[b552c78f] \u001b[39m\u001b[92m+ DiffRules v1.15.1\u001b[39m\n",
      "  \u001b[90m[1a297f60] \u001b[39m\u001b[92m+ FillArrays v1.6.1\u001b[39m\n",
      "  \u001b[90m[6a86dc24] \u001b[39m\u001b[92m+ FiniteDiff v2.21.1\u001b[39m\n",
      "  \u001b[90m[f6369f11] \u001b[39m\u001b[92m+ ForwardDiff v0.10.36\u001b[39m\n",
      "  \u001b[90m[d3d80556] \u001b[39m\u001b[92m+ LineSearches v7.2.0\u001b[39m\n",
      "  \u001b[90m[d41bc354] \u001b[39m\u001b[92m+ NLSolversBase v7.8.3\u001b[39m\n",
      "  \u001b[90m[429524aa] \u001b[39m\u001b[92m+ Optim v1.7.7\u001b[39m\n",
      "  \u001b[90m[d96e819e] \u001b[39m\u001b[92m+ Parameters v0.12.3\u001b[39m\n",
      "  \u001b[90m[85a6dd25] \u001b[39m\u001b[92m+ PositiveFactorizations v0.2.4\u001b[39m\n",
      "  \u001b[90m[efcf1570] \u001b[39m\u001b[92m+ Setfield v1.1.1\u001b[39m\n",
      "  \u001b[90m[3a884ed6] \u001b[39m\u001b[92m+ UnPack v1.0.2\u001b[39m\n",
      "  \u001b[90m[9fa8497b] \u001b[39m\u001b[92m+ Future\u001b[39m\n",
      "  \u001b[90m[4607b0f0] \u001b[39m\u001b[92m+ SuiteSparse\u001b[39m"
     ]
    },
    {
     "name": "stderr",
     "output_type": "stream",
     "text": [
      "\n",
      "\u001b[32m\u001b[1mPrecompiling\u001b[22m\u001b[39m "
     ]
    },
    {
     "name": "stderr",
     "output_type": "stream",
     "text": [
      "project...\n"
     ]
    },
    {
     "name": "stderr",
     "output_type": "stream",
     "text": [
      "\u001b[32m  ✓ \u001b[39m\u001b[90mUnPack\u001b[39m\n",
      "\u001b[32m  ✓ \u001b[39m\u001b[90mPositiveFactorizations\u001b[39m\n",
      "\u001b[32m  ✓ \u001b[39m\u001b[90mDiffResults\u001b[39m\n",
      "\u001b[32m  ✓ \u001b[39m\u001b[90mCommonSubexpressions\u001b[39m\n",
      "\u001b[32m  ✓ \u001b[39m\u001b[90mDiffRules\u001b[39m\n",
      "\u001b[32m  ✓ \u001b[39m\u001b[90mArrayInterface\u001b[39m\n",
      "\u001b[32m  ✓ \u001b[39m\u001b[90mFillArrays\u001b[39m\n"
     ]
    },
    {
     "name": "stderr",
     "output_type": "stream",
     "text": [
      "\u001b[32m  ✓ \u001b[39m\u001b[90mSetfield\u001b[39m\n"
     ]
    },
    {
     "name": "stderr",
     "output_type": "stream",
     "text": [
      "\u001b[32m  ✓ \u001b[39m\u001b[90mArrayInterface → ArrayInterfaceStaticArraysCoreExt\u001b[39m\n"
     ]
    },
    {
     "name": "stderr",
     "output_type": "stream",
     "text": [
      "\u001b[32m  ✓ \u001b[39m\u001b[90mFillArrays → FillArraysSparseArraysExt\u001b[39m\n",
      "\u001b[32m  ✓ \u001b[39m\u001b[90mFiniteDiff\u001b[39m\n",
      "\u001b[32m  ✓ \u001b[39m\u001b[90mParameters\u001b[39m\n"
     ]
    },
    {
     "name": "stderr",
     "output_type": "stream",
     "text": [
      "\u001b[32m  ✓ \u001b[39m\u001b[90mFillArrays → FillArraysStatisticsExt\u001b[39m\n"
     ]
    },
    {
     "name": "stderr",
     "output_type": "stream",
     "text": [
      "\u001b[32m  ✓ \u001b[39m\u001b[90mFiniteDiff → FiniteDiffStaticArraysExt\u001b[39m\n"
     ]
    },
    {
     "name": "stderr",
     "output_type": "stream",
     "text": [
      "\u001b[32m  ✓ \u001b[39m\u001b[90mForwardDiff\u001b[39m\n"
     ]
    },
    {
     "name": "stderr",
     "output_type": "stream",
     "text": [
      "\u001b[32m  ✓ \u001b[39m\u001b[90mNLSolversBase\u001b[39m\n"
     ]
    },
    {
     "name": "stderr",
     "output_type": "stream",
     "text": [
      "\u001b[32m  ✓ \u001b[39m\u001b[90mForwardDiff → ForwardDiffStaticArraysExt\u001b[39m\n"
     ]
    },
    {
     "name": "stderr",
     "output_type": "stream",
     "text": [
      "\u001b[32m  ✓ \u001b[39m\u001b[90mLineSearches\u001b[39m\n"
     ]
    },
    {
     "name": "stderr",
     "output_type": "stream",
     "text": [
      "\u001b[32m  ✓ \u001b[39mOptim\n",
      "  19 dependencies successfully precompiled in 23 seconds. 160 already precompiled.\n"
     ]
    }
   ],
   "source": [
    "using Pkg\n",
    "Pkg.add(\"Interpolations\")\n",
    "Pkg.add(\"Optim\")"
   ]
  },
  {
   "cell_type": "code",
   "execution_count": 172,
   "metadata": {},
   "outputs": [
    {
     "name": "stderr",
     "output_type": "stream",
     "text": [
      "\u001b[32m\u001b[1m   Resolving\u001b[22m\u001b[39m package versions...\n"
     ]
    },
    {
     "name": "stderr",
     "output_type": "stream",
     "text": [
      "\u001b[32m\u001b[1m  No Changes\u001b[22m\u001b[39m to `C:\\Users\\bayle\\.julia\\environments\\v1.9\\Project.toml`\n",
      "\u001b[32m\u001b[1m  No Changes\u001b[22m\u001b[39m to `C:\\Users\\bayle\\.julia\\environments\\v1.9\\Manifest.toml`\n"
     ]
    },
    {
     "name": "stderr",
     "output_type": "stream",
     "text": [
      "\u001b[32m\u001b[1m   Resolving\u001b[22m\u001b[39m package versions..."
     ]
    },
    {
     "name": "stderr",
     "output_type": "stream",
     "text": [
      "\n",
      "\u001b[32m\u001b[1m  No Changes\u001b[22m\u001b[39m to `C:\\Users\\bayle\\.julia\\environments\\v1.9\\Project.toml`\n",
      "\u001b[32m\u001b[1m  No Changes\u001b[22m\u001b[39m to `C:\\Users\\bayle\\.julia\\environments\\v1.9\\Manifest.toml`"
     ]
    },
    {
     "name": "stderr",
     "output_type": "stream",
     "text": [
      "\n"
     ]
    }
   ],
   "source": [
    "using Pkg\n",
    "Pkg.add(\"PyPlot\")\n",
    "Pkg.add(\"LaTeXStrings\")"
   ]
  },
  {
   "cell_type": "code",
   "execution_count": 4,
   "metadata": {},
   "outputs": [],
   "source": [
    "using Interpolations, Optim"
   ]
  },
  {
   "cell_type": "code",
   "execution_count": 120,
   "metadata": {},
   "outputs": [
    {
     "data": {
      "text/plain": [
       "lin_interp"
      ]
     },
     "metadata": {},
     "output_type": "display_data"
    }
   ],
   "source": [
    "\"\"\"\n",
    "A function that provides linear interpolation with constant extrapolation\n",
    "outside the bounds.\n",
    "\n",
    "    x : a linear grid of interpolation points\n",
    "    fx : the values of the function on the grid points\n",
    "\n",
    "\"\"\"\n",
    "function lin_interp(x, fx)\n",
    "    return linear_interpolation(x, fx,\n",
    "    extrapolation_bc = Interpolations.Flat())\n",
    "    \n",
    "end"
   ]
  },
  {
   "cell_type": "code",
   "execution_count": 121,
   "metadata": {},
   "outputs": [
    {
     "data": {
      "text/plain": [
       "create_opt_savings_model"
      ]
     },
     "metadata": {},
     "output_type": "display_data"
    }
   ],
   "source": [
    "\"\"\"\n",
    "Create an instance of the model, stored as a namedtuple.\n",
    "\n",
    "\"\"\"\n",
    "function create_opt_savings_model(; β=0.9, #Discount factor\n",
    "                                    γ=2.0, #CRRA utility parameter\n",
    "                                    R=1.2, #Gross rate of return\n",
    "                                    w_size=200, #Grid size for wealth\n",
    "                                    w_max=10) #maximum wealth\n",
    "    w_grid = LinRange(1e-8, w_max, w_size) #Create the wealth grid\n",
    "    u(c)=c^(1-γ)/(1-γ)\n",
    "    v_init = u.(w_grid) #creating a vector of values for each point in the wealth grid\n",
    "    return (; β, u, R, w_grid, v_init)\n",
    "end\n"
   ]
  },
  {
   "cell_type": "code",
   "execution_count": 122,
   "metadata": {},
   "outputs": [
    {
     "data": {
      "text/plain": [
       "T"
      ]
     },
     "metadata": {},
     "output_type": "display_data"
    }
   ],
   "source": [
    "\"\"\"\n",
    "The Bellman operator\n",
    "\n",
    "    (Tv)(w) = min_{0 ≤ c ≤ w} { u(c) + β v(R(w - c))} Should be max and not min?\n",
    "\n",
    "\"\"\"\n",
    "function T(v, model)\n",
    "    (; β, u, R, w_grid) = model #let this define our model\n",
    "\n",
    "    v_new = similar(v) #create a new vector v_new of exactly the same type as v\n",
    "    v = lin_interp(w_grid, v)  \n",
    "\n",
    "    for (i, w) in enumerate(w_grid)\n",
    "        result = maximize(c -> u(c) + β * v(R * (w-c)), 0.0, w) #choose the value of c which maximises the statement for each point in the wealth grid\n",
    "        v_new[i]=Optim.maximum(result) \n",
    "    end\n",
    "\n",
    "    return v_new\n",
    "end\n"
   ]
  },
  {
   "cell_type": "code",
   "execution_count": 140,
   "metadata": {},
   "outputs": [
    {
     "data": {
      "text/plain": [
       "get_greedy"
      ]
     },
     "metadata": {},
     "output_type": "display_data"
    }
   ],
   "source": [
    "\" Get a v-greedy policy \"\n",
    "function get_greedy(v, model)\n",
    "    (; β, u, R, w_grid) = model\n",
    "    σ = similar(v) #again, create a new vector the same as v. This will be our policy function\n",
    "    v = lin_interp(w_grid, v)\n",
    "\n",
    "    for (i,w) in enumerate(w_grid)\n",
    "        result = maximize(c -> u(c) + β * v(R * (w-c)), 0.0, w)\n",
    "        σ[i]=Optim.maximizer(result) #Notice the difference to the above. The policy function selects which value of c was the maximiser.\n",
    "        \n",
    "    end\n",
    "\n",
    "    return σ\n",
    "end"
   ]
  },
  {
   "cell_type": "code",
   "execution_count": 124,
   "metadata": {},
   "outputs": [
    {
     "data": {
      "text/plain": [
       "vfi"
      ]
     },
     "metadata": {},
     "output_type": "display_data"
    }
   ],
   "source": [
    "\" Value Function Iteration\"\n",
    "function vfi(model;\n",
    "                tolerance=1e-6,\n",
    "                max_iter=10_000,\n",
    "                print_step=100)\n",
    "    \n",
    "    k = 0\n",
    "    error = tolerance + 1 #initial error, we just need this so we can start the loop\n",
    "    v=model.v_init \n",
    "\n",
    "    while (error > tolerance) & (k <= max_iter) \n",
    "        v_new = T(v, model)\n",
    "        error = maximum(abs.(v_new - v)) #supnorm. Error is the maximum pairwise distance\n",
    "        if k % print_step == 0\n",
    "            println(\"Completed iteration $k with error $error.\")\n",
    "        end\n",
    "        v = v_new\n",
    "        k += 1\n",
    "    end\n",
    "\n",
    "    if error <= tolerance\n",
    "        println(\"Terminated successfully in $k iterations\")\n",
    "    else\n",
    "        println(\"Warning: hit iteration bound.\")    \n",
    "    end\n",
    "\n",
    "    σ= get_greedy(v, model) #Given wealth w today, what value of consumption do I choose?\n",
    "    return σ, v\n",
    "    \n",
    "end"
   ]
  },
  {
   "cell_type": "code",
   "execution_count": 147,
   "metadata": {},
   "outputs": [
    {
     "data": {
      "text/plain": [
       "T_σ"
      ]
     },
     "metadata": {},
     "output_type": "display_data"
    }
   ],
   "source": [
    "\"\"\"\n",
    "The policy operator\n",
    "\n",
    "    (T_σ v)(w) =  u(σ(w)) + β v[R(w - σ(w))]\n",
    "\n",
    "\"\"\"\n",
    "function T_σ(v, σ, model)\n",
    "    (; β, u, R, w_grid) = model\n",
    "    # Add your code here\n",
    "    v_new= similar(v)\n",
    "    v=lin_interp(w_grid,v)\n",
    "\n",
    "    for (i, w) in enumerate(w_grid)\n",
    "        result = maximize(c->u(c)+β*v(R*(w-c)), 0.0, w)\n",
    "        σ[i]=Optim.maximum(result) #maximum or maximiser?\n",
    "    end\n",
    "\n",
    "    return σ\n",
    "    \n",
    "\n",
    "end"
   ]
  },
  {
   "cell_type": "code",
   "execution_count": 141,
   "metadata": {},
   "outputs": [
    {
     "data": {
      "text/plain": [
       "get_value"
      ]
     },
     "metadata": {},
     "output_type": "display_data"
    }
   ],
   "source": [
    "\"Approximate lifetime value of policy σ.\"\n",
    "function get_value(v_init, σ, m, model)\n",
    "    v = v_init\n",
    "    k=0\n",
    "    while k<m\n",
    "        v = T_σ(v, σ, model)\n",
    "        k+=1\n",
    "    end\n",
    "    return v\n",
    "    # Compute and return T_σ^m v_init\n",
    "    \n",
    "end"
   ]
  },
  {
   "cell_type": "code",
   "execution_count": 164,
   "metadata": {},
   "outputs": [
    {
     "data": {
      "text/plain": [
       "opi"
      ]
     },
     "metadata": {},
     "output_type": "display_data"
    }
   ],
   "source": [
    "\"Optimistic policy iteration routine.\"\n",
    "function opi(model; \n",
    "              tolerance=1e-6, \n",
    "              max_iter=1_000,\n",
    "              m=2000, #20\n",
    "              print_step=10)\n",
    "    v = model.v_init\n",
    "    # Put your code here\n",
    "    k = 0\n",
    "    error = tolerance + 1\n",
    "\n",
    "    while (error > tolerance) & (k<= max_iter)\n",
    "        σ_new=get_greedy(v, model)\n",
    "        v_new=get_value(v, σ_new, m, model)\n",
    "        #v_new = T_σ(v, σ, model)\n",
    "        error=maximum(abs.(v_new - v))\n",
    "        if k % print_step == 0\n",
    "            println(\"Completed iteration $k with error $error.\")\n",
    "        end\n",
    "        v=v_new\n",
    "        k+=1\n",
    "    end\n",
    "\n",
    "    if error <= tolerance\n",
    "        println(\"Terminated successfully in $k iterations.\")\n",
    "    else\n",
    "        println(\"Warning: hit iteration bound.\")\n",
    "    end\n",
    "\n",
    "    σ= get_greedy(v, model)\n",
    "    return σ, v\n",
    "end"
   ]
  },
  {
   "cell_type": "code",
   "execution_count": 173,
   "metadata": {},
   "outputs": [
    {
     "data": {
      "text/plain": [
       "12"
      ]
     },
     "metadata": {},
     "output_type": "display_data"
    }
   ],
   "source": [
    "using PyPlot\n",
    "using LaTeXStrings\n",
    "fontsize=12"
   ]
  },
  {
   "cell_type": "code",
   "execution_count": 162,
   "metadata": {},
   "outputs": [
    {
     "name": "stdout",
     "output_type": "stream",
     "text": [
      "Solving via VFI. \n",
      "\n"
     ]
    },
    {
     "name": "stdout",
     "output_type": "stream",
     "text": [
      "\n",
      "Completed iteration 0 with error 9.000000634421515e7.\n",
      "Completed iteration 100 with error 2390.5260684490204.\n",
      "Completed iteration 200 with error 0.06349575519561768.\n",
      "Completed iteration 300 with error 1.6689300537109375e-6.\n",
      "Terminated successfully in 306 iterations\n",
      "  0.148000 seconds (195.43 k allocations: 16.374 MiB, 65.73% compilation time)\n",
      "elapsed time (ns):  147999900\n",
      "gc time (ns):       0\n",
      "bytes allocated:    17169730\n",
      "pool allocs:        195325\n",
      "non-pool GC allocs: 108\n",
      "minor collections:  0\n",
      "full collections:   0\n"
     ]
    }
   ],
   "source": [
    "model = create_opt_savings_model()\n",
    "(; β, u, R, w_grid, v_init) = model;\n",
    "println(\"Solving via VFI. \\n\\n\")\n",
    "@timev σ_star, v_star = vfi(model);"
   ]
  },
  {
   "cell_type": "code",
   "execution_count": 176,
   "metadata": {},
   "outputs": [
    {
     "data": {
      "text/plain": [
       "1-element Vector{PyCall.PyObject}:\n",
       " PyObject <matplotlib.lines.Line2D object at 0x0000023A8C4B7CD0>"
      ]
     },
     "metadata": {},
     "output_type": "display_data"
    }
   ],
   "source": [
    "plot(σ_star, v_star)"
   ]
  },
  {
   "cell_type": "code",
   "execution_count": 148,
   "metadata": {},
   "outputs": [
    {
     "data": {
      "text/plain": [
       "200-element Vector{Float64}:\n",
       "    -8.905810665975548e8\n",
       " -1051.2566445255231\n",
       "  -520.6074761577372\n",
       "  -344.07368479585824\n",
       "  -256.3488263154071\n",
       "  -204.15797454939823\n",
       "  -169.60664909493346\n",
       "  -145.0483871903849\n",
       "  -126.69561448776179\n",
       "  -112.46191731076158\n",
       "     ⋮\n",
       "    -5.3039446414704265\n",
       "    -5.280657722036804\n",
       "    -5.25777229758961\n",
       "    -5.235710990623158\n",
       "    -5.2140763479544905\n",
       "    -5.192858086430046\n",
       "    -5.1725929463725695\n",
       "    -5.152787887396123\n",
       "    -5.1341350381266375"
      ]
     },
     "metadata": {},
     "output_type": "display_data"
    }
   ],
   "source": [
    "#model = create_opt_savings_model()\n",
    "#(; β, u, R, w_grid, v_init) = model;\n",
    "#σ=get_greedy(v_init, model)\n",
    "#v=get_value(v_init, σ, 20, model)"
   ]
  },
  {
   "cell_type": "code",
   "execution_count": 166,
   "metadata": {},
   "outputs": [
    {
     "name": "stdout",
     "output_type": "stream",
     "text": [
      "\n",
      "\n",
      "Solving via HPI.\n",
      "\n"
     ]
    },
    {
     "name": "stdout",
     "output_type": "stream",
     "text": [
      "\n",
      "Completed iteration 0 with error 9.000000634421512e8.\n"
     ]
    },
    {
     "name": "stdout",
     "output_type": "stream",
     "text": [
      "Terminated successfully in 2 iterations.\n",
      "  0.690121 seconds (1.61 M allocations: 135.982 MiB, 2.06% gc time)\n",
      "elapsed time (ns):  690121300\n",
      "gc time (ns):       14221400\n",
      "bytes allocated:    142587432\n",
      "pool allocs:        1609357\n",
      "non-pool GC allocs: 0\n",
      "minor collections:  1\n",
      "full collections:   0\n"
     ]
    }
   ],
   "source": [
    "println(\"\\n\\nSolving via HPI.\\n\\n\")\n",
    "@timev σ_star_opi, v_star_hpi = opi(model); #Run time for m=20 is 0.05s. Run time for m=2000 is 0.72s. Run time for m=20000 is 6.45s. Just change the value of m in OPI above."
   ]
  },
  {
   "cell_type": "code",
   "execution_count": 177,
   "metadata": {},
   "outputs": [
    {
     "ename": "PyCall.PyError",
     "evalue": "PyError ($(Expr(:escape, :(ccall(#= C:\\Users\\bayle\\.julia\\packages\\PyCall\\twYvK\\src\\pyfncall.jl:43 =# @pysym(:PyObject_Call), PyPtr, (PyPtr, PyPtr, PyPtr), o, pyargsptr, kw))))) <class 'AttributeError'>\nAttributeError(\"Line2D.set() got an unexpected keyword argument 'show'\")\n  File \"C:\\Users\\bayle\\.julia\\conda\\3\\x86_64\\lib\\site-packages\\matplotlib\\pyplot.py\", line 2812, in plot\n    return gca().plot(\n  File \"C:\\Users\\bayle\\.julia\\conda\\3\\x86_64\\lib\\site-packages\\matplotlib\\axes\\_axes.py\", line 1688, in plot\n    lines = [*self._get_lines(*args, data=data, **kwargs)]\n  File \"C:\\Users\\bayle\\.julia\\conda\\3\\x86_64\\lib\\site-packages\\matplotlib\\axes\\_base.py\", line 311, in __call__\n    yield from self._plot_args(\n  File \"C:\\Users\\bayle\\.julia\\conda\\3\\x86_64\\lib\\site-packages\\matplotlib\\axes\\_base.py\", line 544, in _plot_args\n    return [l[0] for l in result]\n  File \"C:\\Users\\bayle\\.julia\\conda\\3\\x86_64\\lib\\site-packages\\matplotlib\\axes\\_base.py\", line 544, in <listcomp>\n    return [l[0] for l in result]\n  File \"C:\\Users\\bayle\\.julia\\conda\\3\\x86_64\\lib\\site-packages\\matplotlib\\axes\\_base.py\", line 537, in <genexpr>\n    result = (make_artist(x[:, j % ncx], y[:, j % ncy], kw,\n  File \"C:\\Users\\bayle\\.julia\\conda\\3\\x86_64\\lib\\site-packages\\matplotlib\\axes\\_base.py\", line 351, in _makeline\n    seg = mlines.Line2D(x, y, **kw)\n  File \"C:\\Users\\bayle\\.julia\\conda\\3\\x86_64\\lib\\site-packages\\matplotlib\\_api\\deprecation.py\", line 454, in wrapper\n    return func(*args, **kwargs)\n  File \"C:\\Users\\bayle\\.julia\\conda\\3\\x86_64\\lib\\site-packages\\matplotlib\\lines.py\", line 395, in __init__\n    self._internal_update(kwargs)\n  File \"C:\\Users\\bayle\\.julia\\conda\\3\\x86_64\\lib\\site-packages\\matplotlib\\artist.py\", line 1223, in _internal_update\n    return self._update_props(\n  File \"C:\\Users\\bayle\\.julia\\conda\\3\\x86_64\\lib\\site-packages\\matplotlib\\artist.py\", line 1197, in _update_props\n    raise AttributeError(\n",
     "output_type": "error",
     "traceback": [
      "PyError ($(Expr(:escape, :(ccall(#= C:\\Users\\bayle\\.julia\\packages\\PyCall\\twYvK\\src\\pyfncall.jl:43 =# @pysym(:PyObject_Call), PyPtr, (PyPtr, PyPtr, PyPtr), o, pyargsptr, kw))))) <class 'AttributeError'>\n",
      "AttributeError(\"Line2D.set() got an unexpected keyword argument 'show'\")\n",
      "  File \"C:\\Users\\bayle\\.julia\\conda\\3\\x86_64\\lib\\site-packages\\matplotlib\\pyplot.py\", line 2812, in plot\n",
      "    return gca().plot(\n",
      "  File \"C:\\Users\\bayle\\.julia\\conda\\3\\x86_64\\lib\\site-packages\\matplotlib\\axes\\_axes.py\", line 1688, in plot\n",
      "    lines = [*self._get_lines(*args, data=data, **kwargs)]\n",
      "  File \"C:\\Users\\bayle\\.julia\\conda\\3\\x86_64\\lib\\site-packages\\matplotlib\\axes\\_base.py\", line 311, in __call__\n",
      "    yield from self._plot_args(\n",
      "  File \"C:\\Users\\bayle\\.julia\\conda\\3\\x86_64\\lib\\site-packages\\matplotlib\\axes\\_base.py\", line 544, in _plot_args\n",
      "    return [l[0] for l in result]\n",
      "  File \"C:\\Users\\bayle\\.julia\\conda\\3\\x86_64\\lib\\site-packages\\matplotlib\\axes\\_base.py\", line 544, in <listcomp>\n",
      "    return [l[0] for l in result]\n",
      "  File \"C:\\Users\\bayle\\.julia\\conda\\3\\x86_64\\lib\\site-packages\\matplotlib\\axes\\_base.py\", line 537, in <genexpr>\n",
      "    result = (make_artist(x[:, j % ncx], y[:, j % ncy], kw,\n",
      "  File \"C:\\Users\\bayle\\.julia\\conda\\3\\x86_64\\lib\\site-packages\\matplotlib\\axes\\_base.py\", line 351, in _makeline\n",
      "    seg = mlines.Line2D(x, y, **kw)\n",
      "  File \"C:\\Users\\bayle\\.julia\\conda\\3\\x86_64\\lib\\site-packages\\matplotlib\\_api\\deprecation.py\", line 454, in wrapper\n",
      "    return func(*args, **kwargs)\n",
      "  File \"C:\\Users\\bayle\\.julia\\conda\\3\\x86_64\\lib\\site-packages\\matplotlib\\lines.py\", line 395, in __init__\n",
      "    self._internal_update(kwargs)\n",
      "  File \"C:\\Users\\bayle\\.julia\\conda\\3\\x86_64\\lib\\site-packages\\matplotlib\\artist.py\", line 1223, in _internal_update\n",
      "    return self._update_props(\n",
      "  File \"C:\\Users\\bayle\\.julia\\conda\\3\\x86_64\\lib\\site-packages\\matplotlib\\artist.py\", line 1197, in _update_props\n",
      "    raise AttributeError(\n",
      "\n",
      "\n",
      "Stacktrace:\n",
      "  [1] pyerr_check\n",
      "    @ C:\\Users\\bayle\\.julia\\packages\\PyCall\\twYvK\\src\\exception.jl:75 [inlined]\n",
      "  [2] pyerr_check\n",
      "    @ C:\\Users\\bayle\\.julia\\packages\\PyCall\\twYvK\\src\\exception.jl:79 [inlined]\n",
      "  [3] _handle_error(msg::String)\n",
      "    @ PyCall C:\\Users\\bayle\\.julia\\packages\\PyCall\\twYvK\\src\\exception.jl:96\n",
      "  [4] macro expansion\n",
      "    @ C:\\Users\\bayle\\.julia\\packages\\PyCall\\twYvK\\src\\exception.jl:110 [inlined]\n",
      "  [5] #107\n",
      "    @ C:\\Users\\bayle\\.julia\\packages\\PyCall\\twYvK\\src\\pyfncall.jl:43 [inlined]\n",
      "  [6] disable_sigint\n",
      "    @ .\\c.jl:473 [inlined]\n",
      "  [7] __pycall!\n",
      "    @ C:\\Users\\bayle\\.julia\\packages\\PyCall\\twYvK\\src\\pyfncall.jl:42 [inlined]\n",
      "  [8] _pycall!(ret::PyCall.PyObject, o::PyCall.PyObject, args::Tuple{Vector{Float64}, Vector{Float64}}, nargs::Int64, kw::PyCall.PyObject)\n",
      "    @ PyCall C:\\Users\\bayle\\.julia\\packages\\PyCall\\twYvK\\src\\pyfncall.jl:29\n",
      "  [9] _pycall!(ret::PyCall.PyObject, o::PyCall.PyObject, args::Tuple{Vector{Float64}, Vector{Float64}}, kwargs::Base.Pairs{Symbol, Bool, Tuple{Symbol}, NamedTuple{(:show,), Tuple{Bool}}})\n",
      "    @ PyCall C:\\Users\\bayle\\.julia\\packages\\PyCall\\twYvK\\src\\pyfncall.jl:11\n",
      " [10] pycall(::PyCall.PyObject, ::Type{PyCall.PyAny}, ::Vector{Float64}, ::Vararg{Vector{Float64}}; kwargs::Base.Pairs{Symbol, Bool, Tuple{Symbol}, NamedTuple{(:show,), Tuple{Bool}}})\n",
      "    @ PyCall C:\\Users\\bayle\\.julia\\packages\\PyCall\\twYvK\\src\\pyfncall.jl:83\n",
      " [11] plot(::Vector{Float64}, ::Vararg{Vector{Float64}}; kws::Base.Pairs{Symbol, Bool, Tuple{Symbol}, NamedTuple{(:show,), Tuple{Bool}}})\n",
      "    @ PyPlot C:\\Users\\bayle\\.julia\\packages\\PyPlot\\2MlrT\\src\\PyPlot.jl:194\n",
      " [12] top-level scope\n",
      "    @ c:\\Users\\bayle\\Documents\\Coding\\Assignment 1.ipynb:1"
     ]
    }
   ],
   "source": [
    "plot(σ_star_opi, σ_star, show=true)"
   ]
  },
  {
   "cell_type": "code",
   "execution_count": 175,
   "metadata": {},
   "outputs": [
    {
     "data": {
      "text/plain": [
       "2-element Vector{PyCall.PyObject}:\n",
       " PyObject <matplotlib.lines.Line2D object at 0x0000023A8C4B7760>\n",
       " PyObject <matplotlib.lines.Line2D object at 0x0000023A8C4B7790>"
      ]
     },
     "metadata": {},
     "output_type": "display_data"
    }
   ],
   "source": [
    "plot([v_star_hpi v_star])"
   ]
  }
 ],
 "metadata": {
  "kernelspec": {
   "display_name": "Julia 1.9.0",
   "language": "julia",
   "name": "julia-1.9"
  },
  "language_info": {
   "file_extension": ".jl",
   "mimetype": "application/julia",
   "name": "julia",
   "version": "1.9.0"
  },
  "orig_nbformat": 4
 },
 "nbformat": 4,
 "nbformat_minor": 2
}
