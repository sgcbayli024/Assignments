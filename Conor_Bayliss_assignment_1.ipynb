{
  "cells": [
    {
      "cell_type": "markdown",
      "metadata": {
        "id": "view-in-github",
        "colab_type": "text"
      },
      "source": [
        "<a href=\"https://colab.research.google.com/github/sgcbayli024/Assignments/blob/main/Conor_Bayliss_assignment_1.ipynb\" target=\"_parent\"><img src=\"https://colab.research.google.com/assets/colab-badge.svg\" alt=\"Open In Colab\"/></a>"
      ]
    },
    {
      "cell_type": "code",
      "source": [
        "%%shell\n",
        "set -e\n",
        "\n",
        "JULIA_VERSION=\"1.9.3\"\n",
        "JULIA_PACKAGES=\"IJulia BenchmarkTools PyPlot Random Distributions\"\n",
        "JULIA_NUM_THREADS=2\n",
        "\n",
        "\n",
        "if [ -z `which julia` ]; then\n",
        "  # Install Julia\n",
        "  JULIA_VER=`cut -d '.' -f -2 <<< \"$JULIA_VERSION\"`\n",
        "  echo \"Installing Julia $JULIA_VERSION on the current Colab Runtime...\"\n",
        "  BASE_URL=\"https://julialang-s3.julialang.org/bin/linux/x64\"\n",
        "  URL=\"$BASE_URL/$JULIA_VER/julia-$JULIA_VERSION-linux-x86_64.tar.gz\"\n",
        "  wget -nv $URL -O /tmp/julia.tar.gz\n",
        "  tar -x -f /tmp/julia.tar.gz -C /usr/local --strip-components 1\n",
        "  rm /tmp/julia.tar.gz\n",
        "\n",
        "  # Install Packages\n",
        "  for PKG in `echo $JULIA_PACKAGES`; do\n",
        "    echo \"Installing Julia package $PKG...\"\n",
        "    julia -e 'using Pkg; pkg\"add '$PKG'; precompile;\"' &> /dev/null\n",
        "  done\n",
        "\n",
        "  # Install kernel and rename it to \"julia\"\n",
        "  echo \"Installing IJulia kernel...\"\n",
        "  julia -e 'using IJulia; IJulia.installkernel(\"julia\", env=Dict(\n",
        "      \"JULIA_NUM_THREADS\"=>\"'\"$JULIA_NUM_THREADS\"'\"))'\n",
        "  KERNEL_DIR=`julia -e \"using IJulia; print(IJulia.kerneldir())\"`\n",
        "  KERNEL_NAME=`ls -d \"$KERNEL_DIR\"/julia*`\n",
        "  mv -f $KERNEL_NAME \"$KERNEL_DIR\"/julia\n",
        "\n",
        "  echo ''\n",
        "  echo \"Successfully installed `julia -v`!\"\n",
        "  echo \"Now go to Edit -> Notebook settings, set the kernel to Julia 1.9.3 and confirm.\"\n",
        "  echo \"Try code cells below.  If they do not work\"\n",
        "  echo \"please refresh / reload this page in your browser and try again.\"\n",
        "fi"
      ],
      "metadata": {
        "colab": {
          "base_uri": "https://localhost:8080/"
        },
        "id": "_7_hHnjsRDFL",
        "outputId": "8520012f-56c2-4e2f-9799-9aeb68e72fac"
      },
      "execution_count": 5,
      "outputs": [
        {
          "output_type": "stream",
          "name": "stdout",
          "text": [
            "Installing Julia 1.9.3 on the current Colab Runtime...\n",
            "2023-09-15 14:37:46 URL:https://storage.googleapis.com/julialang2/bin/linux/x64/1.9/julia-1.9.3-linux-x86_64.tar.gz [146268149/146268149] -> \"/tmp/julia.tar.gz\" [1]\n",
            "Installing Julia package IJulia...\n",
            "Installing Julia package BenchmarkTools...\n",
            "Installing Julia package PyPlot...\n",
            "Installing Julia package Random...\n",
            "Installing Julia package Distributions...\n",
            "Installing IJulia kernel...\n",
            "\u001b[36m\u001b[1m[ \u001b[22m\u001b[39m\u001b[36m\u001b[1mInfo: \u001b[22m\u001b[39mInstalling julia kernelspec in /root/.local/share/jupyter/kernels/julia-1.9\n",
            "\n",
            "Successfully installed julia version 1.9.3!\n",
            "Now go to Edit -> Notebook settings, set the kernel to Julia 1.9.3 and confirm.\n",
            "Try code cells below.  If they do not work\n",
            "please refresh / reload this page in your browser and try again.\n"
          ]
        },
        {
          "output_type": "execute_result",
          "data": {
            "text/plain": []
          },
          "metadata": {},
          "execution_count": 5
        }
      ]
    },
    {
      "cell_type": "code",
      "execution_count": 1,
      "metadata": {
        "colab": {
          "base_uri": "https://localhost:8080/"
        },
        "id": "AGB5y1FYQ88I",
        "outputId": "ef139a1b-9bcf-4629-8c4c-b526f8eff71a"
      },
      "outputs": [
        {
          "output_type": "stream",
          "name": "stderr",
          "text": [
            "\u001b[32m\u001b[1m    Updating\u001b[22m\u001b[39m registry at `~/.julia/registries/General.toml`\n",
            "\u001b[32m\u001b[1m   Resolving\u001b[22m\u001b[39m package versions...\n",
            "\u001b[32m\u001b[1m   Installed\u001b[22m\u001b[39m OffsetArrays ───── v1.12.10\n",
            "\u001b[32m\u001b[1m   Installed\u001b[22m\u001b[39m Adapt ──────────── v3.6.2\n",
            "\u001b[32m\u001b[1m   Installed\u001b[22m\u001b[39m AxisAlgorithms ─── v1.0.1\n",
            "\u001b[32m\u001b[1m   Installed\u001b[22m\u001b[39m StaticArraysCore ─ v1.4.2\n",
            "\u001b[32m\u001b[1m   Installed\u001b[22m\u001b[39m Ratios ─────────── v0.4.5\n",
            "\u001b[32m\u001b[1m   Installed\u001b[22m\u001b[39m StaticArrays ───── v1.6.3\n",
            "\u001b[32m\u001b[1m   Installed\u001b[22m\u001b[39m WoodburyMatrices ─ v0.5.5\n",
            "\u001b[32m\u001b[1m   Installed\u001b[22m\u001b[39m ChainRulesCore ─── v1.16.0\n",
            "\u001b[32m\u001b[1m   Installed\u001b[22m\u001b[39m Requires ───────── v1.3.0\n",
            "\u001b[32m\u001b[1m   Installed\u001b[22m\u001b[39m Interpolations ─── v0.14.7\n",
            "\u001b[32m\u001b[1m    Updating\u001b[22m\u001b[39m `~/.julia/environments/v1.9/Project.toml`\n",
            "  \u001b[90m[a98d9a8b] \u001b[39m\u001b[92m+ Interpolations v0.14.7\u001b[39m\n",
            "\u001b[32m\u001b[1m    Updating\u001b[22m\u001b[39m `~/.julia/environments/v1.9/Manifest.toml`\n",
            "  \u001b[90m[79e6a3ab] \u001b[39m\u001b[92m+ Adapt v3.6.2\u001b[39m\n",
            "  \u001b[90m[13072b0f] \u001b[39m\u001b[92m+ AxisAlgorithms v1.0.1\u001b[39m\n",
            "  \u001b[90m[d360d2e6] \u001b[39m\u001b[92m+ ChainRulesCore v1.16.0\u001b[39m\n",
            "  \u001b[90m[a98d9a8b] \u001b[39m\u001b[92m+ Interpolations v0.14.7\u001b[39m\n",
            "  \u001b[90m[6fe1bfb0] \u001b[39m\u001b[92m+ OffsetArrays v1.12.10\u001b[39m\n",
            "  \u001b[90m[c84ed2f1] \u001b[39m\u001b[92m+ Ratios v0.4.5\u001b[39m\n",
            "  \u001b[90m[ae029012] \u001b[39m\u001b[92m+ Requires v1.3.0\u001b[39m\n",
            "  \u001b[90m[90137ffa] \u001b[39m\u001b[92m+ StaticArrays v1.6.3\u001b[39m\n",
            "  \u001b[90m[1e83bf80] \u001b[39m\u001b[92m+ StaticArraysCore v1.4.2\u001b[39m\n",
            "  \u001b[90m[efce3f68] \u001b[39m\u001b[92m+ WoodburyMatrices v0.5.5\u001b[39m\n",
            "  \u001b[90m[8ba89e20] \u001b[39m\u001b[92m+ Distributed\u001b[39m\n",
            "  \u001b[90m[1a1011a3] \u001b[39m\u001b[92m+ SharedArrays\u001b[39m\n",
            "\u001b[32m\u001b[1mPrecompiling\u001b[22m\u001b[39m project...\n",
            "\u001b[32m  ✓ \u001b[39m\u001b[90mWoodburyMatrices\u001b[39m\n",
            "\u001b[32m  ✓ \u001b[39m\u001b[90mRequires\u001b[39m\n",
            "\u001b[32m  ✓ \u001b[39m\u001b[90mStaticArraysCore\u001b[39m\n",
            "\u001b[32m  ✓ \u001b[39m\u001b[90mAxisAlgorithms\u001b[39m\n",
            "\u001b[32m  ✓ \u001b[39m\u001b[90mChainRulesCore\u001b[39m\n",
            "\u001b[32m  ✓ \u001b[39m\u001b[90mAdapt\u001b[39m\n",
            "\u001b[32m  ✓ \u001b[39m\u001b[90mRatios\u001b[39m\n",
            "\u001b[32m  ✓ \u001b[39m\u001b[90mLogExpFunctions → LogExpFunctionsChainRulesCoreExt\u001b[39m\n",
            "\u001b[32m  ✓ \u001b[39m\u001b[90mOffsetArrays\u001b[39m\n",
            "\u001b[32m  ✓ \u001b[39m\u001b[90mRatios → RatiosFixedPointNumbersExt\u001b[39m\n",
            "\u001b[32m  ✓ \u001b[39m\u001b[90mSpecialFunctions\u001b[39m\n",
            "\u001b[32m  ✓ \u001b[39m\u001b[90mSpecialFunctions → SpecialFunctionsChainRulesCoreExt\u001b[39m\n",
            "\u001b[32m  ✓ \u001b[39m\u001b[90mDualNumbers\u001b[39m\n",
            "\u001b[32m  ✓ \u001b[39m\u001b[90mStaticArrays\u001b[39m\n",
            "\u001b[32m  ✓ \u001b[39m\u001b[90mHypergeometricFunctions\u001b[39m\n",
            "\u001b[32m  ✓ \u001b[39m\u001b[90mStaticArrays → StaticArraysStatisticsExt\u001b[39m\n",
            "\u001b[32m  ✓ \u001b[39m\u001b[90mAdapt → AdaptStaticArraysExt\u001b[39m\n",
            "\u001b[32m  ✓ \u001b[39mInterpolations\n",
            "\u001b[32m  ✓ \u001b[39m\u001b[90mStatsFuns\u001b[39m\n",
            "\u001b[32m  ✓ \u001b[39m\u001b[90mStatsFuns → StatsFunsChainRulesCoreExt\u001b[39m\n",
            "\u001b[32m  ✓ \u001b[39mDistributions\n",
            "\u001b[32m  ✓ \u001b[39m\u001b[90mDistributions → DistributionsChainRulesCoreExt\u001b[39m\n",
            "  22 dependencies successfully precompiled in 36 seconds. 52 already precompiled.\n",
            "\u001b[32m\u001b[1m   Resolving\u001b[22m\u001b[39m package versions...\n",
            "\u001b[32m\u001b[1m   Installed\u001b[22m\u001b[39m DiffResults ──────────── v1.1.0\n",
            "\u001b[32m\u001b[1m   Installed\u001b[22m\u001b[39m Setfield ─────────────── v1.1.1\n",
            "\u001b[32m\u001b[1m   Installed\u001b[22m\u001b[39m DiffRules ────────────── v1.15.1\n",
            "\u001b[32m\u001b[1m   Installed\u001b[22m\u001b[39m ArrayInterface ───────── v7.4.11\n",
            "\u001b[32m\u001b[1m   Installed\u001b[22m\u001b[39m PositiveFactorizations ─ v0.2.4\n",
            "\u001b[32m\u001b[1m   Installed\u001b[22m\u001b[39m ConstructionBase ─────── v1.5.4\n",
            "\u001b[32m\u001b[1m   Installed\u001b[22m\u001b[39m NLSolversBase ────────── v7.8.3\n",
            "\u001b[32m\u001b[1m   Installed\u001b[22m\u001b[39m LineSearches ─────────── v7.2.0\n",
            "\u001b[32m\u001b[1m   Installed\u001b[22m\u001b[39m ForwardDiff ──────────── v0.10.36\n",
            "\u001b[32m\u001b[1m   Installed\u001b[22m\u001b[39m UnPack ───────────────── v1.0.2\n",
            "\u001b[32m\u001b[1m   Installed\u001b[22m\u001b[39m CommonSubexpressions ─── v0.3.0\n",
            "\u001b[32m\u001b[1m   Installed\u001b[22m\u001b[39m Parameters ───────────── v0.12.3\n",
            "\u001b[32m\u001b[1m   Installed\u001b[22m\u001b[39m FiniteDiff ───────────── v2.21.1\n",
            "\u001b[32m\u001b[1m   Installed\u001b[22m\u001b[39m Optim ────────────────── v1.7.7\n",
            "\u001b[32m\u001b[1m    Updating\u001b[22m\u001b[39m `~/.julia/environments/v1.9/Project.toml`\n",
            "  \u001b[90m[429524aa] \u001b[39m\u001b[92m+ Optim v1.7.7\u001b[39m\n",
            "\u001b[32m\u001b[1m    Updating\u001b[22m\u001b[39m `~/.julia/environments/v1.9/Manifest.toml`\n",
            "  \u001b[90m[4fba245c] \u001b[39m\u001b[92m+ ArrayInterface v7.4.11\u001b[39m\n",
            "  \u001b[90m[bbf7d656] \u001b[39m\u001b[92m+ CommonSubexpressions v0.3.0\u001b[39m\n",
            "  \u001b[90m[187b0558] \u001b[39m\u001b[92m+ ConstructionBase v1.5.4\u001b[39m\n",
            "  \u001b[90m[163ba53b] \u001b[39m\u001b[92m+ DiffResults v1.1.0\u001b[39m\n",
            "  \u001b[90m[b552c78f] \u001b[39m\u001b[92m+ DiffRules v1.15.1\u001b[39m\n",
            "  \u001b[90m[6a86dc24] \u001b[39m\u001b[92m+ FiniteDiff v2.21.1\u001b[39m\n",
            "  \u001b[90m[f6369f11] \u001b[39m\u001b[92m+ ForwardDiff v0.10.36\u001b[39m\n",
            "  \u001b[90m[d3d80556] \u001b[39m\u001b[92m+ LineSearches v7.2.0\u001b[39m\n",
            "  \u001b[90m[d41bc354] \u001b[39m\u001b[92m+ NLSolversBase v7.8.3\u001b[39m\n",
            "  \u001b[90m[429524aa] \u001b[39m\u001b[92m+ Optim v1.7.7\u001b[39m\n",
            "  \u001b[90m[d96e819e] \u001b[39m\u001b[92m+ Parameters v0.12.3\u001b[39m\n",
            "  \u001b[90m[85a6dd25] \u001b[39m\u001b[92m+ PositiveFactorizations v0.2.4\u001b[39m\n",
            "  \u001b[90m[efcf1570] \u001b[39m\u001b[92m+ Setfield v1.1.1\u001b[39m\n",
            "  \u001b[90m[3a884ed6] \u001b[39m\u001b[92m+ UnPack v1.0.2\u001b[39m\n",
            "  \u001b[90m[9fa8497b] \u001b[39m\u001b[92m+ Future\u001b[39m\n",
            "\u001b[32m\u001b[1mPrecompiling\u001b[22m\u001b[39m project...\n",
            "\u001b[32m  ✓ \u001b[39m\u001b[90mUnPack\u001b[39m\n",
            "\u001b[32m  ✓ \u001b[39m\u001b[90mConstructionBase\u001b[39m\n",
            "\u001b[32m  ✓ \u001b[39m\u001b[90mPositiveFactorizations\u001b[39m\n",
            "\u001b[32m  ✓ \u001b[39m\u001b[90mArrayInterface\u001b[39m\n",
            "\u001b[32m  ✓ \u001b[39m\u001b[90mCommonSubexpressions\u001b[39m\n",
            "\u001b[32m  ✓ \u001b[39m\u001b[90mDiffResults\u001b[39m\n",
            "\u001b[32m  ✓ \u001b[39m\u001b[90mParameters\u001b[39m\n",
            "\u001b[32m  ✓ \u001b[39m\u001b[90mDiffRules\u001b[39m\n",
            "\u001b[32m  ✓ \u001b[39m\u001b[90mArrayInterface → ArrayInterfaceStaticArraysCoreExt\u001b[39m\n",
            "\u001b[32m  ✓ \u001b[39m\u001b[90mConstructionBase → ConstructionBaseStaticArraysExt\u001b[39m\n",
            "\u001b[32m  ✓ \u001b[39m\u001b[90mSetfield\u001b[39m\n",
            "\u001b[32m  ✓ \u001b[39m\u001b[90mFiniteDiff\u001b[39m\n",
            "\u001b[32m  ✓ \u001b[39m\u001b[90mFiniteDiff → FiniteDiffStaticArraysExt\u001b[39m\n",
            "\u001b[32m  ✓ \u001b[39m\u001b[90mForwardDiff\u001b[39m\n",
            "\u001b[32m  ✓ \u001b[39m\u001b[90mForwardDiff → ForwardDiffStaticArraysExt\u001b[39m\n",
            "\u001b[32m  ✓ \u001b[39m\u001b[90mNLSolversBase\u001b[39m\n",
            "\u001b[32m  ✓ \u001b[39m\u001b[90mLineSearches\u001b[39m\n",
            "\u001b[32m  ✓ \u001b[39mOptim\n",
            "  18 dependencies successfully precompiled in 20 seconds. 74 already precompiled.\n"
          ]
        }
      ],
      "source": [
        "using Pkg\n",
        "Pkg.add(\"Interpolations\")\n",
        "Pkg.add(\"Optim\")"
      ]
    },
    {
      "cell_type": "code",
      "execution_count": 2,
      "metadata": {
        "colab": {
          "base_uri": "https://localhost:8080/"
        },
        "id": "Nskexi9gQ88M",
        "outputId": "1f45779c-bea0-45a0-b054-fa96edd99479"
      },
      "outputs": [
        {
          "output_type": "stream",
          "name": "stderr",
          "text": [
            "\u001b[32m\u001b[1m   Resolving\u001b[22m\u001b[39m package versions...\n",
            "\u001b[32m\u001b[1m  No Changes\u001b[22m\u001b[39m to `~/.julia/environments/v1.9/Project.toml`\n",
            "\u001b[32m\u001b[1m  No Changes\u001b[22m\u001b[39m to `~/.julia/environments/v1.9/Manifest.toml`\n",
            "\u001b[32m\u001b[1m   Resolving\u001b[22m\u001b[39m package versions...\n",
            "\u001b[32m\u001b[1m    Updating\u001b[22m\u001b[39m `~/.julia/environments/v1.9/Project.toml`\n",
            "  \u001b[90m[b964fa9f] \u001b[39m\u001b[92m+ LaTeXStrings v1.3.0\u001b[39m\n",
            "\u001b[32m\u001b[1m  No Changes\u001b[22m\u001b[39m to `~/.julia/environments/v1.9/Manifest.toml`\n"
          ]
        }
      ],
      "source": [
        "using Pkg\n",
        "Pkg.add(\"PyPlot\")\n",
        "Pkg.add(\"LaTeXStrings\")"
      ]
    },
    {
      "cell_type": "code",
      "execution_count": 3,
      "metadata": {
        "id": "S0_lqXkmQ88M"
      },
      "outputs": [],
      "source": [
        "using Interpolations, Optim"
      ]
    },
    {
      "cell_type": "code",
      "execution_count": 4,
      "metadata": {
        "colab": {
          "base_uri": "https://localhost:8080/"
        },
        "id": "u81M44RXQ88M",
        "outputId": "8e5d4f85-9bc4-4506-c735-387926725058"
      },
      "outputs": [
        {
          "output_type": "execute_result",
          "data": {
            "text/plain": [
              "lin_interp"
            ]
          },
          "metadata": {},
          "execution_count": 4
        }
      ],
      "source": [
        "\"\"\"\n",
        "A function that provides linear interpolation with constant extrapolation\n",
        "outside the bounds.\n",
        "\n",
        "    x : a linear grid of interpolation points\n",
        "    fx : the values of the function on the grid points\n",
        "\n",
        "\"\"\"\n",
        "function lin_interp(x, fx)\n",
        "    return linear_interpolation(x, fx,\n",
        "    extrapolation_bc = Interpolations.Flat())\n",
        "\n",
        "end"
      ]
    },
    {
      "cell_type": "code",
      "execution_count": 5,
      "metadata": {
        "colab": {
          "base_uri": "https://localhost:8080/"
        },
        "id": "ETJ1pFdXQ88N",
        "outputId": "8e7062c9-8ff9-4a34-deec-5712941634d9"
      },
      "outputs": [
        {
          "output_type": "execute_result",
          "data": {
            "text/plain": [
              "create_opt_savings_model"
            ]
          },
          "metadata": {},
          "execution_count": 5
        }
      ],
      "source": [
        "\"\"\"\n",
        "Create an instance of the model, stored as a namedtuple.\n",
        "\n",
        "\"\"\"\n",
        "function create_opt_savings_model(; β=0.9, #Discount factor\n",
        "                                    γ=2.0, #CRRA utility parameter\n",
        "                                    R=1.2, #Gross rate of return\n",
        "                                    w_size=200, #Grid size for wealth\n",
        "                                    w_max=10) #maximum wealth\n",
        "    w_grid = LinRange(1e-8, w_max, w_size) #Create the wealth grid\n",
        "    u(c)=c^(1-γ)/(1-γ)\n",
        "    v_init = u.(w_grid) #creating a vector of values for each point in the wealth grid\n",
        "    return (; β, u, R, w_grid, v_init)\n",
        "end\n"
      ]
    },
    {
      "cell_type": "code",
      "execution_count": 6,
      "metadata": {
        "colab": {
          "base_uri": "https://localhost:8080/"
        },
        "id": "MuMJNjtSQ88N",
        "outputId": "b0548c52-7166-446c-9483-b167994289e3"
      },
      "outputs": [
        {
          "output_type": "execute_result",
          "data": {
            "text/plain": [
              "T"
            ]
          },
          "metadata": {},
          "execution_count": 6
        }
      ],
      "source": [
        "\"\"\"\n",
        "The Bellman operator\n",
        "\n",
        "    (Tv)(w) = min_{0 ≤ c ≤ w} { u(c) + β v(R(w - c))} Should be max and not min?\n",
        "\n",
        "\"\"\"\n",
        "function T(v, model)\n",
        "    (; β, u, R, w_grid) = model\n",
        "\n",
        "    v_new = similar(v) #create a new vector v_new of exactly the same type as v\n",
        "    v = lin_interp(w_grid, v)\n",
        "\n",
        "    for (i, w) in enumerate(w_grid)\n",
        "        result = maximize(c -> u(c) + β * v(R * (w-c)), 0.0, w) #choose the value of c which maximises the statement for each point in the wealth grid\n",
        "        v_new[i]=Optim.maximum(result)\n",
        "    end\n",
        "\n",
        "    return v_new\n",
        "end\n"
      ]
    },
    {
      "cell_type": "code",
      "execution_count": 8,
      "metadata": {
        "colab": {
          "base_uri": "https://localhost:8080/"
        },
        "id": "f8tx2Zt3Q88O",
        "outputId": "b2b59e75-22b2-40eb-a611-f381a6172f56"
      },
      "outputs": [
        {
          "output_type": "execute_result",
          "data": {
            "text/plain": [
              "get_greedy"
            ]
          },
          "metadata": {},
          "execution_count": 8
        }
      ],
      "source": [
        "\" Get a v-greedy policy \"\n",
        "function get_greedy(v, model)\n",
        "    (; β, u, R, w_grid) = model\n",
        "    σ = similar(v) #again, create a new vector the same as v. This will be our policy function\n",
        "    v = lin_interp(w_grid, v)\n",
        "\n",
        "    for (i,w) in enumerate(w_grid)\n",
        "        result = maximize(c -> u(c) + β * v(R * (w-c)), 0.0, w)\n",
        "        σ[i]=Optim.maximizer(result) #Notice the difference to the above. The policy function selects which value of c was the maximiser.\n",
        "\n",
        "    end\n",
        "\n",
        "    return σ\n",
        "end"
      ]
    },
    {
      "cell_type": "code",
      "execution_count": 9,
      "metadata": {
        "colab": {
          "base_uri": "https://localhost:8080/"
        },
        "id": "_fLvBtdcQ88O",
        "outputId": "8f0a043c-a8e2-4a57-f4b7-4ca749c4ef14"
      },
      "outputs": [
        {
          "output_type": "execute_result",
          "data": {
            "text/plain": [
              "vfi"
            ]
          },
          "metadata": {},
          "execution_count": 9
        }
      ],
      "source": [
        "\" Value Function Iteration\"\n",
        "function vfi(model;\n",
        "                tolerance=1e-6,\n",
        "                max_iter=10_000,\n",
        "                print_step=100)\n",
        "\n",
        "    k = 0\n",
        "    error = tolerance + 1 #initial error, we just need this so we can start the loop\n",
        "    v=model.v_init\n",
        "\n",
        "    while (error > tolerance) & (k <= max_iter)\n",
        "        v_new = T(v, model)\n",
        "        error = maximum(abs.(v_new - v)) #supnorm. Error is the maximum pairwise distance\n",
        "        if k % print_step == 0\n",
        "            println(\"Completed iteration $k with error $error.\")\n",
        "        end\n",
        "        v = v_new\n",
        "        k += 1\n",
        "    end\n",
        "\n",
        "    if error <= tolerance\n",
        "        println(\"Terminated successfully in $k iterations\")\n",
        "    else\n",
        "        println(\"Warning: hit iteration bound.\")\n",
        "    end\n",
        "\n",
        "    σ= get_greedy(v, model) #Given wealth w today, what value of consumption do I choose?\n",
        "    return σ, v\n",
        "\n",
        "end"
      ]
    },
    {
      "cell_type": "code",
      "execution_count": 10,
      "metadata": {
        "colab": {
          "base_uri": "https://localhost:8080/"
        },
        "id": "Jh1aXvhHQ88P",
        "outputId": "65de3800-d853-4582-fd08-6bb2bf90e5e9"
      },
      "outputs": [
        {
          "output_type": "execute_result",
          "data": {
            "text/plain": [
              "T_σ"
            ]
          },
          "metadata": {},
          "execution_count": 10
        }
      ],
      "source": [
        "\"\"\"\n",
        "The policy operator\n",
        "\n",
        "    (T_σ v)(w) =  u(σ(w)) + β v[R(w - σ(w))]\n",
        "\n",
        "\"\"\"\n",
        "function T_σ(v, σ, model)\n",
        "    (; β, u, R, w_grid) = model\n",
        "    # Add your code here\n",
        "    v_new= similar(v)\n",
        "    v=lin_interp(w_grid,v)\n",
        "\n",
        "    for (i, w) in enumerate(w_grid)\n",
        "        result = maximize(c->u(c)+β*v(R*(w-c)), 0.0, w)\n",
        "        σ[i]=Optim.maximum(result) #maximum or maximiser?\n",
        "    end\n",
        "\n",
        "    return σ\n",
        "\n",
        "\n",
        "end"
      ]
    },
    {
      "cell_type": "code",
      "execution_count": 11,
      "metadata": {
        "colab": {
          "base_uri": "https://localhost:8080/"
        },
        "id": "Ng0khDxWQ88P",
        "outputId": "5a7bf810-abfa-4062-aca3-e5de63e84211"
      },
      "outputs": [
        {
          "output_type": "execute_result",
          "data": {
            "text/plain": [
              "get_value"
            ]
          },
          "metadata": {},
          "execution_count": 11
        }
      ],
      "source": [
        "\"Approximate lifetime value of policy σ.\"\n",
        "function get_value(v_init, σ, m, model)\n",
        "    v = v_init\n",
        "    k=0\n",
        "    while k<m\n",
        "        v = T_σ(v, σ, model)\n",
        "        k+=1\n",
        "    end\n",
        "    return v\n",
        "    # Compute and return T_σ^m v_init\n",
        "\n",
        "end"
      ]
    },
    {
      "cell_type": "code",
      "execution_count": 12,
      "metadata": {
        "colab": {
          "base_uri": "https://localhost:8080/"
        },
        "id": "AhPLLRL5Q88Q",
        "outputId": "6546b3d7-e072-40f8-eb0d-079fba141cc6"
      },
      "outputs": [
        {
          "output_type": "execute_result",
          "data": {
            "text/plain": [
              "opi"
            ]
          },
          "metadata": {},
          "execution_count": 12
        }
      ],
      "source": [
        "\"Optimistic policy iteration routine.\"\n",
        "function opi(model;\n",
        "              tolerance=1e-6,\n",
        "              max_iter=1_000,\n",
        "              m=2000, #20\n",
        "              print_step=10)\n",
        "    v = model.v_init\n",
        "    # Put your code here\n",
        "    k = 0\n",
        "    error = tolerance + 1\n",
        "\n",
        "    while (error > tolerance) & (k<= max_iter)\n",
        "        σ_new=get_greedy(v, model)\n",
        "        v_new=get_value(v, σ_new, m, model)\n",
        "        #v_new = T_σ(v, σ, model)\n",
        "        error=maximum(abs.(v_new - v))\n",
        "        if k % print_step == 0\n",
        "            println(\"Completed iteration $k with error $error.\")\n",
        "        end\n",
        "        v=v_new\n",
        "        k+=1\n",
        "    end\n",
        "\n",
        "    if error <= tolerance\n",
        "        println(\"Terminated successfully in $k iterations.\")\n",
        "    else\n",
        "        println(\"Warning: hit iteration bound.\")\n",
        "    end\n",
        "\n",
        "    σ= get_greedy(v, model)\n",
        "    return σ, v\n",
        "end"
      ]
    },
    {
      "cell_type": "code",
      "execution_count": 13,
      "metadata": {
        "colab": {
          "base_uri": "https://localhost:8080/"
        },
        "id": "5LgC59X6Q88Q",
        "outputId": "fbb6fd9c-5ed3-45c0-d743-b19105920867"
      },
      "outputs": [
        {
          "output_type": "execute_result",
          "data": {
            "text/plain": [
              "12"
            ]
          },
          "metadata": {},
          "execution_count": 13
        }
      ],
      "source": [
        "using PyPlot\n",
        "using LaTeXStrings\n",
        "fontsize=12"
      ]
    },
    {
      "cell_type": "code",
      "execution_count": 14,
      "metadata": {
        "colab": {
          "base_uri": "https://localhost:8080/"
        },
        "id": "i1lCskyqQ88R",
        "outputId": "6d3b6a57-9447-4145-9415-7ae535c1d43d"
      },
      "outputs": [
        {
          "output_type": "stream",
          "name": "stdout",
          "text": [
            "Solving via VFI. \n",
            "\n",
            "\n",
            "Completed iteration 0 with error 9.000000634421515e7.\n",
            "Completed iteration 100 with error 2390.5260684490204.\n",
            "Completed iteration 200 with error 0.06349575519561768.\n",
            "Completed iteration 300 with error 1.6689300537109375e-6.\n",
            "Terminated successfully in 306 iterations\n",
            "  1.287208 seconds (1.72 M allocations: 116.747 MiB, 5.99% gc time, 92.07% compilation time)\n",
            "elapsed time (ns):  1287207773\n",
            "gc time (ns):       77070965\n",
            "bytes allocated:    122418525\n",
            "pool allocs:        1714442\n",
            "non-pool GC allocs: 1291\n",
            "malloc() calls:     15\n",
            "free() calls:       54\n",
            "minor collections:  3\n",
            "full collections:   0\n"
          ]
        }
      ],
      "source": [
        "model = create_opt_savings_model()\n",
        "(; β, u, R, w_grid, v_init) = model;\n",
        "println(\"Solving via VFI. \\n\\n\")\n",
        "@timev σ_star, v_star = vfi(model);"
      ]
    },
    {
      "cell_type": "code",
      "source": [
        "plot(σ_star)"
      ],
      "metadata": {
        "colab": {
          "base_uri": "https://localhost:8080/",
          "height": 470
        },
        "id": "EHnoRNIhT_3i",
        "outputId": "46118fc1-3874-41ad-ad23-449883ead799"
      },
      "execution_count": 27,
      "outputs": [
        {
          "output_type": "display_data",
          "data": {
            "text/plain": [
              "Figure(PyObject <Figure size 640x480 with 1 Axes>)"
            ],
            "image/png": "[encoded data removed]"
          },
          "metadata": {}
        },
        {
          "output_type": "execute_result",
          "data": {
            "text/plain": [
              "1-element Vector{PyCall.PyObject}:\n",
              " PyObject <matplotlib.lines.Line2D object at 0x7f7dcaf713c0>"
            ]
          },
          "metadata": {},
          "execution_count": 27
        }
      ]
    },
    {
      "cell_type": "code",
      "execution_count": 24,
      "metadata": {
        "colab": {
          "base_uri": "https://localhost:8080/",
          "height": 480
        },
        "id": "p56OP08VQ88R",
        "outputId": "24992b24-c712-4182-a5c0-b1069a7ae039"
      },
      "outputs": [
        {
          "output_type": "display_data",
          "data": {
            "text/plain": [
              "Figure(PyObject <Figure size 640x480 with 1 Axes>)"
            ],
            "image/png": "[encoded data removed]"
          },
          "metadata": {}
        },
        {
          "output_type": "execute_result",
          "data": {
            "text/plain": [
              "1-element Vector{PyCall.PyObject}:\n",
              " PyObject <matplotlib.lines.Line2D object at 0x7f7dcb1dd8a0>"
            ]
          },
          "metadata": {},
          "execution_count": 24
        }
      ],
      "source": [
        "plot(v_star)"
      ]
    },
    {
      "cell_type": "code",
      "source": [
        "plot(v_star_hpi)"
      ],
      "metadata": {
        "colab": {
          "base_uri": "https://localhost:8080/",
          "height": 480
        },
        "id": "tuYR6SjLTmIP",
        "outputId": "1d20938e-a163-40df-c434-22d2af0a942e"
      },
      "execution_count": 25,
      "outputs": [
        {
          "output_type": "display_data",
          "data": {
            "text/plain": [
              "Figure(PyObject <Figure size 640x480 with 1 Axes>)"
            ],
            "image/png": "[encoded data removed]"
          },
          "metadata": {}
        },
        {
          "output_type": "execute_result",
          "data": {
            "text/plain": [
              "1-element Vector{PyCall.PyObject}:\n",
              " PyObject <matplotlib.lines.Line2D object at 0x7f7dcb061630>"
            ]
          },
          "metadata": {},
          "execution_count": 25
        }
      ]
    },
    {
      "cell_type": "code",
      "source": [
        "plot(σ_star_opi)"
      ],
      "metadata": {
        "colab": {
          "base_uri": "https://localhost:8080/",
          "height": 470
        },
        "id": "3u4ja60aTx3I",
        "outputId": "e20922a3-e843-43b9-c8a8-c2eee659aaa3"
      },
      "execution_count": 26,
      "outputs": [
        {
          "output_type": "display_data",
          "data": {
            "text/plain": [
              "Figure(PyObject <Figure size 640x480 with 1 Axes>)"
            ],
            "image/png": "[encoded data removed]"
          },
          "metadata": {}
        },
        {
          "output_type": "execute_result",
          "data": {
            "text/plain": [
              "1-element Vector{PyCall.PyObject}:\n",
              " PyObject <matplotlib.lines.Line2D object at 0x7f7dcb0ec7c0>"
            ]
          },
          "metadata": {},
          "execution_count": 26
        }
      ]
    },
    {
      "cell_type": "code",
      "execution_count": null,
      "metadata": {
        "id": "cRq7LzuGQ88R",
        "outputId": "d6265fd2-2d02-4c5e-a447-db891ff8bd06"
      },
      "outputs": [
        {
          "data": {
            "text/plain": [
              "200-element Vector{Float64}:\n",
              "    -8.905810665975548e8\n",
              " -1051.2566445255231\n",
              "  -520.6074761577372\n",
              "  -344.07368479585824\n",
              "  -256.3488263154071\n",
              "  -204.15797454939823\n",
              "  -169.60664909493346\n",
              "  -145.0483871903849\n",
              "  -126.69561448776179\n",
              "  -112.46191731076158\n",
              "     ⋮\n",
              "    -5.3039446414704265\n",
              "    -5.280657722036804\n",
              "    -5.25777229758961\n",
              "    -5.235710990623158\n",
              "    -5.2140763479544905\n",
              "    -5.192858086430046\n",
              "    -5.1725929463725695\n",
              "    -5.152787887396123\n",
              "    -5.1341350381266375"
            ]
          },
          "metadata": {},
          "output_type": "display_data"
        }
      ],
      "source": [
        "#model = create_opt_savings_model() #This code was just to make sure everything was running ok since I had a couple of issues to iron out in the code.\n",
        "#(; β, u, R, w_grid, v_init) = model; #Therefore, feel free to ignore this.\n",
        "#σ=get_greedy(v_init, model)\n",
        "#v=get_value(v_init, σ, 20, model)"
      ]
    },
    {
      "cell_type": "code",
      "execution_count": 16,
      "metadata": {
        "colab": {
          "base_uri": "https://localhost:8080/"
        },
        "id": "87IxEiVcQ88R",
        "outputId": "2333bd98-3347-4e70-f505-e7092942e6d5"
      },
      "outputs": [
        {
          "output_type": "stream",
          "name": "stdout",
          "text": [
            "\n",
            "\n",
            "Solving via HPI.\n",
            "\n",
            "\n",
            "Completed iteration 0 with error 9.000000634421512e8.\n",
            "Terminated successfully in 2 iterations.\n",
            "  1.864637 seconds (1.68 M allocations: 141.073 MiB, 3.56% gc time, 12.74% compilation time)\n",
            "elapsed time (ns):  1864637466\n",
            "gc time (ns):       66434992\n",
            "bytes allocated:    147925808\n",
            "pool allocs:        1683958\n",
            "non-pool GC allocs: 108\n",
            "free() calls:       9\n",
            "minor collections:  3\n",
            "full collections:   0\n"
          ]
        }
      ],
      "source": [
        "println(\"\\n\\nSolving via HPI.\\n\\n\")\n",
        "@timev σ_star_opi, v_star_hpi = opi(model); #Run time for m=20 is 0.05s. Run time for m=2000 is 0.72s. Run time for m=20000 is 6.45s. Just change the value of m in OPI above."
      ]
    },
    {
      "cell_type": "code",
      "execution_count": 18,
      "metadata": {
        "colab": {
          "base_uri": "https://localhost:8080/",
          "height": 470
        },
        "id": "jD4ovcaYQ88R",
        "outputId": "9d9ec337-40c8-4ce9-8bce-26ab0dfef831"
      },
      "outputs": [
        {
          "output_type": "display_data",
          "data": {
            "text/plain": [
              "Figure(PyObject <Figure size 640x480 with 1 Axes>)"
            ],
            "image/png": "[encoded data removed]"
          },
          "metadata": {}
        },
        {
          "output_type": "execute_result",
          "data": {
            "text/plain": [
              "1-element Vector{PyCall.PyObject}:\n",
              " PyObject <matplotlib.lines.Line2D object at 0x7f7dcb5b4c70>"
            ]
          },
          "metadata": {},
          "execution_count": 18
        }
      ],
      "source": [
        "plot(σ_star_opi, σ_star)"
      ]
    },
    {
      "cell_type": "code",
      "execution_count": 21,
      "metadata": {
        "colab": {
          "base_uri": "https://localhost:8080/",
          "height": 497
        },
        "id": "pfZ1_igeQ88S",
        "outputId": "795323e4-94f0-438d-ed3e-3234a62a7cc0"
      },
      "outputs": [
        {
          "output_type": "display_data",
          "data": {
            "text/plain": [
              "Figure(PyObject <Figure size 640x480 with 1 Axes>)"
            ],
            "image/png": "[encoded data removed]"
          },
          "metadata": {}
        },
        {
          "output_type": "execute_result",
          "data": {
            "text/plain": [
              "2-element Vector{PyCall.PyObject}:\n",
              " PyObject <matplotlib.lines.Line2D object at 0x7f7dcb246950>\n",
              " PyObject <matplotlib.lines.Line2D object at 0x7f7dcb2469b0>"
            ]
          },
          "metadata": {},
          "execution_count": 21
        }
      ],
      "source": [
        "plot([v_star_hpi v_star])"
      ]
    }
  ],
  "metadata": {
    "kernelspec": {
      "display_name": "julia 1.9.3",
      "name": "julia"
    },
    "orig_nbformat": 4,
    "colab": {
      "provenance": [],
      "include_colab_link": true
    }
  },
  "nbformat": 4,
  "nbformat_minor": 0
}