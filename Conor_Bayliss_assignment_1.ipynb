{
 "cells": [
  {
   "cell_type": "code",
   "execution_count": 1,
   "metadata": {
    "scrolled": true
   },
   "outputs": [
    {
     "name": "stderr",
     "output_type": "stream",
     "text": [
      "\u001b[32m\u001b[1m   Resolving\u001b[22m\u001b[39m package versions...\n",
      "\u001b[32m\u001b[1m  No Changes\u001b[22m\u001b[39m to `C:\\Users\\bayle\\Documents\\Coding\\Julia\\Project.toml`\n",
      "\u001b[32m\u001b[1m  No Changes\u001b[22m\u001b[39m to `C:\\Users\\bayle\\Documents\\Coding\\Julia\\Manifest.toml`\n",
      "\u001b[32m\u001b[1m   Resolving\u001b[22m\u001b[39m package versions...\n",
      "\u001b[32m\u001b[1m  No Changes\u001b[22m\u001b[39m to `C:\\Users\\bayle\\Documents\\Coding\\Julia\\Project.toml`\n",
      "\u001b[32m\u001b[1m  No Changes\u001b[22m\u001b[39m to `C:\\Users\\bayle\\Documents\\Coding\\Julia\\Manifest.toml`\n"
     ]
    }
   ],
   "source": [
    "using Pkg\n",
    "Pkg.add(\"Interpolations\")\n",
    "Pkg.add(\"Optim\")"
   ]
  },
  {
   "cell_type": "code",
   "execution_count": 2,
   "metadata": {
    "scrolled": true
   },
   "outputs": [
    {
     "name": "stderr",
     "output_type": "stream",
     "text": [
      "\u001b[32m\u001b[1m   Resolving\u001b[22m\u001b[39m package versions...\n",
      "\u001b[32m\u001b[1m  No Changes\u001b[22m\u001b[39m to `C:\\Users\\bayle\\Documents\\Coding\\Julia\\Project.toml`\n",
      "\u001b[32m\u001b[1m  No Changes\u001b[22m\u001b[39m to `C:\\Users\\bayle\\Documents\\Coding\\Julia\\Manifest.toml`\n",
      "\u001b[32m\u001b[1m   Resolving\u001b[22m\u001b[39m package versions...\n",
      "\u001b[32m\u001b[1m  No Changes\u001b[22m\u001b[39m to `C:\\Users\\bayle\\Documents\\Coding\\Julia\\Project.toml`\n",
      "\u001b[32m\u001b[1m  No Changes\u001b[22m\u001b[39m to `C:\\Users\\bayle\\Documents\\Coding\\Julia\\Manifest.toml`\n"
     ]
    }
   ],
   "source": [
    "using Pkg\n",
    "Pkg.add(\"PyPlot\")\n",
    "Pkg.add(\"LaTeXStrings\")"
   ]
  },
  {
   "cell_type": "code",
   "execution_count": 3,
   "metadata": {},
   "outputs": [],
   "source": [
    "using Interpolations, Optim"
   ]
  },
  {
   "cell_type": "code",
   "execution_count": 4,
   "metadata": {},
   "outputs": [
    {
     "data": {
      "text/plain": [
       "lin_interp"
      ]
     },
     "execution_count": 4,
     "metadata": {},
     "output_type": "execute_result"
    }
   ],
   "source": [
    "\"\"\"\n",
    "A function that provides linear interpolation with constant extrapolation\n",
    "outside the bounds.\n",
    "\n",
    "    x : a linear grid of interpolation points\n",
    "    fx : the values of the function on the grid points\n",
    "\n",
    "\"\"\"\n",
    "function lin_interp(x, fx)\n",
    "    return linear_interpolation(x, fx,\n",
    "    extrapolation_bc = Interpolations.Flat())\n",
    "    \n",
    "end"
   ]
  },
  {
   "cell_type": "code",
   "execution_count": 5,
   "metadata": {},
   "outputs": [
    {
     "data": {
      "text/plain": [
       "create_opt_savings_model"
      ]
     },
     "execution_count": 5,
     "metadata": {},
     "output_type": "execute_result"
    }
   ],
   "source": [
    "\"\"\"\n",
    "Create an instance of the model, stored as a namedtuple.\n",
    "\n",
    "\"\"\"\n",
    "function create_opt_savings_model(; β=0.9, #Discount factor\n",
    "                                    γ=2.0, #CRRA utility parameter\n",
    "                                    R=1.2, #Gross rate of return\n",
    "                                    w_size=200, #Grid size for wealth\n",
    "                                    w_max=10) #maximum wealth\n",
    "    w_grid = LinRange(1e-8, w_max, w_size) #Create the wealth grid\n",
    "    u(c)=c^(1-γ)/(1-γ)\n",
    "    v_init = u.(w_grid) #creating a vector of values for each point in the wealth grid\n",
    "    return (; β, u, R, w_grid, v_init)\n",
    "end\n"
   ]
  },
  {
   "cell_type": "code",
   "execution_count": 6,
   "metadata": {},
   "outputs": [
    {
     "data": {
      "text/plain": [
       "T"
      ]
     },
     "execution_count": 6,
     "metadata": {},
     "output_type": "execute_result"
    }
   ],
   "source": [
    "\"\"\"\n",
    "The Bellman operator\n",
    "\n",
    "    (Tv)(w) = min_{0 ≤ c ≤ w} { u(c) + β v(R(w - c))} Should be max and not min?\n",
    "\n",
    "\"\"\"\n",
    "function T(v, model)\n",
    "    (; β, u, R, w_grid) = model #let this define our model\n",
    "\n",
    "    v_new = similar(v) #create a new vector v_new of exactly the same type as v\n",
    "    v = lin_interp(w_grid, v)  \n",
    "\n",
    "    for (i, w) in enumerate(w_grid)\n",
    "        result = maximize(c -> u(c) + β * v(R * (w-c)), 0.0, w) #choose the value of c which maximises the statement for each point in the wealth grid\n",
    "        v_new[i]=Optim.maximum(result) \n",
    "    end\n",
    "\n",
    "    return v_new\n",
    "end\n"
   ]
  },
  {
   "cell_type": "code",
   "execution_count": 7,
   "metadata": {},
   "outputs": [
    {
     "data": {
      "text/plain": [
       "get_greedy"
      ]
     },
     "execution_count": 7,
     "metadata": {},
     "output_type": "execute_result"
    }
   ],
   "source": [
    "\" Get a v-greedy policy \"\n",
    "function get_greedy(v, model)\n",
    "    (; β, u, R, w_grid) = model\n",
    "    σ = similar(v) #again, create a new vector the same as v. This will be our policy function\n",
    "    v = lin_interp(w_grid, v)\n",
    "\n",
    "    for (i,w) in enumerate(w_grid)\n",
    "        result = maximize(c -> u(c) + β * v(R * (w-c)), 0.0, w)\n",
    "        σ[i]=Optim.maximizer(result) #Notice the difference to the above. The policy function selects which value of c was the maximiser.\n",
    "        \n",
    "    end\n",
    "\n",
    "    return σ\n",
    "end"
   ]
  },
  {
   "cell_type": "code",
   "execution_count": 8,
   "metadata": {},
   "outputs": [
    {
     "data": {
      "text/plain": [
       "vfi"
      ]
     },
     "execution_count": 8,
     "metadata": {},
     "output_type": "execute_result"
    }
   ],
   "source": [
    "\" Value Function Iteration\"\n",
    "function vfi(model;\n",
    "                tolerance=1e-6,\n",
    "                max_iter=10_000,\n",
    "                print_step=100)\n",
    "    \n",
    "    k = 0\n",
    "    error = tolerance + 1 #initial error, we just need this so we can start the loop\n",
    "    v=model.v_init \n",
    "\n",
    "    while (error > tolerance) & (k <= max_iter) \n",
    "        v_new = T(v, model)\n",
    "        error = maximum(abs.(v_new - v)) #supnorm. Error is the maximum pairwise distance\n",
    "        if k % print_step == 0\n",
    "            println(\"Completed iteration $k with error $error.\")\n",
    "        end\n",
    "        v = v_new\n",
    "        k += 1\n",
    "    end\n",
    "\n",
    "    if error <= tolerance\n",
    "        println(\"Terminated successfully in $k iterations\")\n",
    "    else\n",
    "        println(\"Warning: hit iteration bound.\")    \n",
    "    end\n",
    "\n",
    "    σ= get_greedy(v, model) #Given wealth w today, what value of consumption do I choose?\n",
    "    return σ, v\n",
    "    \n",
    "end"
   ]
  },
  {
   "cell_type": "code",
   "execution_count": 9,
   "metadata": {},
   "outputs": [
    {
     "data": {
      "text/plain": [
       "T_σ"
      ]
     },
     "execution_count": 9,
     "metadata": {},
     "output_type": "execute_result"
    }
   ],
   "source": [
    "\"\"\"\n",
    "The policy operator\n",
    "\n",
    "    (T_σ v)(w) =  u(σ(w)) + β v[R(w - σ(w))]\n",
    "\n",
    "\"\"\"\n",
    "function T_σ(v, σ, model)\n",
    "    (; β, u, R, w_grid) = model\n",
    "    # Add your code here\n",
    "    v_new= similar(v)\n",
    "    v=lin_interp(w_grid,v)\n",
    "\n",
    "    for (i, w) in enumerate(w_grid)\n",
    "        c=σ[i]\n",
    "        v_new[i]= u(c)+β*v(R*(w-c))\n",
    "    end\n",
    "\n",
    "    return v_new\n",
    "    \n",
    "\n",
    "end"
   ]
  },
  {
   "cell_type": "code",
   "execution_count": 10,
   "metadata": {},
   "outputs": [
    {
     "data": {
      "text/plain": [
       "get_value"
      ]
     },
     "execution_count": 10,
     "metadata": {},
     "output_type": "execute_result"
    }
   ],
   "source": [
    "\"Approximate lifetime value of policy σ.\" #Old code. John's code had a slightly different version; look below.\n",
    "function get_value(v_init, σ, m, model)\n",
    "    v = v_init\n",
    "    k=0\n",
    "    while k<m\n",
    "        v = T_σ(v, σ, model)\n",
    "        k+=1\n",
    "    end\n",
    "    return v\n",
    "    # Compute and return T_σ^m v_init\n",
    "    \n",
    "end"
   ]
  },
  {
   "cell_type": "code",
   "execution_count": 11,
   "metadata": {},
   "outputs": [
    {
     "data": {
      "text/plain": [
       "get_value"
      ]
     },
     "execution_count": 11,
     "metadata": {},
     "output_type": "execute_result"
    }
   ],
   "source": [
    "\"Approximate lifetime value of policy σ.\"\n",
    "function get_value(v_init, σ, m, model)\n",
    "    v = v_init\n",
    "    for i in 1:m\n",
    "        v = T_σ(v, σ, model)\n",
    "    end\n",
    "    return v\n",
    "    # Compute and return T_σ^m v_init\n",
    "end"
   ]
  },
  {
   "cell_type": "code",
   "execution_count": 12,
   "metadata": {},
   "outputs": [
    {
     "data": {
      "text/plain": [
       "opi"
      ]
     },
     "execution_count": 12,
     "metadata": {},
     "output_type": "execute_result"
    }
   ],
   "source": [
    "\"Optimistic policy iteration routine.\"\n",
    "function opi(model; \n",
    "              tolerance=1e-6, \n",
    "              max_iter=1_000,\n",
    "              m=20,\n",
    "              print_step=10)\n",
    "    v = model.v_init\n",
    "    # Put your code here\n",
    "    k = 0\n",
    "    error = tolerance + 1\n",
    "\n",
    "    while (error > tolerance) & (k<= max_iter)\n",
    "        σ_new=get_greedy(v, model)\n",
    "        v_new=get_value(v, σ_new, m, model)\n",
    "        #v_new = T_σ(v, σ, model)\n",
    "        error=maximum(abs.(v_new - v))\n",
    "        if k % print_step == 0\n",
    "            println(\"Completed iteration $k with error $error.\")\n",
    "        end\n",
    "        v=v_new\n",
    "        k+=1\n",
    "    end\n",
    "\n",
    "    if error <= tolerance\n",
    "        println(\"Terminated successfully in $k iterations.\")\n",
    "    else\n",
    "        println(\"Warning: hit iteration bound.\")\n",
    "    end\n",
    "\n",
    "    σ= get_greedy(v, model)\n",
    "    return σ, v\n",
    "end"
   ]
  },
  {
   "cell_type": "code",
   "execution_count": 13,
   "metadata": {},
   "outputs": [
    {
     "data": {
      "text/plain": [
       "12"
      ]
     },
     "execution_count": 13,
     "metadata": {},
     "output_type": "execute_result"
    }
   ],
   "source": [
    "using PyPlot\n",
    "using LaTeXStrings\n",
    "fontsize=12"
   ]
  },
  {
   "cell_type": "code",
   "execution_count": 14,
   "metadata": {},
   "outputs": [
    {
     "name": "stdout",
     "output_type": "stream",
     "text": [
      "Solving via VFI. \n",
      "\n",
      "\n",
      "Completed iteration 0 with error 9.000000634421515e7.\n",
      "Completed iteration 100 with error 2390.5260684490204.\n",
      "Completed iteration 200 with error 0.06349575519561768.\n",
      "Completed iteration 300 with error 1.6689300537109375e-6.\n",
      "Terminated successfully in 306 iterations\n",
      "  0.971230 seconds (1.68 M allocations: 114.843 MiB, 2.31% gc time, 94.74% compilation time)\n",
      "elapsed time (ns):  971230400\n",
      "gc time (ns):       22456100\n",
      "bytes allocated:    120421655\n",
      "pool allocs:        1679111\n",
      "non-pool GC allocs: 1292\n",
      "malloc() calls:     15\n",
      "free() calls:       33\n",
      "minor collections:  1\n",
      "full collections:   0\n"
     ]
    }
   ],
   "source": [
    "model = create_opt_savings_model()\n",
    "(; β, u, R, w_grid, v_init) = model;\n",
    "println(\"Solving via VFI. \\n\\n\")\n",
    "@timev σ_star, v_star = vfi(model);"
   ]
  },
  {
   "cell_type": "code",
   "execution_count": 15,
   "metadata": {},
   "outputs": [
    {
     "data": {
      "image/png": "[encoded data removed]",
      "text/plain": [
       "Figure(PyObject <Figure size 640x480 with 1 Axes>)"
      ]
     },
     "metadata": {},
     "output_type": "display_data"
    },
    {
     "data": {
      "text/plain": [
       "1-element Vector{PyCall.PyObject}:\n",
       " PyObject <matplotlib.lines.Line2D object at 0x000002342AFC0220>"
      ]
     },
     "execution_count": 15,
     "metadata": {},
     "output_type": "execute_result"
    }
   ],
   "source": [
    "plot(v_star)"
   ]
  },
  {
   "cell_type": "code",
   "execution_count": 16,
   "metadata": {},
   "outputs": [
    {
     "data": {
      "image/png": "[encoded data removed]",
      "text/plain": [
       "Figure(PyObject <Figure size 640x480 with 1 Axes>)"
      ]
     },
     "metadata": {},
     "output_type": "display_data"
    },
    {
     "data": {
      "text/plain": [
       "1-element Vector{PyCall.PyObject}:\n",
       " PyObject <matplotlib.lines.Line2D object at 0x00000234284ACBB0>"
      ]
     },
     "execution_count": 16,
     "metadata": {},
     "output_type": "execute_result"
    }
   ],
   "source": [
    "plot(σ_star)"
   ]
  },
  {
   "cell_type": "code",
   "execution_count": 17,
   "metadata": {},
   "outputs": [],
   "source": [
    "#model = create_opt_savings_model()\n",
    "#(; β, u, R, w_grid, v_init) = model;\n",
    "#σ=get_greedy(v_init, model)\n",
    "#v=get_value(v_init, σ, 20, model)"
   ]
  },
  {
   "cell_type": "code",
   "execution_count": 18,
   "metadata": {},
   "outputs": [
    {
     "name": "stdout",
     "output_type": "stream",
     "text": [
      "\n",
      "\n",
      "Solving via HPI.\n",
      "\n",
      "\n",
      "Completed iteration 0 with error 7.905810665975548e8.\n",
      "Completed iteration 10 with error 0.6048517163493692.\n",
      "Terminated successfully in 18 iterations.\n",
      "  0.134146 seconds (37.19 k allocations: 3.799 MiB, 92.52% compilation time)\n",
      "elapsed time (ns):  134146400\n",
      "gc time (ns):       0\n",
      "bytes allocated:    3983220\n",
      "pool allocs:        37135\n",
      "non-pool GC allocs: 59\n",
      "minor collections:  0\n",
      "full collections:   0\n"
     ]
    }
   ],
   "source": [
    "println(\"\\n\\nSolving via HPI.\\n\\n\")\n",
    "@timev σ_star_opi, v_star_hpi = opi(model); #Run time for m=20 is 0.05s. Run time for m=2000 is 0.72s. Run time for m=20000 is 6.45s. Just change the value of m in OPI."
   ]
  },
  {
   "cell_type": "code",
   "execution_count": 19,
   "metadata": {},
   "outputs": [
    {
     "data": {
      "image/png": "[encoded data removed]",
      "text/plain": [
       "Figure(PyObject <Figure size 640x480 with 1 Axes>)"
      ]
     },
     "metadata": {},
     "output_type": "display_data"
    },
    {
     "data": {
      "text/plain": [
       "1-element Vector{PyCall.PyObject}:\n",
       " PyObject <matplotlib.lines.Line2D object at 0x0000023428535A20>"
      ]
     },
     "execution_count": 19,
     "metadata": {},
     "output_type": "execute_result"
    }
   ],
   "source": [
    "plot(σ_star_opi)"
   ]
  },
  {
   "cell_type": "code",
   "execution_count": 20,
   "metadata": {},
   "outputs": [
    {
     "data": {
      "image/png": "[encoded data removed]",
      "text/plain": [
       "Figure(PyObject <Figure size 640x480 with 1 Axes>)"
      ]
     },
     "metadata": {},
     "output_type": "display_data"
    },
    {
     "data": {
      "text/plain": [
       "1-element Vector{PyCall.PyObject}:\n",
       " PyObject <matplotlib.lines.Line2D object at 0x000002342838A260>"
      ]
     },
     "execution_count": 20,
     "metadata": {},
     "output_type": "execute_result"
    }
   ],
   "source": [
    "plot(v_star_hpi)"
   ]
  }
 ],
 "metadata": {
  "kernelspec": {
   "display_name": "Julia 1.9.0",
   "language": "julia",
   "name": "julia-1.9"
  },
  "language_info": {
   "file_extension": ".jl",
   "mimetype": "application/julia",
   "name": "julia",
   "version": "1.9.0"
  }
 },
 "nbformat": 4,
 "nbformat_minor": 2
}
