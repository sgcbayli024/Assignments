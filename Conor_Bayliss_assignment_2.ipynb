{
  "cells": [
    {
      "cell_type": "markdown",
      "metadata": {
        "id": "view-in-github",
        "colab_type": "text"
      },
      "source": [
        "<a href=\"https://colab.research.google.com/github/sgcbayli024/Assignments/blob/main/Conor_Bayliss_assignment_2.ipynb\" target=\"_parent\"><img src=\"https://colab.research.google.com/assets/colab-badge.svg\" alt=\"Open In Colab\"/></a>"
      ]
    },
    {
      "cell_type": "code",
      "execution_count": 3,
      "metadata": {
        "id": "TinBleutXdz4"
      },
      "outputs": [],
      "source": [
        "import scipy"
      ]
    },
    {
      "cell_type": "code",
      "execution_count": 4,
      "metadata": {
        "id": "zwMoUcv-Xdz8"
      },
      "outputs": [],
      "source": [
        "import jax"
      ]
    },
    {
      "cell_type": "code",
      "execution_count": 5,
      "metadata": {
        "id": "Rn9kDHzFXdz9"
      },
      "outputs": [],
      "source": [
        "import jax.numpy as jnp"
      ]
    },
    {
      "cell_type": "code",
      "execution_count": 6,
      "metadata": {
        "id": "OEeVicMgXdz9"
      },
      "outputs": [],
      "source": [
        "from scipy.stats import arcsine"
      ]
    },
    {
      "cell_type": "code",
      "execution_count": 7,
      "metadata": {
        "id": "p8MVzlGYXdz-"
      },
      "outputs": [],
      "source": [
        "from scipy.stats import beta"
      ]
    },
    {
      "cell_type": "code",
      "execution_count": 8,
      "metadata": {
        "id": "OKEuHMw4Xdz-"
      },
      "outputs": [],
      "source": [
        "import math"
      ]
    },
    {
      "cell_type": "code",
      "execution_count": 9,
      "metadata": {
        "id": "8tDNN0TZXdz_"
      },
      "outputs": [],
      "source": [
        "import numpy as np"
      ]
    },
    {
      "cell_type": "code",
      "execution_count": 10,
      "metadata": {
        "id": "k5KgLcZyXdz_"
      },
      "outputs": [],
      "source": [
        "import matplotlib.pyplot as plt"
      ]
    },
    {
      "cell_type": "code",
      "source": [
        "import jax.random as jxr"
      ],
      "metadata": {
        "id": "BBWgsE5ql6YR"
      },
      "execution_count": 11,
      "outputs": []
    },
    {
      "cell_type": "code",
      "source": [
        "import time"
      ],
      "metadata": {
        "id": "nvPrhzepwHwM"
      },
      "execution_count": 26,
      "outputs": []
    },
    {
      "cell_type": "code",
      "execution_count": null,
      "metadata": {
        "id": "swFXXtkHXd0A"
      },
      "outputs": [],
      "source": [
        "n = 100000"
      ]
    },
    {
      "cell_type": "code",
      "execution_count": null,
      "metadata": {
        "id": "yCvQafowXd0A"
      },
      "outputs": [],
      "source": [
        "x_0 = np.random.beta(2,2, size=n) #create the vector of inital draws"
      ]
    },
    {
      "cell_type": "code",
      "execution_count": null,
      "metadata": {
        "id": "15D6Av8XXd0B"
      },
      "outputs": [],
      "source": [
        "x_0_copy=np.copy(x_0)"
      ]
    },
    {
      "cell_type": "code",
      "execution_count": null,
      "metadata": {
        "jupyter": {
          "outputs_hidden": true
        },
        "tags": [],
        "colab": {
          "base_uri": "https://localhost:8080/",
          "height": 1000
        },
        "id": "1u6ztt76Xd0B",
        "outputId": "0e077a1b-6658-4740-ee70-fb585abc407b"
      },
      "outputs": [
        {
          "output_type": "execute_result",
          "data": {
            "text/plain": [
              "(array([0.04319106, 0.097431  , 0.15870205, 0.22399086, 0.25512861,\n",
              "        0.32945741, 0.38871957, 0.46003505, 0.48514613, 0.50824833,\n",
              "        0.55244383, 0.65791038, 0.69005257, 0.63480819, 0.74831028,\n",
              "        0.79752801, 0.82565242, 0.88993679, 0.88792791, 0.94719006,\n",
              "        0.95422117, 1.0777677 , 0.96326116, 1.08680769, 1.11995432,\n",
              "        1.10187434, 1.1681676 , 1.20432756, 1.25153639, 1.26861193,\n",
              "        1.28066525, 1.29372301, 1.32084298, 1.31582076, 1.36001627,\n",
              "        1.35398961, 1.36202516, 1.41726954, 1.41927843, 1.48758057,\n",
              "        1.39115401, 1.45041617, 1.40923399, 1.48858502, 1.5207272 ,\n",
              "        1.48456724, 1.51570499, 1.5207272 , 1.44438951, 1.53177608,\n",
              "        1.54583829, 1.45644283, 1.49762501, 1.44539395, 1.51871832,\n",
              "        1.48255836, 1.42229176, 1.50164278, 1.44539395, 1.39215846,\n",
              "        1.38412291, 1.40521622, 1.38311847, 1.36001627, 1.40521622,\n",
              "        1.37106515, 1.36503849, 1.32084298, 1.35198072, 1.29070968,\n",
              "        1.17017648, 1.18825646, 1.25856749, 1.18524313, 1.11392766,\n",
              "        1.1380343 , 1.1149321 , 1.05667439, 0.9873678 , 0.96727893,\n",
              "        0.94919895, 0.95020339, 0.86382127, 0.84674573, 0.79150135,\n",
              "        0.77442581, 0.71918143, 0.6860348 , 0.67398148, 0.57353714,\n",
              "        0.51126166, 0.48615057, 0.46204393, 0.3847018 , 0.3314663 ,\n",
              "        0.2480975 , 0.22399086, 0.1576976 , 0.09843545, 0.03917329]),\n",
              " array([0.00221915, 0.01217492, 0.02213068, 0.03208644, 0.04204221,\n",
              "        0.05199797, 0.06195373, 0.0719095 , 0.08186526, 0.09182102,\n",
              "        0.10177679, 0.11173255, 0.12168831, 0.13164408, 0.14159984,\n",
              "        0.1515556 , 0.16151137, 0.17146713, 0.18142289, 0.19137866,\n",
              "        0.20133442, 0.21129018, 0.22124594, 0.23120171, 0.24115747,\n",
              "        0.25111323, 0.261069  , 0.27102476, 0.28098052, 0.29093629,\n",
              "        0.30089205, 0.31084781, 0.32080358, 0.33075934, 0.3407151 ,\n",
              "        0.35067087, 0.36062663, 0.37058239, 0.38053816, 0.39049392,\n",
              "        0.40044968, 0.41040545, 0.42036121, 0.43031697, 0.44027274,\n",
              "        0.4502285 , 0.46018426, 0.47014003, 0.48009579, 0.49005155,\n",
              "        0.50000732, 0.50996308, 0.51991884, 0.52987461, 0.53983037,\n",
              "        0.54978613, 0.55974189, 0.56969766, 0.57965342, 0.58960918,\n",
              "        0.59956495, 0.60952071, 0.61947647, 0.62943224, 0.639388  ,\n",
              "        0.64934376, 0.65929953, 0.66925529, 0.67921105, 0.68916682,\n",
              "        0.69912258, 0.70907834, 0.71903411, 0.72898987, 0.73894563,\n",
              "        0.7489014 , 0.75885716, 0.76881292, 0.77876869, 0.78872445,\n",
              "        0.79868021, 0.80863598, 0.81859174, 0.8285475 , 0.83850327,\n",
              "        0.84845903, 0.85841479, 0.86837056, 0.87832632, 0.88828208,\n",
              "        0.89823785, 0.90819361, 0.91814937, 0.92810513, 0.9380609 ,\n",
              "        0.94801666, 0.95797242, 0.96792819, 0.97788395, 0.98783971,\n",
              "        0.99779548]),\n",
              " <BarContainer object of 100 artists>)"
            ]
          },
          "metadata": {},
          "execution_count": 13
        },
        {
          "output_type": "display_data",
          "data": {
            "text/plain": [
              "<Figure size 640x480 with 1 Axes>"
            ],
            "image/png": "[encoded data removed]"
          },
          "metadata": {}
        }
      ],
      "source": [
        "plt.hist(x_0, density=True, bins=100) #time 0 distribution with beta(2,2)"
      ]
    },
    {
      "cell_type": "code",
      "execution_count": null,
      "metadata": {
        "id": "g-bjZBTWXd0C"
      },
      "outputs": [],
      "source": [
        "x_0_beta_5_2=np.random.beta(5,2, size=n)"
      ]
    },
    {
      "cell_type": "code",
      "execution_count": null,
      "metadata": {
        "id": "r7r5uhiTXd0C"
      },
      "outputs": [],
      "source": [
        "x_0_beta_5_2_copy=np.copy(x_0_beta_5_2)"
      ]
    },
    {
      "cell_type": "code",
      "execution_count": null,
      "metadata": {
        "jupyter": {
          "outputs_hidden": true
        },
        "tags": [],
        "colab": {
          "base_uri": "https://localhost:8080/",
          "height": 1000
        },
        "id": "BWU7If2dXd0D",
        "outputId": "b607831e-dcc3-48de-e126-c698ac051ce6"
      },
      "outputs": [
        {
          "output_type": "execute_result",
          "data": {
            "text/plain": [
              "(array([2.000e+00, 1.000e+00, 2.000e+00, 1.000e+00, 5.000e+00, 4.000e+00,\n",
              "        6.000e+00, 1.000e+01, 1.100e+01, 1.400e+01, 1.400e+01, 2.000e+01,\n",
              "        1.900e+01, 3.200e+01, 3.700e+01, 3.900e+01, 4.300e+01, 4.900e+01,\n",
              "        8.700e+01, 7.400e+01, 8.600e+01, 1.080e+02, 1.040e+02, 1.290e+02,\n",
              "        1.360e+02, 1.580e+02, 1.830e+02, 2.060e+02, 2.220e+02, 2.760e+02,\n",
              "        2.990e+02, 2.910e+02, 3.430e+02, 3.390e+02, 3.540e+02, 4.210e+02,\n",
              "        4.580e+02, 4.880e+02, 4.920e+02, 5.660e+02, 5.720e+02, 6.180e+02,\n",
              "        7.350e+02, 7.400e+02, 7.680e+02, 8.090e+02, 8.650e+02, 9.130e+02,\n",
              "        9.120e+02, 9.950e+02, 1.053e+03, 1.139e+03, 1.224e+03, 1.217e+03,\n",
              "        1.233e+03, 1.334e+03, 1.408e+03, 1.452e+03, 1.568e+03, 1.590e+03,\n",
              "        1.621e+03, 1.695e+03, 1.786e+03, 1.748e+03, 1.823e+03, 1.892e+03,\n",
              "        1.993e+03, 2.054e+03, 1.972e+03, 2.168e+03, 2.133e+03, 2.155e+03,\n",
              "        2.157e+03, 2.202e+03, 2.194e+03, 2.295e+03, 2.263e+03, 2.201e+03,\n",
              "        2.358e+03, 2.302e+03, 2.430e+03, 2.290e+03, 2.269e+03, 2.229e+03,\n",
              "        2.184e+03, 2.126e+03, 2.075e+03, 1.953e+03, 1.980e+03, 1.785e+03,\n",
              "        1.745e+03, 1.620e+03, 1.487e+03, 1.362e+03, 1.161e+03, 9.880e+02,\n",
              "        8.550e+02, 6.260e+02, 4.120e+02, 1.370e+02]),\n",
              " array([0.06053696, 0.06992085, 0.07930474, 0.08868863, 0.09807252,\n",
              "        0.10745642, 0.11684031, 0.1262242 , 0.13560809, 0.14499199,\n",
              "        0.15437588, 0.16375977, 0.17314366, 0.18252755, 0.19191145,\n",
              "        0.20129534, 0.21067923, 0.22006312, 0.22944702, 0.23883091,\n",
              "        0.2482148 , 0.25759869, 0.26698258, 0.27636648, 0.28575037,\n",
              "        0.29513426, 0.30451815, 0.31390204, 0.32328594, 0.33266983,\n",
              "        0.34205372, 0.35143761, 0.36082151, 0.3702054 , 0.37958929,\n",
              "        0.38897318, 0.39835707, 0.40774097, 0.41712486, 0.42650875,\n",
              "        0.43589264, 0.44527653, 0.45466043, 0.46404432, 0.47342821,\n",
              "        0.4828121 , 0.492196  , 0.50157989, 0.51096378, 0.52034767,\n",
              "        0.52973156, 0.53911546, 0.54849935, 0.55788324, 0.56726713,\n",
              "        0.57665103, 0.58603492, 0.59541881, 0.6048027 , 0.61418659,\n",
              "        0.62357049, 0.63295438, 0.64233827, 0.65172216, 0.66110605,\n",
              "        0.67048995, 0.67987384, 0.68925773, 0.69864162, 0.70802552,\n",
              "        0.71740941, 0.7267933 , 0.73617719, 0.74556108, 0.75494498,\n",
              "        0.76432887, 0.77371276, 0.78309665, 0.79248055, 0.80186444,\n",
              "        0.81124833, 0.82063222, 0.83001611, 0.83940001, 0.8487839 ,\n",
              "        0.85816779, 0.86755168, 0.87693557, 0.88631947, 0.89570336,\n",
              "        0.90508725, 0.91447114, 0.92385504, 0.93323893, 0.94262282,\n",
              "        0.95200671, 0.9613906 , 0.9707745 , 0.98015839, 0.98954228,\n",
              "        0.99892617]),\n",
              " <BarContainer object of 100 artists>)"
            ]
          },
          "metadata": {},
          "execution_count": 16
        },
        {
          "output_type": "display_data",
          "data": {
            "text/plain": [
              "<Figure size 640x480 with 1 Axes>"
            ],
            "image/png": "[encoded data removed]"
          },
          "metadata": {}
        }
      ],
      "source": [
        "plt.hist(x_0_beta_5_2, 100) #time 0 distribution with beta(5,2)"
      ]
    },
    {
      "cell_type": "code",
      "execution_count": null,
      "metadata": {
        "id": "CP0SJM1BXd0D"
      },
      "outputs": [],
      "source": [
        "x_0_beta_2_5=np.random.beta(2,5, size=n)"
      ]
    },
    {
      "cell_type": "code",
      "execution_count": null,
      "metadata": {
        "id": "uOvH4QVXXd0D"
      },
      "outputs": [],
      "source": [
        "x_0_beta_2_5_copy=np.copy(x_0_beta_2_5)"
      ]
    },
    {
      "cell_type": "code",
      "execution_count": null,
      "metadata": {
        "jupyter": {
          "outputs_hidden": true
        },
        "tags": [],
        "colab": {
          "base_uri": "https://localhost:8080/",
          "height": 1000
        },
        "id": "H_UNlU6iXd0D",
        "outputId": "99752f4f-d7cb-46dc-d0d2-98c0b2ccdd13"
      },
      "outputs": [
        {
          "output_type": "execute_result",
          "data": {
            "text/plain": [
              "(array([1.750e+02, 3.850e+02, 6.010e+02, 8.520e+02, 1.006e+03, 1.208e+03,\n",
              "        1.417e+03, 1.489e+03, 1.599e+03, 1.678e+03, 1.778e+03, 1.871e+03,\n",
              "        2.028e+03, 2.093e+03, 2.110e+03, 2.214e+03, 2.248e+03, 2.255e+03,\n",
              "        2.309e+03, 2.331e+03, 2.275e+03, 2.248e+03, 2.315e+03, 2.337e+03,\n",
              "        2.243e+03, 2.337e+03, 2.202e+03, 2.197e+03, 2.095e+03, 2.145e+03,\n",
              "        2.024e+03, 2.019e+03, 1.881e+03, 1.966e+03, 1.882e+03, 1.934e+03,\n",
              "        1.739e+03, 1.752e+03, 1.679e+03, 1.673e+03, 1.706e+03, 1.572e+03,\n",
              "        1.458e+03, 1.403e+03, 1.344e+03, 1.290e+03, 1.253e+03, 1.138e+03,\n",
              "        1.126e+03, 1.075e+03, 9.900e+02, 9.740e+02, 9.230e+02, 8.540e+02,\n",
              "        8.420e+02, 7.910e+02, 7.000e+02, 6.860e+02, 6.250e+02, 5.900e+02,\n",
              "        5.400e+02, 4.960e+02, 4.560e+02, 4.420e+02, 4.040e+02, 3.870e+02,\n",
              "        3.220e+02, 3.220e+02, 2.960e+02, 2.650e+02, 2.440e+02, 2.400e+02,\n",
              "        2.350e+02, 1.750e+02, 1.650e+02, 1.380e+02, 1.350e+02, 1.230e+02,\n",
              "        1.070e+02, 8.600e+01, 8.600e+01, 6.900e+01, 6.500e+01, 5.600e+01,\n",
              "        3.500e+01, 3.600e+01, 3.100e+01, 2.300e+01, 2.600e+01, 1.500e+01,\n",
              "        1.800e+01, 7.000e+00, 9.000e+00, 5.000e+00, 3.000e+00, 2.000e+00,\n",
              "        3.000e+00, 1.000e+00, 0.000e+00, 2.000e+00]),\n",
              " array([8.26765389e-04, 1.01961352e-02, 1.95655050e-02, 2.89348748e-02,\n",
              "        3.83042446e-02, 4.76736144e-02, 5.70429842e-02, 6.64123540e-02,\n",
              "        7.57817238e-02, 8.51510936e-02, 9.45204634e-02, 1.03889833e-01,\n",
              "        1.13259203e-01, 1.22628573e-01, 1.31997943e-01, 1.41367312e-01,\n",
              "        1.50736682e-01, 1.60106052e-01, 1.69475422e-01, 1.78844792e-01,\n",
              "        1.88214162e-01, 1.97583531e-01, 2.06952901e-01, 2.16322271e-01,\n",
              "        2.25691641e-01, 2.35061011e-01, 2.44430380e-01, 2.53799750e-01,\n",
              "        2.63169120e-01, 2.72538490e-01, 2.81907860e-01, 2.91277229e-01,\n",
              "        3.00646599e-01, 3.10015969e-01, 3.19385339e-01, 3.28754709e-01,\n",
              "        3.38124078e-01, 3.47493448e-01, 3.56862818e-01, 3.66232188e-01,\n",
              "        3.75601558e-01, 3.84970927e-01, 3.94340297e-01, 4.03709667e-01,\n",
              "        4.13079037e-01, 4.22448407e-01, 4.31817776e-01, 4.41187146e-01,\n",
              "        4.50556516e-01, 4.59925886e-01, 4.69295256e-01, 4.78664625e-01,\n",
              "        4.88033995e-01, 4.97403365e-01, 5.06772735e-01, 5.16142105e-01,\n",
              "        5.25511475e-01, 5.34880844e-01, 5.44250214e-01, 5.53619584e-01,\n",
              "        5.62988954e-01, 5.72358324e-01, 5.81727693e-01, 5.91097063e-01,\n",
              "        6.00466433e-01, 6.09835803e-01, 6.19205173e-01, 6.28574542e-01,\n",
              "        6.37943912e-01, 6.47313282e-01, 6.56682652e-01, 6.66052022e-01,\n",
              "        6.75421391e-01, 6.84790761e-01, 6.94160131e-01, 7.03529501e-01,\n",
              "        7.12898871e-01, 7.22268240e-01, 7.31637610e-01, 7.41006980e-01,\n",
              "        7.50376350e-01, 7.59745720e-01, 7.69115089e-01, 7.78484459e-01,\n",
              "        7.87853829e-01, 7.97223199e-01, 8.06592569e-01, 8.15961938e-01,\n",
              "        8.25331308e-01, 8.34700678e-01, 8.44070048e-01, 8.53439418e-01,\n",
              "        8.62808788e-01, 8.72178157e-01, 8.81547527e-01, 8.90916897e-01,\n",
              "        9.00286267e-01, 9.09655637e-01, 9.19025006e-01, 9.28394376e-01,\n",
              "        9.37763746e-01]),\n",
              " <BarContainer object of 100 artists>)"
            ]
          },
          "metadata": {},
          "execution_count": 19
        },
        {
          "output_type": "display_data",
          "data": {
            "text/plain": [
              "<Figure size 640x480 with 1 Axes>"
            ],
            "image/png": "[encoded data removed]"
          },
          "metadata": {}
        }
      ],
      "source": [
        "plt.hist(x_0_beta_2_5, 100) #time 0 distribution with beta(2,5)"
      ]
    },
    {
      "cell_type": "code",
      "execution_count": null,
      "metadata": {
        "id": "arb0GrTBXd0E"
      },
      "outputs": [],
      "source": [
        "def g(x):\n",
        "    return 4*x*(1-x)\n"
      ]
    },
    {
      "cell_type": "code",
      "execution_count": null,
      "metadata": {
        "id": "OWDv3sNTXd0E"
      },
      "outputs": [],
      "source": [
        "T=100"
      ]
    },
    {
      "cell_type": "code",
      "execution_count": null,
      "metadata": {
        "jupyter": {
          "outputs_hidden": true
        },
        "tags": [],
        "colab": {
          "base_uri": "https://localhost:8080/"
        },
        "id": "uK3KuoPbXd0E",
        "outputId": "406f36fd-6263-4afe-95fb-a827ba619dd8"
      },
      "outputs": [
        {
          "output_type": "execute_result",
          "data": {
            "text/plain": [
              "(100000,)"
            ]
          },
          "metadata": {},
          "execution_count": 22
        }
      ],
      "source": [
        "x_0.shape"
      ]
    },
    {
      "cell_type": "code",
      "execution_count": null,
      "metadata": {
        "colab": {
          "base_uri": "https://localhost:8080/"
        },
        "id": "IhQv6H8KXd0F",
        "outputId": "0912eacc-1bb4-485e-fd02-63d2992f9f8d"
      },
      "outputs": [
        {
          "output_type": "stream",
          "name": "stdout",
          "text": [
            "Done\n"
          ]
        }
      ],
      "source": [
        "x=x_0\n",
        "t=0\n",
        "while (t<T+1):\n",
        "    for i in range(n):\n",
        "        [x[i]]=[g(x[i])]\n",
        "    t+=1\n",
        "else:\n",
        "    print(\"Done\")"
      ]
    },
    {
      "cell_type": "code",
      "execution_count": null,
      "metadata": {
        "jupyter": {
          "outputs_hidden": true
        },
        "tags": [],
        "colab": {
          "base_uri": "https://localhost:8080/",
          "height": 829
        },
        "id": "h6VL5U08Xd0F",
        "outputId": "b614f2d5-ebd7-4d1d-9244-8434596b0682"
      },
      "outputs": [
        {
          "output_type": "execute_result",
          "data": {
            "text/plain": [
              "(array([6.326, 2.642, 2.024, 1.799, 1.528, 1.458, 1.275, 1.168, 1.175,\n",
              "        1.139, 1.027, 1.013, 0.994, 0.975, 0.92 , 0.853, 0.875, 0.781,\n",
              "        0.851, 0.772, 0.83 , 0.76 , 0.756, 0.774, 0.759, 0.7  , 0.715,\n",
              "        0.704, 0.695, 0.713, 0.661, 0.674, 0.69 , 0.705, 0.674, 0.693,\n",
              "        0.621, 0.658, 0.631, 0.668, 0.691, 0.663, 0.614, 0.611, 0.635,\n",
              "        0.61 , 0.641, 0.652, 0.592, 0.642, 0.607, 0.62 , 0.63 , 0.679,\n",
              "        0.656, 0.62 , 0.629, 0.611, 0.636, 0.647, 0.714, 0.634, 0.673,\n",
              "        0.682, 0.68 , 0.646, 0.738, 0.637, 0.656, 0.673, 0.729, 0.691,\n",
              "        0.692, 0.731, 0.698, 0.738, 0.722, 0.752, 0.756, 0.819, 0.857,\n",
              "        0.814, 0.82 , 0.899, 0.922, 0.928, 0.905, 0.925, 0.993, 1.065,\n",
              "        1.09 , 1.106, 1.186, 1.292, 1.371, 1.513, 1.687, 2.108, 2.629,\n",
              "        6.467]),\n",
              " array([0.  , 0.01, 0.02, 0.03, 0.04, 0.05, 0.06, 0.07, 0.08, 0.09, 0.1 ,\n",
              "        0.11, 0.12, 0.13, 0.14, 0.15, 0.16, 0.17, 0.18, 0.19, 0.2 , 0.21,\n",
              "        0.22, 0.23, 0.24, 0.25, 0.26, 0.27, 0.28, 0.29, 0.3 , 0.31, 0.32,\n",
              "        0.33, 0.34, 0.35, 0.36, 0.37, 0.38, 0.39, 0.4 , 0.41, 0.42, 0.43,\n",
              "        0.44, 0.45, 0.46, 0.47, 0.48, 0.49, 0.5 , 0.51, 0.52, 0.53, 0.54,\n",
              "        0.55, 0.56, 0.57, 0.58, 0.59, 0.6 , 0.61, 0.62, 0.63, 0.64, 0.65,\n",
              "        0.66, 0.67, 0.68, 0.69, 0.7 , 0.71, 0.72, 0.73, 0.74, 0.75, 0.76,\n",
              "        0.77, 0.78, 0.79, 0.8 , 0.81, 0.82, 0.83, 0.84, 0.85, 0.86, 0.87,\n",
              "        0.88, 0.89, 0.9 , 0.91, 0.92, 0.93, 0.94, 0.95, 0.96, 0.97, 0.98,\n",
              "        0.99, 1.  ]),\n",
              " <BarContainer object of 100 artists>)"
            ]
          },
          "metadata": {},
          "execution_count": 24
        },
        {
          "output_type": "display_data",
          "data": {
            "text/plain": [
              "<Figure size 640x480 with 1 Axes>"
            ],
            "image/png": "[encoded data removed]"
          },
          "metadata": {}
        }
      ],
      "source": [
        "plt.hist(x, density=True, bins=100)"
      ]
    },
    {
      "cell_type": "code",
      "execution_count": null,
      "metadata": {
        "colab": {
          "base_uri": "https://localhost:8080/"
        },
        "id": "NUyWUAFJXd0F",
        "outputId": "9009dd3c-8778-44bc-8daf-1c9b12e9b410"
      },
      "outputs": [
        {
          "output_type": "stream",
          "name": "stdout",
          "text": [
            "Done\n"
          ]
        }
      ],
      "source": [
        "x_2=x_0_beta_5_2\n",
        "t=0\n",
        "while (t<T+1):\n",
        "    for i in range(n):\n",
        "        [x_2[i]]=[g(x_2[i])]\n",
        "    t+=1\n",
        "else:\n",
        "    print(\"Done\")"
      ]
    },
    {
      "cell_type": "code",
      "execution_count": null,
      "metadata": {
        "jupyter": {
          "outputs_hidden": true
        },
        "tags": [],
        "colab": {
          "base_uri": "https://localhost:8080/",
          "height": 1000
        },
        "id": "rXJm9d8RXd0G",
        "outputId": "ede77be3-a4ca-41a7-cbcf-5f3ff517fba4"
      },
      "outputs": [
        {
          "output_type": "execute_result",
          "data": {
            "text/plain": [
              "(array([6.45900001, 2.58100001, 1.981     , 1.762     , 1.565     ,\n",
              "        1.387     , 1.295     , 1.172     , 1.182     , 1.137     ,\n",
              "        0.995     , 1.016     , 1.028     , 0.95      , 0.888     ,\n",
              "        0.867     , 0.806     , 0.812     , 0.821     , 0.803     ,\n",
              "        0.786     , 0.786     , 0.756     , 0.775     , 0.691     ,\n",
              "        0.745     , 0.748     , 0.718     , 0.716     , 0.698     ,\n",
              "        0.721     , 0.685     , 0.652     , 0.688     , 0.68      ,\n",
              "        0.669     , 0.693     , 0.639     , 0.67      , 0.65      ,\n",
              "        0.646     , 0.612     , 0.682     , 0.66      , 0.661     ,\n",
              "        0.626     , 0.622     , 0.651     , 0.64      , 0.615     ,\n",
              "        0.669     , 0.636     , 0.63      , 0.72      , 0.642     ,\n",
              "        0.64      , 0.643     , 0.639     , 0.611     , 0.678     ,\n",
              "        0.66      , 0.69      , 0.629     , 0.69      , 0.633     ,\n",
              "        0.654     , 0.699     , 0.659     , 0.747     , 0.707     ,\n",
              "        0.734     , 0.676     , 0.74      , 0.679     , 0.748     ,\n",
              "        0.702     , 0.775     , 0.749     , 0.757     , 0.794     ,\n",
              "        0.824     , 0.842     , 0.807     , 0.848     , 0.875     ,\n",
              "        0.92      , 0.9       , 0.935     , 1.        , 1.056     ,\n",
              "        1.06      , 1.19      , 1.23      , 1.244     , 1.387     ,\n",
              "        1.484     , 1.672     , 2.05      , 2.68800001, 6.27000001]),\n",
              " array([1.63274150e-09, 1.00000016e-02, 2.00000016e-02, 3.00000016e-02,\n",
              "        4.00000015e-02, 5.00000015e-02, 6.00000015e-02, 7.00000015e-02,\n",
              "        8.00000015e-02, 9.00000014e-02, 1.00000001e-01, 1.10000001e-01,\n",
              "        1.20000001e-01, 1.30000001e-01, 1.40000001e-01, 1.50000001e-01,\n",
              "        1.60000001e-01, 1.70000001e-01, 1.80000001e-01, 1.90000001e-01,\n",
              "        2.00000001e-01, 2.10000001e-01, 2.20000001e-01, 2.30000001e-01,\n",
              "        2.40000001e-01, 2.50000001e-01, 2.60000001e-01, 2.70000001e-01,\n",
              "        2.80000001e-01, 2.90000001e-01, 3.00000001e-01, 3.10000001e-01,\n",
              "        3.20000001e-01, 3.30000001e-01, 3.40000001e-01, 3.50000001e-01,\n",
              "        3.60000001e-01, 3.70000001e-01, 3.80000001e-01, 3.90000001e-01,\n",
              "        4.00000001e-01, 4.10000001e-01, 4.20000001e-01, 4.30000001e-01,\n",
              "        4.40000001e-01, 4.50000001e-01, 4.60000001e-01, 4.70000001e-01,\n",
              "        4.80000001e-01, 4.90000001e-01, 5.00000001e-01, 5.10000001e-01,\n",
              "        5.20000001e-01, 5.30000000e-01, 5.40000000e-01, 5.50000000e-01,\n",
              "        5.60000000e-01, 5.70000000e-01, 5.80000000e-01, 5.90000000e-01,\n",
              "        6.00000000e-01, 6.10000000e-01, 6.20000000e-01, 6.30000000e-01,\n",
              "        6.40000000e-01, 6.50000000e-01, 6.60000000e-01, 6.70000000e-01,\n",
              "        6.80000000e-01, 6.90000000e-01, 7.00000000e-01, 7.10000000e-01,\n",
              "        7.20000000e-01, 7.30000000e-01, 7.40000000e-01, 7.50000000e-01,\n",
              "        7.60000000e-01, 7.70000000e-01, 7.80000000e-01, 7.90000000e-01,\n",
              "        8.00000000e-01, 8.10000000e-01, 8.20000000e-01, 8.30000000e-01,\n",
              "        8.40000000e-01, 8.50000000e-01, 8.60000000e-01, 8.70000000e-01,\n",
              "        8.80000000e-01, 8.90000000e-01, 9.00000000e-01, 9.10000000e-01,\n",
              "        9.20000000e-01, 9.30000000e-01, 9.40000000e-01, 9.50000000e-01,\n",
              "        9.60000000e-01, 9.70000000e-01, 9.80000000e-01, 9.89999999e-01,\n",
              "        9.99999999e-01]),\n",
              " <BarContainer object of 100 artists>)"
            ]
          },
          "metadata": {},
          "execution_count": 26
        },
        {
          "output_type": "display_data",
          "data": {
            "text/plain": [
              "<Figure size 640x480 with 1 Axes>"
            ],
            "image/png": "[encoded data removed]"
          },
          "metadata": {}
        }
      ],
      "source": [
        "plt.hist(x_2, density=True,bins=100)"
      ]
    },
    {
      "cell_type": "code",
      "execution_count": null,
      "metadata": {
        "colab": {
          "base_uri": "https://localhost:8080/"
        },
        "id": "D6dHLzUUXd0G",
        "outputId": "296d31a1-2d9d-4dfa-e25a-8f34c62abb7e"
      },
      "outputs": [
        {
          "output_type": "stream",
          "name": "stdout",
          "text": [
            "Done\n"
          ]
        }
      ],
      "source": [
        "x_3=x_0_beta_2_5\n",
        "t=0\n",
        "while (t<T+1):\n",
        "    for i in range(n):\n",
        "        [x_3[i]]=[g(x_3[i])]\n",
        "    t+=1\n",
        "else:\n",
        "    print(\"Done\")"
      ]
    },
    {
      "cell_type": "code",
      "execution_count": null,
      "metadata": {
        "jupyter": {
          "outputs_hidden": true
        },
        "tags": [],
        "colab": {
          "base_uri": "https://localhost:8080/",
          "height": 1000
        },
        "id": "O-Xdr51WXd0G",
        "outputId": "e38f5e55-6976-4e6c-dcf6-9d3fb94e8999"
      },
      "outputs": [
        {
          "output_type": "execute_result",
          "data": {
            "text/plain": [
              "(array([6.401, 2.699, 2.037, 1.65 , 1.477, 1.389, 1.313, 1.256, 1.199,\n",
              "        1.157, 1.017, 1.01 , 0.986, 0.879, 0.907, 0.841, 0.845, 0.885,\n",
              "        0.866, 0.811, 0.787, 0.833, 0.762, 0.741, 0.733, 0.698, 0.701,\n",
              "        0.704, 0.738, 0.673, 0.655, 0.666, 0.652, 0.658, 0.637, 0.657,\n",
              "        0.646, 0.663, 0.675, 0.609, 0.665, 0.611, 0.669, 0.673, 0.648,\n",
              "        0.632, 0.659, 0.645, 0.617, 0.638, 0.627, 0.667, 0.646, 0.589,\n",
              "        0.656, 0.606, 0.641, 0.63 , 0.658, 0.653, 0.633, 0.607, 0.657,\n",
              "        0.649, 0.681, 0.692, 0.707, 0.66 , 0.698, 0.695, 0.709, 0.727,\n",
              "        0.737, 0.655, 0.713, 0.73 , 0.702, 0.792, 0.749, 0.828, 0.807,\n",
              "        0.819, 0.91 , 0.809, 0.939, 0.88 , 0.964, 0.959, 0.975, 1.042,\n",
              "        1.11 , 1.099, 1.212, 1.306, 1.371, 1.591, 1.721, 2.087, 2.665,\n",
              "        6.37 ]),\n",
              " array([2.6522784e-11, 1.0000000e-02, 2.0000000e-02, 3.0000000e-02,\n",
              "        4.0000000e-02, 5.0000000e-02, 6.0000000e-02, 7.0000000e-02,\n",
              "        8.0000000e-02, 9.0000000e-02, 1.0000000e-01, 1.1000000e-01,\n",
              "        1.2000000e-01, 1.3000000e-01, 1.4000000e-01, 1.5000000e-01,\n",
              "        1.6000000e-01, 1.7000000e-01, 1.8000000e-01, 1.9000000e-01,\n",
              "        2.0000000e-01, 2.1000000e-01, 2.2000000e-01, 2.3000000e-01,\n",
              "        2.4000000e-01, 2.5000000e-01, 2.6000000e-01, 2.7000000e-01,\n",
              "        2.8000000e-01, 2.9000000e-01, 3.0000000e-01, 3.1000000e-01,\n",
              "        3.2000000e-01, 3.3000000e-01, 3.4000000e-01, 3.5000000e-01,\n",
              "        3.6000000e-01, 3.7000000e-01, 3.8000000e-01, 3.9000000e-01,\n",
              "        4.0000000e-01, 4.1000000e-01, 4.2000000e-01, 4.3000000e-01,\n",
              "        4.4000000e-01, 4.5000000e-01, 4.6000000e-01, 4.7000000e-01,\n",
              "        4.8000000e-01, 4.9000000e-01, 5.0000000e-01, 5.1000000e-01,\n",
              "        5.2000000e-01, 5.3000000e-01, 5.4000000e-01, 5.5000000e-01,\n",
              "        5.6000000e-01, 5.7000000e-01, 5.8000000e-01, 5.9000000e-01,\n",
              "        6.0000000e-01, 6.1000000e-01, 6.2000000e-01, 6.3000000e-01,\n",
              "        6.4000000e-01, 6.5000000e-01, 6.6000000e-01, 6.7000000e-01,\n",
              "        6.8000000e-01, 6.9000000e-01, 7.0000000e-01, 7.1000000e-01,\n",
              "        7.2000000e-01, 7.3000000e-01, 7.4000000e-01, 7.5000000e-01,\n",
              "        7.6000000e-01, 7.7000000e-01, 7.8000000e-01, 7.9000000e-01,\n",
              "        8.0000000e-01, 8.1000000e-01, 8.2000000e-01, 8.3000000e-01,\n",
              "        8.4000000e-01, 8.5000000e-01, 8.6000000e-01, 8.7000000e-01,\n",
              "        8.8000000e-01, 8.9000000e-01, 9.0000000e-01, 9.1000000e-01,\n",
              "        9.2000000e-01, 9.3000000e-01, 9.4000000e-01, 9.5000000e-01,\n",
              "        9.6000000e-01, 9.7000000e-01, 9.8000000e-01, 9.9000000e-01,\n",
              "        1.0000000e+00]),\n",
              " <BarContainer object of 100 artists>)"
            ]
          },
          "metadata": {},
          "execution_count": 28
        },
        {
          "output_type": "display_data",
          "data": {
            "text/plain": [
              "<Figure size 640x480 with 1 Axes>"
            ],
            "image/png": "[encoded data removed]"
          },
          "metadata": {}
        }
      ],
      "source": [
        "plt.hist(x_3, density=True, bins=100)"
      ]
    },
    {
      "cell_type": "code",
      "execution_count": null,
      "metadata": {
        "id": "lMNgdvd3Xd0G"
      },
      "outputs": [],
      "source": [
        "input_array = np.linspace(arcsine.ppf(0.01), arcsine.ppf(0.99), 100)"
      ]
    },
    {
      "cell_type": "code",
      "execution_count": null,
      "metadata": {
        "id": "gYSkQf0VXd0H"
      },
      "outputs": [],
      "source": [
        "rv = arcsine()"
      ]
    },
    {
      "cell_type": "code",
      "execution_count": null,
      "metadata": {
        "jupyter": {
          "outputs_hidden": true
        },
        "tags": [],
        "colab": {
          "base_uri": "https://localhost:8080/",
          "height": 447
        },
        "id": "tcq92GnJXd0H",
        "outputId": "614c6294-e6b0-4958-de08-0d963de5e7ee"
      },
      "outputs": [
        {
          "output_type": "execute_result",
          "data": {
            "text/plain": [
              "[<matplotlib.lines.Line2D at 0x7fb260ddab30>]"
            ]
          },
          "metadata": {},
          "execution_count": 31
        },
        {
          "output_type": "display_data",
          "data": {
            "text/plain": [
              "<Figure size 640x480 with 1 Axes>"
            ],
            "image/png": "[encoded data removed]"
          },
          "metadata": {}
        }
      ],
      "source": [
        "plt.plot(input_array, rv.pdf(input_array))"
      ]
    },
    {
      "cell_type": "code",
      "execution_count": null,
      "metadata": {
        "jupyter": {
          "outputs_hidden": true
        },
        "tags": [],
        "colab": {
          "base_uri": "https://localhost:8080/",
          "height": 435
        },
        "id": "RSYkr1ETXd0H",
        "outputId": "fdffce5f-1ebe-4ade-f53b-465dd5999ff6"
      },
      "outputs": [
        {
          "output_type": "display_data",
          "data": {
            "text/plain": [
              "<Figure size 640x480 with 1 Axes>"
            ],
            "image/png": "[encoded data removed]"
          },
          "metadata": {}
        }
      ],
      "source": [
        "\n",
        "plt.hist(x_3, density=True, bins=100)\n",
        "plt.plot(input_array, rv.pdf(input_array))\n",
        "plt.ylim(0, 8)\n",
        "plt.show() #This is the Beta(2,5) distribution case"
      ]
    },
    {
      "cell_type": "code",
      "execution_count": null,
      "metadata": {
        "jupyter": {
          "outputs_hidden": true
        },
        "tags": [],
        "colab": {
          "base_uri": "https://localhost:8080/",
          "height": 435
        },
        "id": "Izuk_PPqXd0H",
        "outputId": "8564965a-9b40-4dbc-8ee8-925e3446da37"
      },
      "outputs": [
        {
          "output_type": "display_data",
          "data": {
            "text/plain": [
              "<Figure size 640x480 with 1 Axes>"
            ],
            "image/png": "[encoded data removed]"
          },
          "metadata": {}
        }
      ],
      "source": [
        "plt.hist(x, density=True, bins=100)\n",
        "plt.plot(input_array, rv.pdf(input_array))\n",
        "plt.ylim(0, 8)\n",
        "plt.show() #This is the Beta(2,2) distribution case"
      ]
    },
    {
      "cell_type": "code",
      "execution_count": null,
      "metadata": {
        "jupyter": {
          "outputs_hidden": true
        },
        "tags": [],
        "colab": {
          "base_uri": "https://localhost:8080/",
          "height": 435
        },
        "id": "BxWyWU0IXd0I",
        "outputId": "acddd5d9-7fa7-4b02-ffda-159e687155a5"
      },
      "outputs": [
        {
          "output_type": "display_data",
          "data": {
            "text/plain": [
              "<Figure size 640x480 with 1 Axes>"
            ],
            "image/png": "[encoded data removed]"
          },
          "metadata": {}
        }
      ],
      "source": [
        "plt.hist(x_2, density=True, bins=100)\n",
        "plt.plot(input_array, rv.pdf(input_array))\n",
        "plt.ylim(0, 8)\n",
        "plt.show()#This is the Beta(5,2) distribution case"
      ]
    },
    {
      "cell_type": "code",
      "execution_count": null,
      "metadata": {
        "id": "gBZbHLAlXd0I"
      },
      "outputs": [],
      "source": [
        "a, b = 2, 2"
      ]
    },
    {
      "cell_type": "code",
      "execution_count": null,
      "metadata": {
        "id": "yhFZrP3IXd0I"
      },
      "outputs": [],
      "source": [
        "beta_array = np.linspace(beta.ppf(0.0001, a, b), beta.ppf(0.99999, a, b), 100)"
      ]
    },
    {
      "cell_type": "code",
      "execution_count": null,
      "metadata": {
        "id": "rqpPNZhdXd0I"
      },
      "outputs": [],
      "source": [
        "rv_beta = beta(a, b)"
      ]
    },
    {
      "cell_type": "code",
      "execution_count": null,
      "metadata": {
        "jupyter": {
          "outputs_hidden": true
        },
        "scrolled": false,
        "tags": [],
        "colab": {
          "base_uri": "https://localhost:8080/",
          "height": 430
        },
        "id": "YpjtgYcgXd0J",
        "outputId": "92892a53-6759-46b5-dcf6-d25d0f161496"
      },
      "outputs": [
        {
          "output_type": "display_data",
          "data": {
            "text/plain": [
              "<Figure size 640x480 with 1 Axes>"
            ],
            "image/png": "[encoded data removed]"
          },
          "metadata": {}
        }
      ],
      "source": [
        "plt.hist(x_0_copy, density=True, bins=100)\n",
        "plt.plot(beta_array, rv_beta.pdf(beta_array))\n",
        "#plt.ylim(0, 8)\n",
        "plt.show() #This is the Beta(2,2) distribution case"
      ]
    },
    {
      "cell_type": "code",
      "execution_count": null,
      "metadata": {
        "id": "n95ksJi-Xd0J"
      },
      "outputs": [],
      "source": [
        "c = 5"
      ]
    },
    {
      "cell_type": "code",
      "execution_count": null,
      "metadata": {
        "id": "cvAyD5njXd0J"
      },
      "outputs": [],
      "source": [
        "rv_beta_5_2 = beta(c,b)"
      ]
    },
    {
      "cell_type": "code",
      "execution_count": null,
      "metadata": {
        "id": "KLK9QpbBXd0P"
      },
      "outputs": [],
      "source": [
        "beta_array_2 = np.linspace(beta.ppf(0.0001, c, b), beta.ppf(0.99999, c, b), 100)"
      ]
    },
    {
      "cell_type": "code",
      "execution_count": null,
      "metadata": {
        "jupyter": {
          "outputs_hidden": true
        },
        "tags": [],
        "colab": {
          "base_uri": "https://localhost:8080/",
          "height": 430
        },
        "id": "N-fpBcRRXd0P",
        "outputId": "0f809473-50a5-493b-8396-a0a8c26f28ca"
      },
      "outputs": [
        {
          "output_type": "display_data",
          "data": {
            "text/plain": [
              "<Figure size 640x480 with 1 Axes>"
            ],
            "image/png": "[encoded data removed]"
          },
          "metadata": {}
        }
      ],
      "source": [
        "plt.hist(x_0_beta_5_2_copy, density=True, bins=100)\n",
        "plt.plot(beta_array_2, rv_beta_5_2.pdf(beta_array_2))\n",
        "#plt.ylim(0, 8)\n",
        "plt.show() #This is the Beta(5,2) distribution case"
      ]
    },
    {
      "cell_type": "code",
      "execution_count": null,
      "metadata": {
        "id": "RhnpOIJkXd0P"
      },
      "outputs": [],
      "source": [
        "rv_beta_2_5 = beta(b,c)"
      ]
    },
    {
      "cell_type": "code",
      "execution_count": null,
      "metadata": {
        "id": "EvBrms9zXd0P"
      },
      "outputs": [],
      "source": [
        "beta_array_3 = np.linspace(beta.ppf(0.0001, b, c), beta.ppf(0.99999, b, c), 100)"
      ]
    },
    {
      "cell_type": "code",
      "execution_count": null,
      "metadata": {
        "jupyter": {
          "outputs_hidden": true
        },
        "scrolled": false,
        "tags": [],
        "colab": {
          "base_uri": "https://localhost:8080/",
          "height": 430
        },
        "id": "0baakoskXd0Q",
        "outputId": "cbd14ed8-ba57-4ff8-ebca-548169c4433b"
      },
      "outputs": [
        {
          "output_type": "display_data",
          "data": {
            "text/plain": [
              "<Figure size 640x480 with 1 Axes>"
            ],
            "image/png": "[encoded data removed]"
          },
          "metadata": {}
        }
      ],
      "source": [
        "plt.hist(x_0_beta_2_5_copy, density=True, bins=100)\n",
        "plt.plot(beta_array_3, rv_beta_2_5.pdf(beta_array_3))\n",
        "#plt.ylim(0, 8)\n",
        "plt.show() #This is the Beta(5,2) distribution case"
      ]
    },
    {
      "cell_type": "code",
      "execution_count": null,
      "metadata": {
        "id": "APOZta6uXd0Q"
      },
      "outputs": [],
      "source": [
        "#Now, let us use Jax. Remember that we imported Jax above."
      ]
    },
    {
      "cell_type": "code",
      "source": [
        "jax.config.update(\"jax_enable_x64\", True)"
      ],
      "metadata": {
        "id": "22_Z-VlSk-uj"
      },
      "execution_count": 135,
      "outputs": []
    },
    {
      "cell_type": "code",
      "source": [
        "@jax.jit\n",
        "def g(x):\n",
        "  return 4*x*(1-x)"
      ],
      "metadata": {
        "id": "exgiIPP_zEmb"
      },
      "execution_count": 142,
      "outputs": []
    },
    {
      "cell_type": "code",
      "source": [
        "@jax.jit\n",
        "def compute_g_jax(n_jax=10000000,T=100):\n",
        "  key=jxr.PRNGKey(1) #Need the random seed\n",
        "  y=jxr.uniform(key,(1,n_jax)) #Generate a vector, y, which stores the random draws.\n",
        "  #g_init=4*y[0,:]*(1-y[0,:]) #Apply the function to each element in the vector y.\n",
        "  g_init = y.at[0,:].apply(g) #Alternative method\n",
        "  for j in range(0,T-1):\n",
        "    #g_new=4*g_init[:]*(1-g_init[:]) #Create new vector g_new which applies the function elementwise to g_init\n",
        "    g_new = g_init.at[0,:].apply(g) #Alternative method\n",
        "    del g_init\n",
        "    g_init = g_new\n",
        "    del g_new\n",
        "  return g_init\n"
      ],
      "metadata": {
        "id": "eMGncTuimWxL"
      },
      "execution_count": 143,
      "outputs": []
    },
    {
      "cell_type": "code",
      "source": [
        "start_time = time.time()"
      ],
      "metadata": {
        "id": "x1hi6WdlwORs"
      },
      "execution_count": 153,
      "outputs": []
    },
    {
      "cell_type": "code",
      "source": [
        "y = compute_g_jax()"
      ],
      "metadata": {
        "id": "UZurpsCYus1N"
      },
      "execution_count": 154,
      "outputs": []
    },
    {
      "cell_type": "code",
      "source": [
        "end_time = time.time()\n",
        "execution_time = end_time - start_time\n",
        "print(f\"Execution time: {execution_time}\")"
      ],
      "metadata": {
        "colab": {
          "base_uri": "https://localhost:8080/"
        },
        "id": "X56CgqmvwDoF",
        "outputId": "da889786-ad47-479b-eed4-cb530dead72f"
      },
      "execution_count": 155,
      "outputs": [
        {
          "output_type": "stream",
          "name": "stdout",
          "text": [
            "Execution time: 0.3341836929321289\n"
          ]
        }
      ]
    },
    {
      "cell_type": "code",
      "source": [],
      "metadata": {
        "id": "nVr1t7nax6y7"
      },
      "execution_count": 152,
      "outputs": []
    }
  ],
  "metadata": {
    "kernelspec": {
      "display_name": "Python 3",
      "name": "python3"
    },
    "language_info": {
      "codemirror_mode": {
        "name": "ipython",
        "version": 3
      },
      "file_extension": ".py",
      "mimetype": "text/x-python",
      "name": "python",
      "nbconvert_exporter": "python",
      "pygments_lexer": "ipython3",
      "version": "3.10.9"
    },
    "colab": {
      "provenance": [],
      "gpuType": "T4",
      "include_colab_link": true
    },
    "accelerator": "GPU"
  },
  "nbformat": 4,
  "nbformat_minor": 0
}